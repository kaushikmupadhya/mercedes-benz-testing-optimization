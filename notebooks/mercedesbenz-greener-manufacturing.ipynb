{
 "cells": [
  {
   "cell_type": "code",
   "execution_count": 1,
   "id": "722deb63",
   "metadata": {
    "execution": {
     "iopub.execute_input": "2022-03-07T12:00:25.598800Z",
     "iopub.status.busy": "2022-03-07T12:00:25.597645Z",
     "iopub.status.idle": "2022-03-07T12:00:26.576945Z",
     "shell.execute_reply": "2022-03-07T12:00:26.576257Z",
     "shell.execute_reply.started": "2022-03-07T11:59:10.816887Z"
    },
    "papermill": {
     "duration": 1.045018,
     "end_time": "2022-03-07T12:00:26.577099",
     "exception": false,
     "start_time": "2022-03-07T12:00:25.532081",
     "status": "completed"
    },
    "tags": []
   },
   "outputs": [],
   "source": [
    "import numpy as np\n",
    "import pandas as pd\n",
    "import matplotlib.pyplot as plt\n",
    "import seaborn as sns"
   ]
  },
  {
   "cell_type": "markdown",
   "id": "65a5a0ac",
   "metadata": {
    "papermill": {
     "duration": 0.057319,
     "end_time": "2022-03-07T12:00:26.694033",
     "exception": false,
     "start_time": "2022-03-07T12:00:26.636714",
     "status": "completed"
    },
    "tags": []
   },
   "source": [
    "# install xgboost if not installed\n"
   ]
  },
  {
   "cell_type": "code",
   "execution_count": 2,
   "id": "8597464d",
   "metadata": {
    "execution": {
     "iopub.execute_input": "2022-03-07T12:00:26.814876Z",
     "iopub.status.busy": "2022-03-07T12:00:26.814197Z",
     "iopub.status.idle": "2022-03-07T12:00:36.396835Z",
     "shell.execute_reply": "2022-03-07T12:00:36.397286Z",
     "shell.execute_reply.started": "2022-03-07T11:59:14.638148Z"
    },
    "papermill": {
     "duration": 9.645577,
     "end_time": "2022-03-07T12:00:36.397466",
     "exception": false,
     "start_time": "2022-03-07T12:00:26.751889",
     "status": "completed"
    },
    "tags": []
   },
   "outputs": [
    {
     "name": "stdout",
     "output_type": "stream",
     "text": [
      "Requirement already satisfied: xgboost in /opt/conda/lib/python3.7/site-packages (1.5.2)\r\n",
      "Requirement already satisfied: scipy in /opt/conda/lib/python3.7/site-packages (from xgboost) (1.7.3)\r\n",
      "Requirement already satisfied: numpy in /opt/conda/lib/python3.7/site-packages (from xgboost) (1.20.3)\r\n",
      "\u001b[33mWARNING: Running pip as the 'root' user can result in broken permissions and conflicting behaviour with the system package manager. It is recommended to use a virtual environment instead: https://pip.pypa.io/warnings/venv\u001b[0m\r\n",
      "Note: you may need to restart the kernel to use updated packages.\n"
     ]
    }
   ],
   "source": [
    "pip install xgboost\n"
   ]
  },
  {
   "cell_type": "code",
   "execution_count": 3,
   "id": "4c82cbc9",
   "metadata": {
    "execution": {
     "iopub.execute_input": "2022-03-07T12:00:36.524582Z",
     "iopub.status.busy": "2022-03-07T12:00:36.523874Z",
     "iopub.status.idle": "2022-03-07T12:00:36.781575Z",
     "shell.execute_reply": "2022-03-07T12:00:36.780845Z",
     "shell.execute_reply.started": "2022-03-07T11:59:23.770735Z"
    },
    "papermill": {
     "duration": 0.324058,
     "end_time": "2022-03-07T12:00:36.781728",
     "exception": false,
     "start_time": "2022-03-07T12:00:36.457670",
     "status": "completed"
    },
    "tags": []
   },
   "outputs": [],
   "source": [
    "import xgboost as xgb"
   ]
  },
  {
   "cell_type": "markdown",
   "id": "ecf65d3f",
   "metadata": {
    "papermill": {
     "duration": 0.059519,
     "end_time": "2022-03-07T12:00:36.901972",
     "exception": false,
     "start_time": "2022-03-07T12:00:36.842453",
     "status": "completed"
    },
    "tags": []
   },
   "source": [
    "### Load data test and train"
   ]
  },
  {
   "cell_type": "code",
   "execution_count": 4,
   "id": "8f1bfd87",
   "metadata": {
    "execution": {
     "iopub.execute_input": "2022-03-07T12:00:37.026063Z",
     "iopub.status.busy": "2022-03-07T12:00:37.025359Z",
     "iopub.status.idle": "2022-03-07T12:00:37.385725Z",
     "shell.execute_reply": "2022-03-07T12:00:37.385211Z",
     "shell.execute_reply.started": "2022-03-07T11:59:38.316392Z"
    },
    "papermill": {
     "duration": 0.425125,
     "end_time": "2022-03-07T12:00:37.385875",
     "exception": false,
     "start_time": "2022-03-07T12:00:36.960750",
     "status": "completed"
    },
    "tags": []
   },
   "outputs": [],
   "source": [
    "test_df=pd.read_csv(\"/kaggle/input/mercedesbenz-greener-manufacturing/test.csv\")\n",
    "train_df=pd.read_csv(\"/kaggle/input/mercedesbenz-greener-manufacturing/train.csv\")"
   ]
  },
  {
   "cell_type": "code",
   "execution_count": 5,
   "id": "a5545218",
   "metadata": {
    "execution": {
     "iopub.execute_input": "2022-03-07T12:00:37.512546Z",
     "iopub.status.busy": "2022-03-07T12:00:37.511889Z",
     "iopub.status.idle": "2022-03-07T12:00:37.535618Z",
     "shell.execute_reply": "2022-03-07T12:00:37.536068Z",
     "shell.execute_reply.started": "2022-03-07T11:59:41.998942Z"
    },
    "papermill": {
     "duration": 0.091085,
     "end_time": "2022-03-07T12:00:37.536221",
     "exception": false,
     "start_time": "2022-03-07T12:00:37.445136",
     "status": "completed"
    },
    "tags": []
   },
   "outputs": [
    {
     "data": {
      "text/html": [
       "<div>\n",
       "<style scoped>\n",
       "    .dataframe tbody tr th:only-of-type {\n",
       "        vertical-align: middle;\n",
       "    }\n",
       "\n",
       "    .dataframe tbody tr th {\n",
       "        vertical-align: top;\n",
       "    }\n",
       "\n",
       "    .dataframe thead th {\n",
       "        text-align: right;\n",
       "    }\n",
       "</style>\n",
       "<table border=\"1\" class=\"dataframe\">\n",
       "  <thead>\n",
       "    <tr style=\"text-align: right;\">\n",
       "      <th></th>\n",
       "      <th>ID</th>\n",
       "      <th>X0</th>\n",
       "      <th>X1</th>\n",
       "      <th>X2</th>\n",
       "      <th>X3</th>\n",
       "      <th>X4</th>\n",
       "      <th>X5</th>\n",
       "      <th>X6</th>\n",
       "      <th>X8</th>\n",
       "      <th>X10</th>\n",
       "      <th>...</th>\n",
       "      <th>X375</th>\n",
       "      <th>X376</th>\n",
       "      <th>X377</th>\n",
       "      <th>X378</th>\n",
       "      <th>X379</th>\n",
       "      <th>X380</th>\n",
       "      <th>X382</th>\n",
       "      <th>X383</th>\n",
       "      <th>X384</th>\n",
       "      <th>X385</th>\n",
       "    </tr>\n",
       "  </thead>\n",
       "  <tbody>\n",
       "    <tr>\n",
       "      <th>0</th>\n",
       "      <td>1</td>\n",
       "      <td>az</td>\n",
       "      <td>v</td>\n",
       "      <td>n</td>\n",
       "      <td>f</td>\n",
       "      <td>d</td>\n",
       "      <td>t</td>\n",
       "      <td>a</td>\n",
       "      <td>w</td>\n",
       "      <td>0</td>\n",
       "      <td>...</td>\n",
       "      <td>0</td>\n",
       "      <td>0</td>\n",
       "      <td>0</td>\n",
       "      <td>1</td>\n",
       "      <td>0</td>\n",
       "      <td>0</td>\n",
       "      <td>0</td>\n",
       "      <td>0</td>\n",
       "      <td>0</td>\n",
       "      <td>0</td>\n",
       "    </tr>\n",
       "    <tr>\n",
       "      <th>1</th>\n",
       "      <td>2</td>\n",
       "      <td>t</td>\n",
       "      <td>b</td>\n",
       "      <td>ai</td>\n",
       "      <td>a</td>\n",
       "      <td>d</td>\n",
       "      <td>b</td>\n",
       "      <td>g</td>\n",
       "      <td>y</td>\n",
       "      <td>0</td>\n",
       "      <td>...</td>\n",
       "      <td>0</td>\n",
       "      <td>0</td>\n",
       "      <td>1</td>\n",
       "      <td>0</td>\n",
       "      <td>0</td>\n",
       "      <td>0</td>\n",
       "      <td>0</td>\n",
       "      <td>0</td>\n",
       "      <td>0</td>\n",
       "      <td>0</td>\n",
       "    </tr>\n",
       "    <tr>\n",
       "      <th>2</th>\n",
       "      <td>3</td>\n",
       "      <td>az</td>\n",
       "      <td>v</td>\n",
       "      <td>as</td>\n",
       "      <td>f</td>\n",
       "      <td>d</td>\n",
       "      <td>a</td>\n",
       "      <td>j</td>\n",
       "      <td>j</td>\n",
       "      <td>0</td>\n",
       "      <td>...</td>\n",
       "      <td>0</td>\n",
       "      <td>0</td>\n",
       "      <td>0</td>\n",
       "      <td>1</td>\n",
       "      <td>0</td>\n",
       "      <td>0</td>\n",
       "      <td>0</td>\n",
       "      <td>0</td>\n",
       "      <td>0</td>\n",
       "      <td>0</td>\n",
       "    </tr>\n",
       "    <tr>\n",
       "      <th>3</th>\n",
       "      <td>4</td>\n",
       "      <td>az</td>\n",
       "      <td>l</td>\n",
       "      <td>n</td>\n",
       "      <td>f</td>\n",
       "      <td>d</td>\n",
       "      <td>z</td>\n",
       "      <td>l</td>\n",
       "      <td>n</td>\n",
       "      <td>0</td>\n",
       "      <td>...</td>\n",
       "      <td>0</td>\n",
       "      <td>0</td>\n",
       "      <td>0</td>\n",
       "      <td>1</td>\n",
       "      <td>0</td>\n",
       "      <td>0</td>\n",
       "      <td>0</td>\n",
       "      <td>0</td>\n",
       "      <td>0</td>\n",
       "      <td>0</td>\n",
       "    </tr>\n",
       "    <tr>\n",
       "      <th>4</th>\n",
       "      <td>5</td>\n",
       "      <td>w</td>\n",
       "      <td>s</td>\n",
       "      <td>as</td>\n",
       "      <td>c</td>\n",
       "      <td>d</td>\n",
       "      <td>y</td>\n",
       "      <td>i</td>\n",
       "      <td>m</td>\n",
       "      <td>0</td>\n",
       "      <td>...</td>\n",
       "      <td>1</td>\n",
       "      <td>0</td>\n",
       "      <td>0</td>\n",
       "      <td>0</td>\n",
       "      <td>0</td>\n",
       "      <td>0</td>\n",
       "      <td>0</td>\n",
       "      <td>0</td>\n",
       "      <td>0</td>\n",
       "      <td>0</td>\n",
       "    </tr>\n",
       "  </tbody>\n",
       "</table>\n",
       "<p>5 rows × 377 columns</p>\n",
       "</div>"
      ],
      "text/plain": [
       "   ID  X0 X1  X2 X3 X4 X5 X6 X8  X10  ...  X375  X376  X377  X378  X379  X380  \\\n",
       "0   1  az  v   n  f  d  t  a  w    0  ...     0     0     0     1     0     0   \n",
       "1   2   t  b  ai  a  d  b  g  y    0  ...     0     0     1     0     0     0   \n",
       "2   3  az  v  as  f  d  a  j  j    0  ...     0     0     0     1     0     0   \n",
       "3   4  az  l   n  f  d  z  l  n    0  ...     0     0     0     1     0     0   \n",
       "4   5   w  s  as  c  d  y  i  m    0  ...     1     0     0     0     0     0   \n",
       "\n",
       "   X382  X383  X384  X385  \n",
       "0     0     0     0     0  \n",
       "1     0     0     0     0  \n",
       "2     0     0     0     0  \n",
       "3     0     0     0     0  \n",
       "4     0     0     0     0  \n",
       "\n",
       "[5 rows x 377 columns]"
      ]
     },
     "execution_count": 5,
     "metadata": {},
     "output_type": "execute_result"
    }
   ],
   "source": [
    "test_df.head()"
   ]
  },
  {
   "cell_type": "code",
   "execution_count": 6,
   "id": "2307c1fe",
   "metadata": {
    "execution": {
     "iopub.execute_input": "2022-03-07T12:00:37.676394Z",
     "iopub.status.busy": "2022-03-07T12:00:37.675691Z",
     "iopub.status.idle": "2022-03-07T12:00:37.679188Z",
     "shell.execute_reply": "2022-03-07T12:00:37.678694Z",
     "shell.execute_reply.started": "2022-03-07T11:59:43.446119Z"
    },
    "papermill": {
     "duration": 0.083781,
     "end_time": "2022-03-07T12:00:37.679328",
     "exception": false,
     "start_time": "2022-03-07T12:00:37.595547",
     "status": "completed"
    },
    "tags": []
   },
   "outputs": [
    {
     "data": {
      "text/html": [
       "<div>\n",
       "<style scoped>\n",
       "    .dataframe tbody tr th:only-of-type {\n",
       "        vertical-align: middle;\n",
       "    }\n",
       "\n",
       "    .dataframe tbody tr th {\n",
       "        vertical-align: top;\n",
       "    }\n",
       "\n",
       "    .dataframe thead th {\n",
       "        text-align: right;\n",
       "    }\n",
       "</style>\n",
       "<table border=\"1\" class=\"dataframe\">\n",
       "  <thead>\n",
       "    <tr style=\"text-align: right;\">\n",
       "      <th></th>\n",
       "      <th>ID</th>\n",
       "      <th>y</th>\n",
       "      <th>X0</th>\n",
       "      <th>X1</th>\n",
       "      <th>X2</th>\n",
       "      <th>X3</th>\n",
       "      <th>X4</th>\n",
       "      <th>X5</th>\n",
       "      <th>X6</th>\n",
       "      <th>X8</th>\n",
       "      <th>...</th>\n",
       "      <th>X375</th>\n",
       "      <th>X376</th>\n",
       "      <th>X377</th>\n",
       "      <th>X378</th>\n",
       "      <th>X379</th>\n",
       "      <th>X380</th>\n",
       "      <th>X382</th>\n",
       "      <th>X383</th>\n",
       "      <th>X384</th>\n",
       "      <th>X385</th>\n",
       "    </tr>\n",
       "  </thead>\n",
       "  <tbody>\n",
       "    <tr>\n",
       "      <th>0</th>\n",
       "      <td>0</td>\n",
       "      <td>130.81</td>\n",
       "      <td>k</td>\n",
       "      <td>v</td>\n",
       "      <td>at</td>\n",
       "      <td>a</td>\n",
       "      <td>d</td>\n",
       "      <td>u</td>\n",
       "      <td>j</td>\n",
       "      <td>o</td>\n",
       "      <td>...</td>\n",
       "      <td>0</td>\n",
       "      <td>0</td>\n",
       "      <td>1</td>\n",
       "      <td>0</td>\n",
       "      <td>0</td>\n",
       "      <td>0</td>\n",
       "      <td>0</td>\n",
       "      <td>0</td>\n",
       "      <td>0</td>\n",
       "      <td>0</td>\n",
       "    </tr>\n",
       "    <tr>\n",
       "      <th>1</th>\n",
       "      <td>6</td>\n",
       "      <td>88.53</td>\n",
       "      <td>k</td>\n",
       "      <td>t</td>\n",
       "      <td>av</td>\n",
       "      <td>e</td>\n",
       "      <td>d</td>\n",
       "      <td>y</td>\n",
       "      <td>l</td>\n",
       "      <td>o</td>\n",
       "      <td>...</td>\n",
       "      <td>1</td>\n",
       "      <td>0</td>\n",
       "      <td>0</td>\n",
       "      <td>0</td>\n",
       "      <td>0</td>\n",
       "      <td>0</td>\n",
       "      <td>0</td>\n",
       "      <td>0</td>\n",
       "      <td>0</td>\n",
       "      <td>0</td>\n",
       "    </tr>\n",
       "    <tr>\n",
       "      <th>2</th>\n",
       "      <td>7</td>\n",
       "      <td>76.26</td>\n",
       "      <td>az</td>\n",
       "      <td>w</td>\n",
       "      <td>n</td>\n",
       "      <td>c</td>\n",
       "      <td>d</td>\n",
       "      <td>x</td>\n",
       "      <td>j</td>\n",
       "      <td>x</td>\n",
       "      <td>...</td>\n",
       "      <td>0</td>\n",
       "      <td>0</td>\n",
       "      <td>0</td>\n",
       "      <td>0</td>\n",
       "      <td>0</td>\n",
       "      <td>0</td>\n",
       "      <td>1</td>\n",
       "      <td>0</td>\n",
       "      <td>0</td>\n",
       "      <td>0</td>\n",
       "    </tr>\n",
       "    <tr>\n",
       "      <th>3</th>\n",
       "      <td>9</td>\n",
       "      <td>80.62</td>\n",
       "      <td>az</td>\n",
       "      <td>t</td>\n",
       "      <td>n</td>\n",
       "      <td>f</td>\n",
       "      <td>d</td>\n",
       "      <td>x</td>\n",
       "      <td>l</td>\n",
       "      <td>e</td>\n",
       "      <td>...</td>\n",
       "      <td>0</td>\n",
       "      <td>0</td>\n",
       "      <td>0</td>\n",
       "      <td>0</td>\n",
       "      <td>0</td>\n",
       "      <td>0</td>\n",
       "      <td>0</td>\n",
       "      <td>0</td>\n",
       "      <td>0</td>\n",
       "      <td>0</td>\n",
       "    </tr>\n",
       "    <tr>\n",
       "      <th>4</th>\n",
       "      <td>13</td>\n",
       "      <td>78.02</td>\n",
       "      <td>az</td>\n",
       "      <td>v</td>\n",
       "      <td>n</td>\n",
       "      <td>f</td>\n",
       "      <td>d</td>\n",
       "      <td>h</td>\n",
       "      <td>d</td>\n",
       "      <td>n</td>\n",
       "      <td>...</td>\n",
       "      <td>0</td>\n",
       "      <td>0</td>\n",
       "      <td>0</td>\n",
       "      <td>0</td>\n",
       "      <td>0</td>\n",
       "      <td>0</td>\n",
       "      <td>0</td>\n",
       "      <td>0</td>\n",
       "      <td>0</td>\n",
       "      <td>0</td>\n",
       "    </tr>\n",
       "  </tbody>\n",
       "</table>\n",
       "<p>5 rows × 378 columns</p>\n",
       "</div>"
      ],
      "text/plain": [
       "   ID       y  X0 X1  X2 X3 X4 X5 X6 X8  ...  X375  X376  X377  X378  X379  \\\n",
       "0   0  130.81   k  v  at  a  d  u  j  o  ...     0     0     1     0     0   \n",
       "1   6   88.53   k  t  av  e  d  y  l  o  ...     1     0     0     0     0   \n",
       "2   7   76.26  az  w   n  c  d  x  j  x  ...     0     0     0     0     0   \n",
       "3   9   80.62  az  t   n  f  d  x  l  e  ...     0     0     0     0     0   \n",
       "4  13   78.02  az  v   n  f  d  h  d  n  ...     0     0     0     0     0   \n",
       "\n",
       "   X380  X382  X383  X384  X385  \n",
       "0     0     0     0     0     0  \n",
       "1     0     0     0     0     0  \n",
       "2     0     1     0     0     0  \n",
       "3     0     0     0     0     0  \n",
       "4     0     0     0     0     0  \n",
       "\n",
       "[5 rows x 378 columns]"
      ]
     },
     "execution_count": 6,
     "metadata": {},
     "output_type": "execute_result"
    }
   ],
   "source": [
    "train_df.head()"
   ]
  },
  {
   "cell_type": "code",
   "execution_count": 7,
   "id": "36ba54e7",
   "metadata": {
    "execution": {
     "iopub.execute_input": "2022-03-07T12:00:37.811831Z",
     "iopub.status.busy": "2022-03-07T12:00:37.811181Z",
     "iopub.status.idle": "2022-03-07T12:00:38.476849Z",
     "shell.execute_reply": "2022-03-07T12:00:38.477425Z",
     "shell.execute_reply.started": "2022-03-07T11:59:44.278686Z"
    },
    "papermill": {
     "duration": 0.732781,
     "end_time": "2022-03-07T12:00:38.477595",
     "exception": false,
     "start_time": "2022-03-07T12:00:37.744814",
     "status": "completed"
    },
    "tags": []
   },
   "outputs": [
    {
     "data": {
      "text/html": [
       "<div>\n",
       "<style scoped>\n",
       "    .dataframe tbody tr th:only-of-type {\n",
       "        vertical-align: middle;\n",
       "    }\n",
       "\n",
       "    .dataframe tbody tr th {\n",
       "        vertical-align: top;\n",
       "    }\n",
       "\n",
       "    .dataframe thead th {\n",
       "        text-align: right;\n",
       "    }\n",
       "</style>\n",
       "<table border=\"1\" class=\"dataframe\">\n",
       "  <thead>\n",
       "    <tr style=\"text-align: right;\">\n",
       "      <th></th>\n",
       "      <th>ID</th>\n",
       "      <th>y</th>\n",
       "      <th>X10</th>\n",
       "      <th>X11</th>\n",
       "      <th>X12</th>\n",
       "      <th>X13</th>\n",
       "      <th>X14</th>\n",
       "      <th>X15</th>\n",
       "      <th>X16</th>\n",
       "      <th>X17</th>\n",
       "      <th>...</th>\n",
       "      <th>X375</th>\n",
       "      <th>X376</th>\n",
       "      <th>X377</th>\n",
       "      <th>X378</th>\n",
       "      <th>X379</th>\n",
       "      <th>X380</th>\n",
       "      <th>X382</th>\n",
       "      <th>X383</th>\n",
       "      <th>X384</th>\n",
       "      <th>X385</th>\n",
       "    </tr>\n",
       "  </thead>\n",
       "  <tbody>\n",
       "    <tr>\n",
       "      <th>count</th>\n",
       "      <td>4209.000000</td>\n",
       "      <td>4209.000000</td>\n",
       "      <td>4209.000000</td>\n",
       "      <td>4209.0</td>\n",
       "      <td>4209.000000</td>\n",
       "      <td>4209.000000</td>\n",
       "      <td>4209.000000</td>\n",
       "      <td>4209.000000</td>\n",
       "      <td>4209.000000</td>\n",
       "      <td>4209.000000</td>\n",
       "      <td>...</td>\n",
       "      <td>4209.000000</td>\n",
       "      <td>4209.000000</td>\n",
       "      <td>4209.000000</td>\n",
       "      <td>4209.000000</td>\n",
       "      <td>4209.000000</td>\n",
       "      <td>4209.000000</td>\n",
       "      <td>4209.000000</td>\n",
       "      <td>4209.000000</td>\n",
       "      <td>4209.000000</td>\n",
       "      <td>4209.000000</td>\n",
       "    </tr>\n",
       "    <tr>\n",
       "      <th>mean</th>\n",
       "      <td>4205.960798</td>\n",
       "      <td>100.669318</td>\n",
       "      <td>0.013305</td>\n",
       "      <td>0.0</td>\n",
       "      <td>0.075077</td>\n",
       "      <td>0.057971</td>\n",
       "      <td>0.428130</td>\n",
       "      <td>0.000475</td>\n",
       "      <td>0.002613</td>\n",
       "      <td>0.007603</td>\n",
       "      <td>...</td>\n",
       "      <td>0.318841</td>\n",
       "      <td>0.057258</td>\n",
       "      <td>0.314802</td>\n",
       "      <td>0.020670</td>\n",
       "      <td>0.009503</td>\n",
       "      <td>0.008078</td>\n",
       "      <td>0.007603</td>\n",
       "      <td>0.001663</td>\n",
       "      <td>0.000475</td>\n",
       "      <td>0.001426</td>\n",
       "    </tr>\n",
       "    <tr>\n",
       "      <th>std</th>\n",
       "      <td>2437.608688</td>\n",
       "      <td>12.679381</td>\n",
       "      <td>0.114590</td>\n",
       "      <td>0.0</td>\n",
       "      <td>0.263547</td>\n",
       "      <td>0.233716</td>\n",
       "      <td>0.494867</td>\n",
       "      <td>0.021796</td>\n",
       "      <td>0.051061</td>\n",
       "      <td>0.086872</td>\n",
       "      <td>...</td>\n",
       "      <td>0.466082</td>\n",
       "      <td>0.232363</td>\n",
       "      <td>0.464492</td>\n",
       "      <td>0.142294</td>\n",
       "      <td>0.097033</td>\n",
       "      <td>0.089524</td>\n",
       "      <td>0.086872</td>\n",
       "      <td>0.040752</td>\n",
       "      <td>0.021796</td>\n",
       "      <td>0.037734</td>\n",
       "    </tr>\n",
       "    <tr>\n",
       "      <th>min</th>\n",
       "      <td>0.000000</td>\n",
       "      <td>72.110000</td>\n",
       "      <td>0.000000</td>\n",
       "      <td>0.0</td>\n",
       "      <td>0.000000</td>\n",
       "      <td>0.000000</td>\n",
       "      <td>0.000000</td>\n",
       "      <td>0.000000</td>\n",
       "      <td>0.000000</td>\n",
       "      <td>0.000000</td>\n",
       "      <td>...</td>\n",
       "      <td>0.000000</td>\n",
       "      <td>0.000000</td>\n",
       "      <td>0.000000</td>\n",
       "      <td>0.000000</td>\n",
       "      <td>0.000000</td>\n",
       "      <td>0.000000</td>\n",
       "      <td>0.000000</td>\n",
       "      <td>0.000000</td>\n",
       "      <td>0.000000</td>\n",
       "      <td>0.000000</td>\n",
       "    </tr>\n",
       "    <tr>\n",
       "      <th>25%</th>\n",
       "      <td>2095.000000</td>\n",
       "      <td>90.820000</td>\n",
       "      <td>0.000000</td>\n",
       "      <td>0.0</td>\n",
       "      <td>0.000000</td>\n",
       "      <td>0.000000</td>\n",
       "      <td>0.000000</td>\n",
       "      <td>0.000000</td>\n",
       "      <td>0.000000</td>\n",
       "      <td>0.000000</td>\n",
       "      <td>...</td>\n",
       "      <td>0.000000</td>\n",
       "      <td>0.000000</td>\n",
       "      <td>0.000000</td>\n",
       "      <td>0.000000</td>\n",
       "      <td>0.000000</td>\n",
       "      <td>0.000000</td>\n",
       "      <td>0.000000</td>\n",
       "      <td>0.000000</td>\n",
       "      <td>0.000000</td>\n",
       "      <td>0.000000</td>\n",
       "    </tr>\n",
       "    <tr>\n",
       "      <th>50%</th>\n",
       "      <td>4220.000000</td>\n",
       "      <td>99.150000</td>\n",
       "      <td>0.000000</td>\n",
       "      <td>0.0</td>\n",
       "      <td>0.000000</td>\n",
       "      <td>0.000000</td>\n",
       "      <td>0.000000</td>\n",
       "      <td>0.000000</td>\n",
       "      <td>0.000000</td>\n",
       "      <td>0.000000</td>\n",
       "      <td>...</td>\n",
       "      <td>0.000000</td>\n",
       "      <td>0.000000</td>\n",
       "      <td>0.000000</td>\n",
       "      <td>0.000000</td>\n",
       "      <td>0.000000</td>\n",
       "      <td>0.000000</td>\n",
       "      <td>0.000000</td>\n",
       "      <td>0.000000</td>\n",
       "      <td>0.000000</td>\n",
       "      <td>0.000000</td>\n",
       "    </tr>\n",
       "    <tr>\n",
       "      <th>75%</th>\n",
       "      <td>6314.000000</td>\n",
       "      <td>109.010000</td>\n",
       "      <td>0.000000</td>\n",
       "      <td>0.0</td>\n",
       "      <td>0.000000</td>\n",
       "      <td>0.000000</td>\n",
       "      <td>1.000000</td>\n",
       "      <td>0.000000</td>\n",
       "      <td>0.000000</td>\n",
       "      <td>0.000000</td>\n",
       "      <td>...</td>\n",
       "      <td>1.000000</td>\n",
       "      <td>0.000000</td>\n",
       "      <td>1.000000</td>\n",
       "      <td>0.000000</td>\n",
       "      <td>0.000000</td>\n",
       "      <td>0.000000</td>\n",
       "      <td>0.000000</td>\n",
       "      <td>0.000000</td>\n",
       "      <td>0.000000</td>\n",
       "      <td>0.000000</td>\n",
       "    </tr>\n",
       "    <tr>\n",
       "      <th>max</th>\n",
       "      <td>8417.000000</td>\n",
       "      <td>265.320000</td>\n",
       "      <td>1.000000</td>\n",
       "      <td>0.0</td>\n",
       "      <td>1.000000</td>\n",
       "      <td>1.000000</td>\n",
       "      <td>1.000000</td>\n",
       "      <td>1.000000</td>\n",
       "      <td>1.000000</td>\n",
       "      <td>1.000000</td>\n",
       "      <td>...</td>\n",
       "      <td>1.000000</td>\n",
       "      <td>1.000000</td>\n",
       "      <td>1.000000</td>\n",
       "      <td>1.000000</td>\n",
       "      <td>1.000000</td>\n",
       "      <td>1.000000</td>\n",
       "      <td>1.000000</td>\n",
       "      <td>1.000000</td>\n",
       "      <td>1.000000</td>\n",
       "      <td>1.000000</td>\n",
       "    </tr>\n",
       "  </tbody>\n",
       "</table>\n",
       "<p>8 rows × 370 columns</p>\n",
       "</div>"
      ],
      "text/plain": [
       "                ID            y          X10     X11          X12  \\\n",
       "count  4209.000000  4209.000000  4209.000000  4209.0  4209.000000   \n",
       "mean   4205.960798   100.669318     0.013305     0.0     0.075077   \n",
       "std    2437.608688    12.679381     0.114590     0.0     0.263547   \n",
       "min       0.000000    72.110000     0.000000     0.0     0.000000   \n",
       "25%    2095.000000    90.820000     0.000000     0.0     0.000000   \n",
       "50%    4220.000000    99.150000     0.000000     0.0     0.000000   \n",
       "75%    6314.000000   109.010000     0.000000     0.0     0.000000   \n",
       "max    8417.000000   265.320000     1.000000     0.0     1.000000   \n",
       "\n",
       "               X13          X14          X15          X16          X17  ...  \\\n",
       "count  4209.000000  4209.000000  4209.000000  4209.000000  4209.000000  ...   \n",
       "mean      0.057971     0.428130     0.000475     0.002613     0.007603  ...   \n",
       "std       0.233716     0.494867     0.021796     0.051061     0.086872  ...   \n",
       "min       0.000000     0.000000     0.000000     0.000000     0.000000  ...   \n",
       "25%       0.000000     0.000000     0.000000     0.000000     0.000000  ...   \n",
       "50%       0.000000     0.000000     0.000000     0.000000     0.000000  ...   \n",
       "75%       0.000000     1.000000     0.000000     0.000000     0.000000  ...   \n",
       "max       1.000000     1.000000     1.000000     1.000000     1.000000  ...   \n",
       "\n",
       "              X375         X376         X377         X378         X379  \\\n",
       "count  4209.000000  4209.000000  4209.000000  4209.000000  4209.000000   \n",
       "mean      0.318841     0.057258     0.314802     0.020670     0.009503   \n",
       "std       0.466082     0.232363     0.464492     0.142294     0.097033   \n",
       "min       0.000000     0.000000     0.000000     0.000000     0.000000   \n",
       "25%       0.000000     0.000000     0.000000     0.000000     0.000000   \n",
       "50%       0.000000     0.000000     0.000000     0.000000     0.000000   \n",
       "75%       1.000000     0.000000     1.000000     0.000000     0.000000   \n",
       "max       1.000000     1.000000     1.000000     1.000000     1.000000   \n",
       "\n",
       "              X380         X382         X383         X384         X385  \n",
       "count  4209.000000  4209.000000  4209.000000  4209.000000  4209.000000  \n",
       "mean      0.008078     0.007603     0.001663     0.000475     0.001426  \n",
       "std       0.089524     0.086872     0.040752     0.021796     0.037734  \n",
       "min       0.000000     0.000000     0.000000     0.000000     0.000000  \n",
       "25%       0.000000     0.000000     0.000000     0.000000     0.000000  \n",
       "50%       0.000000     0.000000     0.000000     0.000000     0.000000  \n",
       "75%       0.000000     0.000000     0.000000     0.000000     0.000000  \n",
       "max       1.000000     1.000000     1.000000     1.000000     1.000000  \n",
       "\n",
       "[8 rows x 370 columns]"
      ]
     },
     "execution_count": 7,
     "metadata": {},
     "output_type": "execute_result"
    }
   ],
   "source": [
    "train_df.describe()"
   ]
  },
  {
   "cell_type": "code",
   "execution_count": 8,
   "id": "00522263",
   "metadata": {
    "execution": {
     "iopub.execute_input": "2022-03-07T12:00:38.605422Z",
     "iopub.status.busy": "2022-03-07T12:00:38.604772Z",
     "iopub.status.idle": "2022-03-07T12:00:38.628541Z",
     "shell.execute_reply": "2022-03-07T12:00:38.629042Z",
     "shell.execute_reply.started": "2022-03-07T11:59:45.990364Z"
    },
    "papermill": {
     "duration": 0.08932,
     "end_time": "2022-03-07T12:00:38.629197",
     "exception": false,
     "start_time": "2022-03-07T12:00:38.539877",
     "status": "completed"
    },
    "tags": []
   },
   "outputs": [
    {
     "data": {
      "text/html": [
       "<div>\n",
       "<style scoped>\n",
       "    .dataframe tbody tr th:only-of-type {\n",
       "        vertical-align: middle;\n",
       "    }\n",
       "\n",
       "    .dataframe tbody tr th {\n",
       "        vertical-align: top;\n",
       "    }\n",
       "\n",
       "    .dataframe thead th {\n",
       "        text-align: right;\n",
       "    }\n",
       "</style>\n",
       "<table border=\"1\" class=\"dataframe\">\n",
       "  <thead>\n",
       "    <tr style=\"text-align: right;\">\n",
       "      <th></th>\n",
       "      <th>ID</th>\n",
       "      <th>y</th>\n",
       "      <th>X0</th>\n",
       "      <th>X1</th>\n",
       "      <th>X2</th>\n",
       "      <th>X3</th>\n",
       "      <th>X4</th>\n",
       "      <th>X5</th>\n",
       "      <th>X6</th>\n",
       "      <th>X8</th>\n",
       "      <th>...</th>\n",
       "      <th>X375</th>\n",
       "      <th>X376</th>\n",
       "      <th>X377</th>\n",
       "      <th>X378</th>\n",
       "      <th>X379</th>\n",
       "      <th>X380</th>\n",
       "      <th>X382</th>\n",
       "      <th>X383</th>\n",
       "      <th>X384</th>\n",
       "      <th>X385</th>\n",
       "    </tr>\n",
       "  </thead>\n",
       "  <tbody>\n",
       "    <tr>\n",
       "      <th>0</th>\n",
       "      <td>0</td>\n",
       "      <td>130.81</td>\n",
       "      <td>k</td>\n",
       "      <td>v</td>\n",
       "      <td>at</td>\n",
       "      <td>a</td>\n",
       "      <td>d</td>\n",
       "      <td>u</td>\n",
       "      <td>j</td>\n",
       "      <td>o</td>\n",
       "      <td>...</td>\n",
       "      <td>0</td>\n",
       "      <td>0</td>\n",
       "      <td>1</td>\n",
       "      <td>0</td>\n",
       "      <td>0</td>\n",
       "      <td>0</td>\n",
       "      <td>0</td>\n",
       "      <td>0</td>\n",
       "      <td>0</td>\n",
       "      <td>0</td>\n",
       "    </tr>\n",
       "    <tr>\n",
       "      <th>1</th>\n",
       "      <td>6</td>\n",
       "      <td>88.53</td>\n",
       "      <td>k</td>\n",
       "      <td>t</td>\n",
       "      <td>av</td>\n",
       "      <td>e</td>\n",
       "      <td>d</td>\n",
       "      <td>y</td>\n",
       "      <td>l</td>\n",
       "      <td>o</td>\n",
       "      <td>...</td>\n",
       "      <td>1</td>\n",
       "      <td>0</td>\n",
       "      <td>0</td>\n",
       "      <td>0</td>\n",
       "      <td>0</td>\n",
       "      <td>0</td>\n",
       "      <td>0</td>\n",
       "      <td>0</td>\n",
       "      <td>0</td>\n",
       "      <td>0</td>\n",
       "    </tr>\n",
       "    <tr>\n",
       "      <th>2</th>\n",
       "      <td>7</td>\n",
       "      <td>76.26</td>\n",
       "      <td>az</td>\n",
       "      <td>w</td>\n",
       "      <td>n</td>\n",
       "      <td>c</td>\n",
       "      <td>d</td>\n",
       "      <td>x</td>\n",
       "      <td>j</td>\n",
       "      <td>x</td>\n",
       "      <td>...</td>\n",
       "      <td>0</td>\n",
       "      <td>0</td>\n",
       "      <td>0</td>\n",
       "      <td>0</td>\n",
       "      <td>0</td>\n",
       "      <td>0</td>\n",
       "      <td>1</td>\n",
       "      <td>0</td>\n",
       "      <td>0</td>\n",
       "      <td>0</td>\n",
       "    </tr>\n",
       "    <tr>\n",
       "      <th>3</th>\n",
       "      <td>9</td>\n",
       "      <td>80.62</td>\n",
       "      <td>az</td>\n",
       "      <td>t</td>\n",
       "      <td>n</td>\n",
       "      <td>f</td>\n",
       "      <td>d</td>\n",
       "      <td>x</td>\n",
       "      <td>l</td>\n",
       "      <td>e</td>\n",
       "      <td>...</td>\n",
       "      <td>0</td>\n",
       "      <td>0</td>\n",
       "      <td>0</td>\n",
       "      <td>0</td>\n",
       "      <td>0</td>\n",
       "      <td>0</td>\n",
       "      <td>0</td>\n",
       "      <td>0</td>\n",
       "      <td>0</td>\n",
       "      <td>0</td>\n",
       "    </tr>\n",
       "    <tr>\n",
       "      <th>4</th>\n",
       "      <td>13</td>\n",
       "      <td>78.02</td>\n",
       "      <td>az</td>\n",
       "      <td>v</td>\n",
       "      <td>n</td>\n",
       "      <td>f</td>\n",
       "      <td>d</td>\n",
       "      <td>h</td>\n",
       "      <td>d</td>\n",
       "      <td>n</td>\n",
       "      <td>...</td>\n",
       "      <td>0</td>\n",
       "      <td>0</td>\n",
       "      <td>0</td>\n",
       "      <td>0</td>\n",
       "      <td>0</td>\n",
       "      <td>0</td>\n",
       "      <td>0</td>\n",
       "      <td>0</td>\n",
       "      <td>0</td>\n",
       "      <td>0</td>\n",
       "    </tr>\n",
       "    <tr>\n",
       "      <th>...</th>\n",
       "      <td>...</td>\n",
       "      <td>...</td>\n",
       "      <td>...</td>\n",
       "      <td>...</td>\n",
       "      <td>...</td>\n",
       "      <td>...</td>\n",
       "      <td>...</td>\n",
       "      <td>...</td>\n",
       "      <td>...</td>\n",
       "      <td>...</td>\n",
       "      <td>...</td>\n",
       "      <td>...</td>\n",
       "      <td>...</td>\n",
       "      <td>...</td>\n",
       "      <td>...</td>\n",
       "      <td>...</td>\n",
       "      <td>...</td>\n",
       "      <td>...</td>\n",
       "      <td>...</td>\n",
       "      <td>...</td>\n",
       "      <td>...</td>\n",
       "    </tr>\n",
       "    <tr>\n",
       "      <th>4204</th>\n",
       "      <td>8405</td>\n",
       "      <td>107.39</td>\n",
       "      <td>ak</td>\n",
       "      <td>s</td>\n",
       "      <td>as</td>\n",
       "      <td>c</td>\n",
       "      <td>d</td>\n",
       "      <td>aa</td>\n",
       "      <td>d</td>\n",
       "      <td>q</td>\n",
       "      <td>...</td>\n",
       "      <td>1</td>\n",
       "      <td>0</td>\n",
       "      <td>0</td>\n",
       "      <td>0</td>\n",
       "      <td>0</td>\n",
       "      <td>0</td>\n",
       "      <td>0</td>\n",
       "      <td>0</td>\n",
       "      <td>0</td>\n",
       "      <td>0</td>\n",
       "    </tr>\n",
       "    <tr>\n",
       "      <th>4205</th>\n",
       "      <td>8406</td>\n",
       "      <td>108.77</td>\n",
       "      <td>j</td>\n",
       "      <td>o</td>\n",
       "      <td>t</td>\n",
       "      <td>d</td>\n",
       "      <td>d</td>\n",
       "      <td>aa</td>\n",
       "      <td>h</td>\n",
       "      <td>h</td>\n",
       "      <td>...</td>\n",
       "      <td>0</td>\n",
       "      <td>1</td>\n",
       "      <td>0</td>\n",
       "      <td>0</td>\n",
       "      <td>0</td>\n",
       "      <td>0</td>\n",
       "      <td>0</td>\n",
       "      <td>0</td>\n",
       "      <td>0</td>\n",
       "      <td>0</td>\n",
       "    </tr>\n",
       "    <tr>\n",
       "      <th>4206</th>\n",
       "      <td>8412</td>\n",
       "      <td>109.22</td>\n",
       "      <td>ak</td>\n",
       "      <td>v</td>\n",
       "      <td>r</td>\n",
       "      <td>a</td>\n",
       "      <td>d</td>\n",
       "      <td>aa</td>\n",
       "      <td>g</td>\n",
       "      <td>e</td>\n",
       "      <td>...</td>\n",
       "      <td>0</td>\n",
       "      <td>0</td>\n",
       "      <td>1</td>\n",
       "      <td>0</td>\n",
       "      <td>0</td>\n",
       "      <td>0</td>\n",
       "      <td>0</td>\n",
       "      <td>0</td>\n",
       "      <td>0</td>\n",
       "      <td>0</td>\n",
       "    </tr>\n",
       "    <tr>\n",
       "      <th>4207</th>\n",
       "      <td>8415</td>\n",
       "      <td>87.48</td>\n",
       "      <td>al</td>\n",
       "      <td>r</td>\n",
       "      <td>e</td>\n",
       "      <td>f</td>\n",
       "      <td>d</td>\n",
       "      <td>aa</td>\n",
       "      <td>l</td>\n",
       "      <td>u</td>\n",
       "      <td>...</td>\n",
       "      <td>0</td>\n",
       "      <td>0</td>\n",
       "      <td>0</td>\n",
       "      <td>0</td>\n",
       "      <td>0</td>\n",
       "      <td>0</td>\n",
       "      <td>0</td>\n",
       "      <td>0</td>\n",
       "      <td>0</td>\n",
       "      <td>0</td>\n",
       "    </tr>\n",
       "    <tr>\n",
       "      <th>4208</th>\n",
       "      <td>8417</td>\n",
       "      <td>110.85</td>\n",
       "      <td>z</td>\n",
       "      <td>r</td>\n",
       "      <td>ae</td>\n",
       "      <td>c</td>\n",
       "      <td>d</td>\n",
       "      <td>aa</td>\n",
       "      <td>g</td>\n",
       "      <td>w</td>\n",
       "      <td>...</td>\n",
       "      <td>1</td>\n",
       "      <td>0</td>\n",
       "      <td>0</td>\n",
       "      <td>0</td>\n",
       "      <td>0</td>\n",
       "      <td>0</td>\n",
       "      <td>0</td>\n",
       "      <td>0</td>\n",
       "      <td>0</td>\n",
       "      <td>0</td>\n",
       "    </tr>\n",
       "  </tbody>\n",
       "</table>\n",
       "<p>4209 rows × 378 columns</p>\n",
       "</div>"
      ],
      "text/plain": [
       "        ID       y  X0 X1  X2 X3 X4  X5 X6 X8  ...  X375  X376  X377  X378  \\\n",
       "0        0  130.81   k  v  at  a  d   u  j  o  ...     0     0     1     0   \n",
       "1        6   88.53   k  t  av  e  d   y  l  o  ...     1     0     0     0   \n",
       "2        7   76.26  az  w   n  c  d   x  j  x  ...     0     0     0     0   \n",
       "3        9   80.62  az  t   n  f  d   x  l  e  ...     0     0     0     0   \n",
       "4       13   78.02  az  v   n  f  d   h  d  n  ...     0     0     0     0   \n",
       "...    ...     ...  .. ..  .. .. ..  .. .. ..  ...   ...   ...   ...   ...   \n",
       "4204  8405  107.39  ak  s  as  c  d  aa  d  q  ...     1     0     0     0   \n",
       "4205  8406  108.77   j  o   t  d  d  aa  h  h  ...     0     1     0     0   \n",
       "4206  8412  109.22  ak  v   r  a  d  aa  g  e  ...     0     0     1     0   \n",
       "4207  8415   87.48  al  r   e  f  d  aa  l  u  ...     0     0     0     0   \n",
       "4208  8417  110.85   z  r  ae  c  d  aa  g  w  ...     1     0     0     0   \n",
       "\n",
       "      X379  X380  X382  X383  X384  X385  \n",
       "0        0     0     0     0     0     0  \n",
       "1        0     0     0     0     0     0  \n",
       "2        0     0     1     0     0     0  \n",
       "3        0     0     0     0     0     0  \n",
       "4        0     0     0     0     0     0  \n",
       "...    ...   ...   ...   ...   ...   ...  \n",
       "4204     0     0     0     0     0     0  \n",
       "4205     0     0     0     0     0     0  \n",
       "4206     0     0     0     0     0     0  \n",
       "4207     0     0     0     0     0     0  \n",
       "4208     0     0     0     0     0     0  \n",
       "\n",
       "[4209 rows x 378 columns]"
      ]
     },
     "execution_count": 8,
     "metadata": {},
     "output_type": "execute_result"
    }
   ],
   "source": [
    "train_df"
   ]
  },
  {
   "cell_type": "markdown",
   "id": "2946e875",
   "metadata": {
    "papermill": {
     "duration": 0.064052,
     "end_time": "2022-03-07T12:00:38.756237",
     "exception": false,
     "start_time": "2022-03-07T12:00:38.692185",
     "status": "completed"
    },
    "tags": []
   },
   "source": [
    "<b> 1.If for any column(s), the variance is equal to zero, then you need to remove those variable(s).</b>"
   ]
  },
  {
   "cell_type": "code",
   "execution_count": 9,
   "id": "11bd5778",
   "metadata": {
    "execution": {
     "iopub.execute_input": "2022-03-07T12:00:38.888699Z",
     "iopub.status.busy": "2022-03-07T12:00:38.888047Z",
     "iopub.status.idle": "2022-03-07T12:00:38.908064Z",
     "shell.execute_reply": "2022-03-07T12:00:38.908624Z"
    },
    "papermill": {
     "duration": 0.087293,
     "end_time": "2022-03-07T12:00:38.908855",
     "exception": false,
     "start_time": "2022-03-07T12:00:38.821562",
     "status": "completed"
    },
    "tags": []
   },
   "outputs": [
    {
     "name": "stderr",
     "output_type": "stream",
     "text": [
      "/opt/conda/lib/python3.7/site-packages/ipykernel_launcher.py:2: FutureWarning: Dropping of nuisance columns in DataFrame reductions (with 'numeric_only=None') is deprecated; in a future version this will raise TypeError.  Select only valid columns before calling the reduction.\n",
      "  \n"
     ]
    },
    {
     "data": {
      "text/plain": [
       "ID      5.941936e+06\n",
       "y       1.607667e+02\n",
       "X10     1.313092e-02\n",
       "X11     0.000000e+00\n",
       "X12     6.945713e-02\n",
       "            ...     \n",
       "X380    8.014579e-03\n",
       "X382    7.546747e-03\n",
       "X383    1.660732e-03\n",
       "X384    4.750593e-04\n",
       "X385    1.423823e-03\n",
       "Length: 370, dtype: float64"
      ]
     },
     "execution_count": 9,
     "metadata": {},
     "output_type": "execute_result"
    }
   ],
   "source": [
    "# Check variance for each feature or lables\n",
    "train_df.var(axis=0)"
   ]
  },
  {
   "cell_type": "code",
   "execution_count": 10,
   "id": "bb837aa9",
   "metadata": {
    "execution": {
     "iopub.execute_input": "2022-03-07T12:00:39.046791Z",
     "iopub.status.busy": "2022-03-07T12:00:39.045476Z",
     "iopub.status.idle": "2022-03-07T12:00:39.058825Z",
     "shell.execute_reply": "2022-03-07T12:00:39.059301Z"
    },
    "papermill": {
     "duration": 0.085328,
     "end_time": "2022-03-07T12:00:39.059496",
     "exception": false,
     "start_time": "2022-03-07T12:00:38.974168",
     "status": "completed"
    },
    "tags": []
   },
   "outputs": [
    {
     "name": "stderr",
     "output_type": "stream",
     "text": [
      "/opt/conda/lib/python3.7/site-packages/ipykernel_launcher.py:2: FutureWarning: Dropping of nuisance columns in DataFrame reductions (with 'numeric_only=None') is deprecated; in a future version this will raise TypeError.  Select only valid columns before calling the reduction.\n",
      "  \n"
     ]
    }
   ],
   "source": [
    "# Let check variance of each variable and store into another variable\n",
    "train_variance=pd.DataFrame(train_df.var(axis=0),columns=['Cal_Variance'])"
   ]
  },
  {
   "cell_type": "code",
   "execution_count": 11,
   "id": "63c0d2e4",
   "metadata": {
    "execution": {
     "iopub.execute_input": "2022-03-07T12:00:39.191718Z",
     "iopub.status.busy": "2022-03-07T12:00:39.190786Z",
     "iopub.status.idle": "2022-03-07T12:00:39.201164Z",
     "shell.execute_reply": "2022-03-07T12:00:39.200684Z"
    },
    "papermill": {
     "duration": 0.077721,
     "end_time": "2022-03-07T12:00:39.201311",
     "exception": false,
     "start_time": "2022-03-07T12:00:39.123590",
     "status": "completed"
    },
    "tags": []
   },
   "outputs": [
    {
     "data": {
      "text/html": [
       "<div>\n",
       "<style scoped>\n",
       "    .dataframe tbody tr th:only-of-type {\n",
       "        vertical-align: middle;\n",
       "    }\n",
       "\n",
       "    .dataframe tbody tr th {\n",
       "        vertical-align: top;\n",
       "    }\n",
       "\n",
       "    .dataframe thead th {\n",
       "        text-align: right;\n",
       "    }\n",
       "</style>\n",
       "<table border=\"1\" class=\"dataframe\">\n",
       "  <thead>\n",
       "    <tr style=\"text-align: right;\">\n",
       "      <th></th>\n",
       "      <th>Cal_Variance</th>\n",
       "    </tr>\n",
       "  </thead>\n",
       "  <tbody>\n",
       "    <tr>\n",
       "      <th>ID</th>\n",
       "      <td>5.941936e+06</td>\n",
       "    </tr>\n",
       "    <tr>\n",
       "      <th>y</th>\n",
       "      <td>1.607667e+02</td>\n",
       "    </tr>\n",
       "    <tr>\n",
       "      <th>X10</th>\n",
       "      <td>1.313092e-02</td>\n",
       "    </tr>\n",
       "    <tr>\n",
       "      <th>X11</th>\n",
       "      <td>0.000000e+00</td>\n",
       "    </tr>\n",
       "    <tr>\n",
       "      <th>X12</th>\n",
       "      <td>6.945713e-02</td>\n",
       "    </tr>\n",
       "    <tr>\n",
       "      <th>...</th>\n",
       "      <td>...</td>\n",
       "    </tr>\n",
       "    <tr>\n",
       "      <th>X380</th>\n",
       "      <td>8.014579e-03</td>\n",
       "    </tr>\n",
       "    <tr>\n",
       "      <th>X382</th>\n",
       "      <td>7.546747e-03</td>\n",
       "    </tr>\n",
       "    <tr>\n",
       "      <th>X383</th>\n",
       "      <td>1.660732e-03</td>\n",
       "    </tr>\n",
       "    <tr>\n",
       "      <th>X384</th>\n",
       "      <td>4.750593e-04</td>\n",
       "    </tr>\n",
       "    <tr>\n",
       "      <th>X385</th>\n",
       "      <td>1.423823e-03</td>\n",
       "    </tr>\n",
       "  </tbody>\n",
       "</table>\n",
       "<p>370 rows × 1 columns</p>\n",
       "</div>"
      ],
      "text/plain": [
       "      Cal_Variance\n",
       "ID    5.941936e+06\n",
       "y     1.607667e+02\n",
       "X10   1.313092e-02\n",
       "X11   0.000000e+00\n",
       "X12   6.945713e-02\n",
       "...            ...\n",
       "X380  8.014579e-03\n",
       "X382  7.546747e-03\n",
       "X383  1.660732e-03\n",
       "X384  4.750593e-04\n",
       "X385  1.423823e-03\n",
       "\n",
       "[370 rows x 1 columns]"
      ]
     },
     "execution_count": 11,
     "metadata": {},
     "output_type": "execute_result"
    }
   ],
   "source": [
    "# check new variance variable\n",
    "train_variance"
   ]
  },
  {
   "cell_type": "code",
   "execution_count": 12,
   "id": "46d73c22",
   "metadata": {
    "execution": {
     "iopub.execute_input": "2022-03-07T12:00:39.341816Z",
     "iopub.status.busy": "2022-03-07T12:00:39.341047Z",
     "iopub.status.idle": "2022-03-07T12:00:39.344193Z",
     "shell.execute_reply": "2022-03-07T12:00:39.344680Z"
    },
    "papermill": {
     "duration": 0.078834,
     "end_time": "2022-03-07T12:00:39.344849",
     "exception": false,
     "start_time": "2022-03-07T12:00:39.266015",
     "status": "completed"
    },
    "tags": []
   },
   "outputs": [
    {
     "data": {
      "text/html": [
       "<div>\n",
       "<style scoped>\n",
       "    .dataframe tbody tr th:only-of-type {\n",
       "        vertical-align: middle;\n",
       "    }\n",
       "\n",
       "    .dataframe tbody tr th {\n",
       "        vertical-align: top;\n",
       "    }\n",
       "\n",
       "    .dataframe thead th {\n",
       "        text-align: right;\n",
       "    }\n",
       "</style>\n",
       "<table border=\"1\" class=\"dataframe\">\n",
       "  <thead>\n",
       "    <tr style=\"text-align: right;\">\n",
       "      <th></th>\n",
       "      <th>Cal_Variance</th>\n",
       "    </tr>\n",
       "  </thead>\n",
       "  <tbody>\n",
       "    <tr>\n",
       "      <th>X11</th>\n",
       "      <td>0.0</td>\n",
       "    </tr>\n",
       "    <tr>\n",
       "      <th>X93</th>\n",
       "      <td>0.0</td>\n",
       "    </tr>\n",
       "    <tr>\n",
       "      <th>X107</th>\n",
       "      <td>0.0</td>\n",
       "    </tr>\n",
       "    <tr>\n",
       "      <th>X233</th>\n",
       "      <td>0.0</td>\n",
       "    </tr>\n",
       "    <tr>\n",
       "      <th>X235</th>\n",
       "      <td>0.0</td>\n",
       "    </tr>\n",
       "    <tr>\n",
       "      <th>X268</th>\n",
       "      <td>0.0</td>\n",
       "    </tr>\n",
       "    <tr>\n",
       "      <th>X289</th>\n",
       "      <td>0.0</td>\n",
       "    </tr>\n",
       "    <tr>\n",
       "      <th>X290</th>\n",
       "      <td>0.0</td>\n",
       "    </tr>\n",
       "    <tr>\n",
       "      <th>X293</th>\n",
       "      <td>0.0</td>\n",
       "    </tr>\n",
       "    <tr>\n",
       "      <th>X297</th>\n",
       "      <td>0.0</td>\n",
       "    </tr>\n",
       "    <tr>\n",
       "      <th>X330</th>\n",
       "      <td>0.0</td>\n",
       "    </tr>\n",
       "    <tr>\n",
       "      <th>X347</th>\n",
       "      <td>0.0</td>\n",
       "    </tr>\n",
       "  </tbody>\n",
       "</table>\n",
       "</div>"
      ],
      "text/plain": [
       "      Cal_Variance\n",
       "X11            0.0\n",
       "X93            0.0\n",
       "X107           0.0\n",
       "X233           0.0\n",
       "X235           0.0\n",
       "X268           0.0\n",
       "X289           0.0\n",
       "X290           0.0\n",
       "X293           0.0\n",
       "X297           0.0\n",
       "X330           0.0\n",
       "X347           0.0"
      ]
     },
     "execution_count": 12,
     "metadata": {},
     "output_type": "execute_result"
    }
   ],
   "source": [
    "# Check zero variance features or columns\n",
    "train_variance[train_variance[\"Cal_Variance\"]==0]"
   ]
  },
  {
   "cell_type": "code",
   "execution_count": 13,
   "id": "d211288c",
   "metadata": {
    "execution": {
     "iopub.execute_input": "2022-03-07T12:00:39.486777Z",
     "iopub.status.busy": "2022-03-07T12:00:39.485934Z",
     "iopub.status.idle": "2022-03-07T12:00:39.488222Z",
     "shell.execute_reply": "2022-03-07T12:00:39.488735Z"
    },
    "papermill": {
     "duration": 0.07786,
     "end_time": "2022-03-07T12:00:39.488901",
     "exception": false,
     "start_time": "2022-03-07T12:00:39.411041",
     "status": "completed"
    },
    "tags": []
   },
   "outputs": [],
   "source": [
    "# Remove zero variance from train orignal data set\n",
    "zero_var=train_variance[train_variance[\"Cal_Variance\"]==0]\n",
    "zero_var.index\n",
    "train_clean_df=train_df.drop(columns=zero_var.index)"
   ]
  },
  {
   "cell_type": "code",
   "execution_count": 14,
   "id": "cdf8c83f",
   "metadata": {
    "execution": {
     "iopub.execute_input": "2022-03-07T12:00:39.626938Z",
     "iopub.status.busy": "2022-03-07T12:00:39.623731Z",
     "iopub.status.idle": "2022-03-07T12:00:39.649600Z",
     "shell.execute_reply": "2022-03-07T12:00:39.650094Z"
    },
    "papermill": {
     "duration": 0.095423,
     "end_time": "2022-03-07T12:00:39.650271",
     "exception": false,
     "start_time": "2022-03-07T12:00:39.554848",
     "status": "completed"
    },
    "tags": []
   },
   "outputs": [
    {
     "data": {
      "text/html": [
       "<div>\n",
       "<style scoped>\n",
       "    .dataframe tbody tr th:only-of-type {\n",
       "        vertical-align: middle;\n",
       "    }\n",
       "\n",
       "    .dataframe tbody tr th {\n",
       "        vertical-align: top;\n",
       "    }\n",
       "\n",
       "    .dataframe thead th {\n",
       "        text-align: right;\n",
       "    }\n",
       "</style>\n",
       "<table border=\"1\" class=\"dataframe\">\n",
       "  <thead>\n",
       "    <tr style=\"text-align: right;\">\n",
       "      <th></th>\n",
       "      <th>ID</th>\n",
       "      <th>y</th>\n",
       "      <th>X0</th>\n",
       "      <th>X1</th>\n",
       "      <th>X2</th>\n",
       "      <th>X3</th>\n",
       "      <th>X4</th>\n",
       "      <th>X5</th>\n",
       "      <th>X6</th>\n",
       "      <th>X8</th>\n",
       "      <th>...</th>\n",
       "      <th>X375</th>\n",
       "      <th>X376</th>\n",
       "      <th>X377</th>\n",
       "      <th>X378</th>\n",
       "      <th>X379</th>\n",
       "      <th>X380</th>\n",
       "      <th>X382</th>\n",
       "      <th>X383</th>\n",
       "      <th>X384</th>\n",
       "      <th>X385</th>\n",
       "    </tr>\n",
       "  </thead>\n",
       "  <tbody>\n",
       "    <tr>\n",
       "      <th>0</th>\n",
       "      <td>0</td>\n",
       "      <td>130.81</td>\n",
       "      <td>k</td>\n",
       "      <td>v</td>\n",
       "      <td>at</td>\n",
       "      <td>a</td>\n",
       "      <td>d</td>\n",
       "      <td>u</td>\n",
       "      <td>j</td>\n",
       "      <td>o</td>\n",
       "      <td>...</td>\n",
       "      <td>0</td>\n",
       "      <td>0</td>\n",
       "      <td>1</td>\n",
       "      <td>0</td>\n",
       "      <td>0</td>\n",
       "      <td>0</td>\n",
       "      <td>0</td>\n",
       "      <td>0</td>\n",
       "      <td>0</td>\n",
       "      <td>0</td>\n",
       "    </tr>\n",
       "    <tr>\n",
       "      <th>1</th>\n",
       "      <td>6</td>\n",
       "      <td>88.53</td>\n",
       "      <td>k</td>\n",
       "      <td>t</td>\n",
       "      <td>av</td>\n",
       "      <td>e</td>\n",
       "      <td>d</td>\n",
       "      <td>y</td>\n",
       "      <td>l</td>\n",
       "      <td>o</td>\n",
       "      <td>...</td>\n",
       "      <td>1</td>\n",
       "      <td>0</td>\n",
       "      <td>0</td>\n",
       "      <td>0</td>\n",
       "      <td>0</td>\n",
       "      <td>0</td>\n",
       "      <td>0</td>\n",
       "      <td>0</td>\n",
       "      <td>0</td>\n",
       "      <td>0</td>\n",
       "    </tr>\n",
       "    <tr>\n",
       "      <th>2</th>\n",
       "      <td>7</td>\n",
       "      <td>76.26</td>\n",
       "      <td>az</td>\n",
       "      <td>w</td>\n",
       "      <td>n</td>\n",
       "      <td>c</td>\n",
       "      <td>d</td>\n",
       "      <td>x</td>\n",
       "      <td>j</td>\n",
       "      <td>x</td>\n",
       "      <td>...</td>\n",
       "      <td>0</td>\n",
       "      <td>0</td>\n",
       "      <td>0</td>\n",
       "      <td>0</td>\n",
       "      <td>0</td>\n",
       "      <td>0</td>\n",
       "      <td>1</td>\n",
       "      <td>0</td>\n",
       "      <td>0</td>\n",
       "      <td>0</td>\n",
       "    </tr>\n",
       "    <tr>\n",
       "      <th>3</th>\n",
       "      <td>9</td>\n",
       "      <td>80.62</td>\n",
       "      <td>az</td>\n",
       "      <td>t</td>\n",
       "      <td>n</td>\n",
       "      <td>f</td>\n",
       "      <td>d</td>\n",
       "      <td>x</td>\n",
       "      <td>l</td>\n",
       "      <td>e</td>\n",
       "      <td>...</td>\n",
       "      <td>0</td>\n",
       "      <td>0</td>\n",
       "      <td>0</td>\n",
       "      <td>0</td>\n",
       "      <td>0</td>\n",
       "      <td>0</td>\n",
       "      <td>0</td>\n",
       "      <td>0</td>\n",
       "      <td>0</td>\n",
       "      <td>0</td>\n",
       "    </tr>\n",
       "    <tr>\n",
       "      <th>4</th>\n",
       "      <td>13</td>\n",
       "      <td>78.02</td>\n",
       "      <td>az</td>\n",
       "      <td>v</td>\n",
       "      <td>n</td>\n",
       "      <td>f</td>\n",
       "      <td>d</td>\n",
       "      <td>h</td>\n",
       "      <td>d</td>\n",
       "      <td>n</td>\n",
       "      <td>...</td>\n",
       "      <td>0</td>\n",
       "      <td>0</td>\n",
       "      <td>0</td>\n",
       "      <td>0</td>\n",
       "      <td>0</td>\n",
       "      <td>0</td>\n",
       "      <td>0</td>\n",
       "      <td>0</td>\n",
       "      <td>0</td>\n",
       "      <td>0</td>\n",
       "    </tr>\n",
       "    <tr>\n",
       "      <th>...</th>\n",
       "      <td>...</td>\n",
       "      <td>...</td>\n",
       "      <td>...</td>\n",
       "      <td>...</td>\n",
       "      <td>...</td>\n",
       "      <td>...</td>\n",
       "      <td>...</td>\n",
       "      <td>...</td>\n",
       "      <td>...</td>\n",
       "      <td>...</td>\n",
       "      <td>...</td>\n",
       "      <td>...</td>\n",
       "      <td>...</td>\n",
       "      <td>...</td>\n",
       "      <td>...</td>\n",
       "      <td>...</td>\n",
       "      <td>...</td>\n",
       "      <td>...</td>\n",
       "      <td>...</td>\n",
       "      <td>...</td>\n",
       "      <td>...</td>\n",
       "    </tr>\n",
       "    <tr>\n",
       "      <th>4204</th>\n",
       "      <td>8405</td>\n",
       "      <td>107.39</td>\n",
       "      <td>ak</td>\n",
       "      <td>s</td>\n",
       "      <td>as</td>\n",
       "      <td>c</td>\n",
       "      <td>d</td>\n",
       "      <td>aa</td>\n",
       "      <td>d</td>\n",
       "      <td>q</td>\n",
       "      <td>...</td>\n",
       "      <td>1</td>\n",
       "      <td>0</td>\n",
       "      <td>0</td>\n",
       "      <td>0</td>\n",
       "      <td>0</td>\n",
       "      <td>0</td>\n",
       "      <td>0</td>\n",
       "      <td>0</td>\n",
       "      <td>0</td>\n",
       "      <td>0</td>\n",
       "    </tr>\n",
       "    <tr>\n",
       "      <th>4205</th>\n",
       "      <td>8406</td>\n",
       "      <td>108.77</td>\n",
       "      <td>j</td>\n",
       "      <td>o</td>\n",
       "      <td>t</td>\n",
       "      <td>d</td>\n",
       "      <td>d</td>\n",
       "      <td>aa</td>\n",
       "      <td>h</td>\n",
       "      <td>h</td>\n",
       "      <td>...</td>\n",
       "      <td>0</td>\n",
       "      <td>1</td>\n",
       "      <td>0</td>\n",
       "      <td>0</td>\n",
       "      <td>0</td>\n",
       "      <td>0</td>\n",
       "      <td>0</td>\n",
       "      <td>0</td>\n",
       "      <td>0</td>\n",
       "      <td>0</td>\n",
       "    </tr>\n",
       "    <tr>\n",
       "      <th>4206</th>\n",
       "      <td>8412</td>\n",
       "      <td>109.22</td>\n",
       "      <td>ak</td>\n",
       "      <td>v</td>\n",
       "      <td>r</td>\n",
       "      <td>a</td>\n",
       "      <td>d</td>\n",
       "      <td>aa</td>\n",
       "      <td>g</td>\n",
       "      <td>e</td>\n",
       "      <td>...</td>\n",
       "      <td>0</td>\n",
       "      <td>0</td>\n",
       "      <td>1</td>\n",
       "      <td>0</td>\n",
       "      <td>0</td>\n",
       "      <td>0</td>\n",
       "      <td>0</td>\n",
       "      <td>0</td>\n",
       "      <td>0</td>\n",
       "      <td>0</td>\n",
       "    </tr>\n",
       "    <tr>\n",
       "      <th>4207</th>\n",
       "      <td>8415</td>\n",
       "      <td>87.48</td>\n",
       "      <td>al</td>\n",
       "      <td>r</td>\n",
       "      <td>e</td>\n",
       "      <td>f</td>\n",
       "      <td>d</td>\n",
       "      <td>aa</td>\n",
       "      <td>l</td>\n",
       "      <td>u</td>\n",
       "      <td>...</td>\n",
       "      <td>0</td>\n",
       "      <td>0</td>\n",
       "      <td>0</td>\n",
       "      <td>0</td>\n",
       "      <td>0</td>\n",
       "      <td>0</td>\n",
       "      <td>0</td>\n",
       "      <td>0</td>\n",
       "      <td>0</td>\n",
       "      <td>0</td>\n",
       "    </tr>\n",
       "    <tr>\n",
       "      <th>4208</th>\n",
       "      <td>8417</td>\n",
       "      <td>110.85</td>\n",
       "      <td>z</td>\n",
       "      <td>r</td>\n",
       "      <td>ae</td>\n",
       "      <td>c</td>\n",
       "      <td>d</td>\n",
       "      <td>aa</td>\n",
       "      <td>g</td>\n",
       "      <td>w</td>\n",
       "      <td>...</td>\n",
       "      <td>1</td>\n",
       "      <td>0</td>\n",
       "      <td>0</td>\n",
       "      <td>0</td>\n",
       "      <td>0</td>\n",
       "      <td>0</td>\n",
       "      <td>0</td>\n",
       "      <td>0</td>\n",
       "      <td>0</td>\n",
       "      <td>0</td>\n",
       "    </tr>\n",
       "  </tbody>\n",
       "</table>\n",
       "<p>4209 rows × 366 columns</p>\n",
       "</div>"
      ],
      "text/plain": [
       "        ID       y  X0 X1  X2 X3 X4  X5 X6 X8  ...  X375  X376  X377  X378  \\\n",
       "0        0  130.81   k  v  at  a  d   u  j  o  ...     0     0     1     0   \n",
       "1        6   88.53   k  t  av  e  d   y  l  o  ...     1     0     0     0   \n",
       "2        7   76.26  az  w   n  c  d   x  j  x  ...     0     0     0     0   \n",
       "3        9   80.62  az  t   n  f  d   x  l  e  ...     0     0     0     0   \n",
       "4       13   78.02  az  v   n  f  d   h  d  n  ...     0     0     0     0   \n",
       "...    ...     ...  .. ..  .. .. ..  .. .. ..  ...   ...   ...   ...   ...   \n",
       "4204  8405  107.39  ak  s  as  c  d  aa  d  q  ...     1     0     0     0   \n",
       "4205  8406  108.77   j  o   t  d  d  aa  h  h  ...     0     1     0     0   \n",
       "4206  8412  109.22  ak  v   r  a  d  aa  g  e  ...     0     0     1     0   \n",
       "4207  8415   87.48  al  r   e  f  d  aa  l  u  ...     0     0     0     0   \n",
       "4208  8417  110.85   z  r  ae  c  d  aa  g  w  ...     1     0     0     0   \n",
       "\n",
       "      X379  X380  X382  X383  X384  X385  \n",
       "0        0     0     0     0     0     0  \n",
       "1        0     0     0     0     0     0  \n",
       "2        0     0     1     0     0     0  \n",
       "3        0     0     0     0     0     0  \n",
       "4        0     0     0     0     0     0  \n",
       "...    ...   ...   ...   ...   ...   ...  \n",
       "4204     0     0     0     0     0     0  \n",
       "4205     0     0     0     0     0     0  \n",
       "4206     0     0     0     0     0     0  \n",
       "4207     0     0     0     0     0     0  \n",
       "4208     0     0     0     0     0     0  \n",
       "\n",
       "[4209 rows x 366 columns]"
      ]
     },
     "execution_count": 14,
     "metadata": {},
     "output_type": "execute_result"
    }
   ],
   "source": [
    "train_clean_df"
   ]
  },
  {
   "cell_type": "code",
   "execution_count": 15,
   "id": "a669a1ae",
   "metadata": {
    "execution": {
     "iopub.execute_input": "2022-03-07T12:00:39.796549Z",
     "iopub.status.busy": "2022-03-07T12:00:39.795717Z",
     "iopub.status.idle": "2022-03-07T12:00:39.798942Z",
     "shell.execute_reply": "2022-03-07T12:00:39.799690Z"
    },
    "papermill": {
     "duration": 0.080869,
     "end_time": "2022-03-07T12:00:39.799899",
     "exception": false,
     "start_time": "2022-03-07T12:00:39.719030",
     "status": "completed"
    },
    "tags": []
   },
   "outputs": [
    {
     "name": "stdout",
     "output_type": "stream",
     "text": [
      "Shape of original train dataset is: (4209, 378)\n",
      "\n",
      "Shape of modified train dataset after removing features having zero variance is: (4209, 366)\n"
     ]
    }
   ],
   "source": [
    "# Print the original and modified shape of the train dataset\n",
    "print('Shape of original train dataset is:', train_df.shape)\n",
    "print('\\nShape of modified train dataset after removing features having zero variance is:', train_clean_df.shape)"
   ]
  },
  {
   "cell_type": "markdown",
   "id": "2af39aef",
   "metadata": {
    "papermill": {
     "duration": 0.068271,
     "end_time": "2022-03-07T12:00:39.938294",
     "exception": false,
     "start_time": "2022-03-07T12:00:39.870023",
     "status": "completed"
    },
    "tags": []
   },
   "source": [
    "<b> Remove zero variance form test dataset</b>"
   ]
  },
  {
   "cell_type": "code",
   "execution_count": 16,
   "id": "15cedb18",
   "metadata": {
    "execution": {
     "iopub.execute_input": "2022-03-07T12:00:40.080243Z",
     "iopub.status.busy": "2022-03-07T12:00:40.079308Z",
     "iopub.status.idle": "2022-03-07T12:00:40.084061Z",
     "shell.execute_reply": "2022-03-07T12:00:40.084625Z"
    },
    "papermill": {
     "duration": 0.077138,
     "end_time": "2022-03-07T12:00:40.084844",
     "exception": false,
     "start_time": "2022-03-07T12:00:40.007706",
     "status": "completed"
    },
    "tags": []
   },
   "outputs": [
    {
     "data": {
      "text/plain": [
       "(4209, 377)"
      ]
     },
     "execution_count": 16,
     "metadata": {},
     "output_type": "execute_result"
    }
   ],
   "source": [
    "test_df.shape"
   ]
  },
  {
   "cell_type": "code",
   "execution_count": 17,
   "id": "354e088b",
   "metadata": {
    "execution": {
     "iopub.execute_input": "2022-03-07T12:00:40.240531Z",
     "iopub.status.busy": "2022-03-07T12:00:40.224511Z",
     "iopub.status.idle": "2022-03-07T12:00:40.243881Z",
     "shell.execute_reply": "2022-03-07T12:00:40.243343Z"
    },
    "papermill": {
     "duration": 0.090205,
     "end_time": "2022-03-07T12:00:40.244021",
     "exception": false,
     "start_time": "2022-03-07T12:00:40.153816",
     "status": "completed"
    },
    "tags": []
   },
   "outputs": [
    {
     "data": {
      "text/html": [
       "<div>\n",
       "<style scoped>\n",
       "    .dataframe tbody tr th:only-of-type {\n",
       "        vertical-align: middle;\n",
       "    }\n",
       "\n",
       "    .dataframe tbody tr th {\n",
       "        vertical-align: top;\n",
       "    }\n",
       "\n",
       "    .dataframe thead th {\n",
       "        text-align: right;\n",
       "    }\n",
       "</style>\n",
       "<table border=\"1\" class=\"dataframe\">\n",
       "  <thead>\n",
       "    <tr style=\"text-align: right;\">\n",
       "      <th></th>\n",
       "      <th>ID</th>\n",
       "      <th>X0</th>\n",
       "      <th>X1</th>\n",
       "      <th>X2</th>\n",
       "      <th>X3</th>\n",
       "      <th>X4</th>\n",
       "      <th>X5</th>\n",
       "      <th>X6</th>\n",
       "      <th>X8</th>\n",
       "      <th>X10</th>\n",
       "      <th>...</th>\n",
       "      <th>X375</th>\n",
       "      <th>X376</th>\n",
       "      <th>X377</th>\n",
       "      <th>X378</th>\n",
       "      <th>X379</th>\n",
       "      <th>X380</th>\n",
       "      <th>X382</th>\n",
       "      <th>X383</th>\n",
       "      <th>X384</th>\n",
       "      <th>X385</th>\n",
       "    </tr>\n",
       "  </thead>\n",
       "  <tbody>\n",
       "    <tr>\n",
       "      <th>0</th>\n",
       "      <td>1</td>\n",
       "      <td>az</td>\n",
       "      <td>v</td>\n",
       "      <td>n</td>\n",
       "      <td>f</td>\n",
       "      <td>d</td>\n",
       "      <td>t</td>\n",
       "      <td>a</td>\n",
       "      <td>w</td>\n",
       "      <td>0</td>\n",
       "      <td>...</td>\n",
       "      <td>0</td>\n",
       "      <td>0</td>\n",
       "      <td>0</td>\n",
       "      <td>1</td>\n",
       "      <td>0</td>\n",
       "      <td>0</td>\n",
       "      <td>0</td>\n",
       "      <td>0</td>\n",
       "      <td>0</td>\n",
       "      <td>0</td>\n",
       "    </tr>\n",
       "    <tr>\n",
       "      <th>1</th>\n",
       "      <td>2</td>\n",
       "      <td>t</td>\n",
       "      <td>b</td>\n",
       "      <td>ai</td>\n",
       "      <td>a</td>\n",
       "      <td>d</td>\n",
       "      <td>b</td>\n",
       "      <td>g</td>\n",
       "      <td>y</td>\n",
       "      <td>0</td>\n",
       "      <td>...</td>\n",
       "      <td>0</td>\n",
       "      <td>0</td>\n",
       "      <td>1</td>\n",
       "      <td>0</td>\n",
       "      <td>0</td>\n",
       "      <td>0</td>\n",
       "      <td>0</td>\n",
       "      <td>0</td>\n",
       "      <td>0</td>\n",
       "      <td>0</td>\n",
       "    </tr>\n",
       "    <tr>\n",
       "      <th>2</th>\n",
       "      <td>3</td>\n",
       "      <td>az</td>\n",
       "      <td>v</td>\n",
       "      <td>as</td>\n",
       "      <td>f</td>\n",
       "      <td>d</td>\n",
       "      <td>a</td>\n",
       "      <td>j</td>\n",
       "      <td>j</td>\n",
       "      <td>0</td>\n",
       "      <td>...</td>\n",
       "      <td>0</td>\n",
       "      <td>0</td>\n",
       "      <td>0</td>\n",
       "      <td>1</td>\n",
       "      <td>0</td>\n",
       "      <td>0</td>\n",
       "      <td>0</td>\n",
       "      <td>0</td>\n",
       "      <td>0</td>\n",
       "      <td>0</td>\n",
       "    </tr>\n",
       "    <tr>\n",
       "      <th>3</th>\n",
       "      <td>4</td>\n",
       "      <td>az</td>\n",
       "      <td>l</td>\n",
       "      <td>n</td>\n",
       "      <td>f</td>\n",
       "      <td>d</td>\n",
       "      <td>z</td>\n",
       "      <td>l</td>\n",
       "      <td>n</td>\n",
       "      <td>0</td>\n",
       "      <td>...</td>\n",
       "      <td>0</td>\n",
       "      <td>0</td>\n",
       "      <td>0</td>\n",
       "      <td>1</td>\n",
       "      <td>0</td>\n",
       "      <td>0</td>\n",
       "      <td>0</td>\n",
       "      <td>0</td>\n",
       "      <td>0</td>\n",
       "      <td>0</td>\n",
       "    </tr>\n",
       "    <tr>\n",
       "      <th>4</th>\n",
       "      <td>5</td>\n",
       "      <td>w</td>\n",
       "      <td>s</td>\n",
       "      <td>as</td>\n",
       "      <td>c</td>\n",
       "      <td>d</td>\n",
       "      <td>y</td>\n",
       "      <td>i</td>\n",
       "      <td>m</td>\n",
       "      <td>0</td>\n",
       "      <td>...</td>\n",
       "      <td>1</td>\n",
       "      <td>0</td>\n",
       "      <td>0</td>\n",
       "      <td>0</td>\n",
       "      <td>0</td>\n",
       "      <td>0</td>\n",
       "      <td>0</td>\n",
       "      <td>0</td>\n",
       "      <td>0</td>\n",
       "      <td>0</td>\n",
       "    </tr>\n",
       "  </tbody>\n",
       "</table>\n",
       "<p>5 rows × 377 columns</p>\n",
       "</div>"
      ],
      "text/plain": [
       "   ID  X0 X1  X2 X3 X4 X5 X6 X8  X10  ...  X375  X376  X377  X378  X379  X380  \\\n",
       "0   1  az  v   n  f  d  t  a  w    0  ...     0     0     0     1     0     0   \n",
       "1   2   t  b  ai  a  d  b  g  y    0  ...     0     0     1     0     0     0   \n",
       "2   3  az  v  as  f  d  a  j  j    0  ...     0     0     0     1     0     0   \n",
       "3   4  az  l   n  f  d  z  l  n    0  ...     0     0     0     1     0     0   \n",
       "4   5   w  s  as  c  d  y  i  m    0  ...     1     0     0     0     0     0   \n",
       "\n",
       "   X382  X383  X384  X385  \n",
       "0     0     0     0     0  \n",
       "1     0     0     0     0  \n",
       "2     0     0     0     0  \n",
       "3     0     0     0     0  \n",
       "4     0     0     0     0  \n",
       "\n",
       "[5 rows x 377 columns]"
      ]
     },
     "execution_count": 17,
     "metadata": {},
     "output_type": "execute_result"
    }
   ],
   "source": [
    "test_df.head()"
   ]
  },
  {
   "cell_type": "code",
   "execution_count": 18,
   "id": "35193c97",
   "metadata": {
    "execution": {
     "iopub.execute_input": "2022-03-07T12:00:40.386855Z",
     "iopub.status.busy": "2022-03-07T12:00:40.386219Z",
     "iopub.status.idle": "2022-03-07T12:00:40.406719Z",
     "shell.execute_reply": "2022-03-07T12:00:40.407171Z"
    },
    "papermill": {
     "duration": 0.093439,
     "end_time": "2022-03-07T12:00:40.407334",
     "exception": false,
     "start_time": "2022-03-07T12:00:40.313895",
     "status": "completed"
    },
    "tags": []
   },
   "outputs": [
    {
     "name": "stderr",
     "output_type": "stream",
     "text": [
      "/opt/conda/lib/python3.7/site-packages/ipykernel_launcher.py:1: FutureWarning: Dropping of nuisance columns in DataFrame reductions (with 'numeric_only=None') is deprecated; in a future version this will raise TypeError.  Select only valid columns before calling the reduction.\n",
      "  \"\"\"Entry point for launching an IPython kernel.\n"
     ]
    },
    {
     "data": {
      "text/plain": [
       "ID      5.871311e+06\n",
       "X10     1.865006e-02\n",
       "X11     2.375861e-04\n",
       "X12     6.885074e-02\n",
       "X13     5.734498e-02\n",
       "            ...     \n",
       "X380    8.014579e-03\n",
       "X382    8.715481e-03\n",
       "X383    4.750593e-04\n",
       "X384    7.124196e-04\n",
       "X385    1.660732e-03\n",
       "Length: 369, dtype: float64"
      ]
     },
     "execution_count": 18,
     "metadata": {},
     "output_type": "execute_result"
    }
   ],
   "source": [
    "test_df.var()"
   ]
  },
  {
   "cell_type": "code",
   "execution_count": 19,
   "id": "b2df8f40",
   "metadata": {
    "execution": {
     "iopub.execute_input": "2022-03-07T12:00:40.552331Z",
     "iopub.status.busy": "2022-03-07T12:00:40.551411Z",
     "iopub.status.idle": "2022-03-07T12:00:40.568356Z",
     "shell.execute_reply": "2022-03-07T12:00:40.568847Z"
    },
    "papermill": {
     "duration": 0.091485,
     "end_time": "2022-03-07T12:00:40.569004",
     "exception": false,
     "start_time": "2022-03-07T12:00:40.477519",
     "status": "completed"
    },
    "tags": []
   },
   "outputs": [
    {
     "name": "stderr",
     "output_type": "stream",
     "text": [
      "/opt/conda/lib/python3.7/site-packages/ipykernel_launcher.py:1: FutureWarning: Dropping of nuisance columns in DataFrame reductions (with 'numeric_only=None') is deprecated; in a future version this will raise TypeError.  Select only valid columns before calling the reduction.\n",
      "  \"\"\"Entry point for launching an IPython kernel.\n"
     ]
    }
   ],
   "source": [
    "test_var=pd.DataFrame(test_df.var(axis=0),columns=['Cal_Variance'])"
   ]
  },
  {
   "cell_type": "code",
   "execution_count": 20,
   "id": "3a1cf506",
   "metadata": {
    "execution": {
     "iopub.execute_input": "2022-03-07T12:00:40.715332Z",
     "iopub.status.busy": "2022-03-07T12:00:40.714434Z",
     "iopub.status.idle": "2022-03-07T12:00:40.719007Z",
     "shell.execute_reply": "2022-03-07T12:00:40.719513Z"
    },
    "papermill": {
     "duration": 0.079696,
     "end_time": "2022-03-07T12:00:40.719684",
     "exception": false,
     "start_time": "2022-03-07T12:00:40.639988",
     "status": "completed"
    },
    "tags": []
   },
   "outputs": [],
   "source": [
    "test_zero_var=test_var[test_var[\"Cal_Variance\"]==0]"
   ]
  },
  {
   "cell_type": "code",
   "execution_count": 21,
   "id": "2b16d9aa",
   "metadata": {
    "execution": {
     "iopub.execute_input": "2022-03-07T12:00:40.864101Z",
     "iopub.status.busy": "2022-03-07T12:00:40.863006Z",
     "iopub.status.idle": "2022-03-07T12:00:40.871848Z",
     "shell.execute_reply": "2022-03-07T12:00:40.872306Z"
    },
    "papermill": {
     "duration": 0.08264,
     "end_time": "2022-03-07T12:00:40.872513",
     "exception": false,
     "start_time": "2022-03-07T12:00:40.789873",
     "status": "completed"
    },
    "tags": []
   },
   "outputs": [
    {
     "data": {
      "text/html": [
       "<div>\n",
       "<style scoped>\n",
       "    .dataframe tbody tr th:only-of-type {\n",
       "        vertical-align: middle;\n",
       "    }\n",
       "\n",
       "    .dataframe tbody tr th {\n",
       "        vertical-align: top;\n",
       "    }\n",
       "\n",
       "    .dataframe thead th {\n",
       "        text-align: right;\n",
       "    }\n",
       "</style>\n",
       "<table border=\"1\" class=\"dataframe\">\n",
       "  <thead>\n",
       "    <tr style=\"text-align: right;\">\n",
       "      <th></th>\n",
       "      <th>Cal_Variance</th>\n",
       "    </tr>\n",
       "  </thead>\n",
       "  <tbody>\n",
       "    <tr>\n",
       "      <th>X257</th>\n",
       "      <td>0.0</td>\n",
       "    </tr>\n",
       "    <tr>\n",
       "      <th>X258</th>\n",
       "      <td>0.0</td>\n",
       "    </tr>\n",
       "    <tr>\n",
       "      <th>X295</th>\n",
       "      <td>0.0</td>\n",
       "    </tr>\n",
       "    <tr>\n",
       "      <th>X296</th>\n",
       "      <td>0.0</td>\n",
       "    </tr>\n",
       "    <tr>\n",
       "      <th>X369</th>\n",
       "      <td>0.0</td>\n",
       "    </tr>\n",
       "  </tbody>\n",
       "</table>\n",
       "</div>"
      ],
      "text/plain": [
       "      Cal_Variance\n",
       "X257           0.0\n",
       "X258           0.0\n",
       "X295           0.0\n",
       "X296           0.0\n",
       "X369           0.0"
      ]
     },
     "execution_count": 21,
     "metadata": {},
     "output_type": "execute_result"
    }
   ],
   "source": [
    "test_zero_var"
   ]
  },
  {
   "cell_type": "code",
   "execution_count": 22,
   "id": "fcd5286d",
   "metadata": {
    "execution": {
     "iopub.execute_input": "2022-03-07T12:00:41.018350Z",
     "iopub.status.busy": "2022-03-07T12:00:41.017394Z",
     "iopub.status.idle": "2022-03-07T12:00:41.020327Z",
     "shell.execute_reply": "2022-03-07T12:00:41.020959Z"
    },
    "papermill": {
     "duration": 0.07807,
     "end_time": "2022-03-07T12:00:41.021123",
     "exception": false,
     "start_time": "2022-03-07T12:00:40.943053",
     "status": "completed"
    },
    "tags": []
   },
   "outputs": [],
   "source": [
    "# Above dataset have zero variance features\n",
    "# However, since test dataset is not using for Train Model so same features of train dataset that have zero variance \n",
    "# can remove from test dataset\n",
    "#"
   ]
  },
  {
   "cell_type": "code",
   "execution_count": 23,
   "id": "be9ae7a0",
   "metadata": {
    "execution": {
     "iopub.execute_input": "2022-03-07T12:00:41.166825Z",
     "iopub.status.busy": "2022-03-07T12:00:41.165904Z",
     "iopub.status.idle": "2022-03-07T12:00:41.174933Z",
     "shell.execute_reply": "2022-03-07T12:00:41.175383Z"
    },
    "papermill": {
     "duration": 0.082713,
     "end_time": "2022-03-07T12:00:41.175564",
     "exception": false,
     "start_time": "2022-03-07T12:00:41.092851",
     "status": "completed"
    },
    "tags": []
   },
   "outputs": [],
   "source": [
    "test_clean_df=test_df.drop(zero_var.index,axis=1)"
   ]
  },
  {
   "cell_type": "code",
   "execution_count": 24,
   "id": "8b1467ab",
   "metadata": {
    "execution": {
     "iopub.execute_input": "2022-03-07T12:00:41.322167Z",
     "iopub.status.busy": "2022-03-07T12:00:41.321519Z",
     "iopub.status.idle": "2022-03-07T12:00:41.324743Z",
     "shell.execute_reply": "2022-03-07T12:00:41.324243Z"
    },
    "papermill": {
     "duration": 0.07919,
     "end_time": "2022-03-07T12:00:41.324872",
     "exception": false,
     "start_time": "2022-03-07T12:00:41.245682",
     "status": "completed"
    },
    "tags": []
   },
   "outputs": [
    {
     "data": {
      "text/plain": [
       "(4209, 365)"
      ]
     },
     "execution_count": 24,
     "metadata": {},
     "output_type": "execute_result"
    }
   ],
   "source": [
    "test_clean_df.shape"
   ]
  },
  {
   "cell_type": "code",
   "execution_count": 25,
   "id": "ab65ee3f",
   "metadata": {
    "execution": {
     "iopub.execute_input": "2022-03-07T12:00:41.469533Z",
     "iopub.status.busy": "2022-03-07T12:00:41.468950Z",
     "iopub.status.idle": "2022-03-07T12:00:41.473764Z",
     "shell.execute_reply": "2022-03-07T12:00:41.474288Z"
    },
    "papermill": {
     "duration": 0.078572,
     "end_time": "2022-03-07T12:00:41.474507",
     "exception": false,
     "start_time": "2022-03-07T12:00:41.395935",
     "status": "completed"
    },
    "tags": []
   },
   "outputs": [
    {
     "name": "stdout",
     "output_type": "stream",
     "text": [
      "Shape of original test dataset is: (4209, 377)\n",
      "\n",
      "Shape of modified test dataset after removing features having zero variance is: (4209, 365)\n"
     ]
    }
   ],
   "source": [
    "# Print the original and modified shape of the test dataset\n",
    "print('Shape of original test dataset is:', test_df.shape)\n",
    "print('\\nShape of modified test dataset after removing features having zero variance is:', test_clean_df.shape)"
   ]
  },
  {
   "cell_type": "markdown",
   "id": "14911585",
   "metadata": {
    "papermill": {
     "duration": 0.070588,
     "end_time": "2022-03-07T12:00:41.617430",
     "exception": false,
     "start_time": "2022-03-07T12:00:41.546842",
     "status": "completed"
    },
    "tags": []
   },
   "source": [
    "### Note"
   ]
  },
  {
   "cell_type": "code",
   "execution_count": 26,
   "id": "8cd79fc2",
   "metadata": {
    "execution": {
     "iopub.execute_input": "2022-03-07T12:00:41.766743Z",
     "iopub.status.busy": "2022-03-07T12:00:41.766100Z",
     "iopub.status.idle": "2022-03-07T12:00:41.768489Z",
     "shell.execute_reply": "2022-03-07T12:00:41.768932Z"
    },
    "papermill": {
     "duration": 0.079271,
     "end_time": "2022-03-07T12:00:41.769092",
     "exception": false,
     "start_time": "2022-03-07T12:00:41.689821",
     "status": "completed"
    },
    "tags": []
   },
   "outputs": [],
   "source": [
    "# train dataset after modified have 366 column because \"Y\" column is there and same 365 column in test dataset after \n",
    "# modified"
   ]
  },
  {
   "cell_type": "markdown",
   "id": "335eec01",
   "metadata": {
    "papermill": {
     "duration": 0.076967,
     "end_time": "2022-03-07T12:00:41.920568",
     "exception": false,
     "start_time": "2022-03-07T12:00:41.843601",
     "status": "completed"
    },
    "tags": []
   },
   "source": [
    "<b>2. Check for null and unique values for test and train sets.</b>"
   ]
  },
  {
   "cell_type": "code",
   "execution_count": 27,
   "id": "2efdf4ba",
   "metadata": {
    "execution": {
     "iopub.execute_input": "2022-03-07T12:00:42.073401Z",
     "iopub.status.busy": "2022-03-07T12:00:42.072721Z",
     "iopub.status.idle": "2022-03-07T12:00:42.083740Z",
     "shell.execute_reply": "2022-03-07T12:00:42.084188Z"
    },
    "papermill": {
     "duration": 0.088714,
     "end_time": "2022-03-07T12:00:42.084366",
     "exception": false,
     "start_time": "2022-03-07T12:00:41.995652",
     "status": "completed"
    },
    "tags": []
   },
   "outputs": [
    {
     "data": {
      "text/plain": [
       "0"
      ]
     },
     "execution_count": 27,
     "metadata": {},
     "output_type": "execute_result"
    }
   ],
   "source": [
    "# check null in train modified dataset\n",
    "train_clean_df.isna().all().sum()"
   ]
  },
  {
   "cell_type": "code",
   "execution_count": 28,
   "id": "7f8074bc",
   "metadata": {
    "execution": {
     "iopub.execute_input": "2022-03-07T12:00:42.240046Z",
     "iopub.status.busy": "2022-03-07T12:00:42.239442Z",
     "iopub.status.idle": "2022-03-07T12:00:42.244084Z",
     "shell.execute_reply": "2022-03-07T12:00:42.244568Z"
    },
    "papermill": {
     "duration": 0.086452,
     "end_time": "2022-03-07T12:00:42.244740",
     "exception": false,
     "start_time": "2022-03-07T12:00:42.158288",
     "status": "completed"
    },
    "tags": []
   },
   "outputs": [
    {
     "data": {
      "text/plain": [
       "0"
      ]
     },
     "execution_count": 28,
     "metadata": {},
     "output_type": "execute_result"
    }
   ],
   "source": [
    "# check null in test modified dataset\n",
    "test_clean_df.isna().all().sum()"
   ]
  },
  {
   "cell_type": "code",
   "execution_count": 29,
   "id": "1d8c4dcf",
   "metadata": {
    "execution": {
     "iopub.execute_input": "2022-03-07T12:00:42.395846Z",
     "iopub.status.busy": "2022-03-07T12:00:42.394897Z",
     "iopub.status.idle": "2022-03-07T12:00:42.443140Z",
     "shell.execute_reply": "2022-03-07T12:00:42.443633Z"
    },
    "papermill": {
     "duration": 0.124958,
     "end_time": "2022-03-07T12:00:42.443805",
     "exception": false,
     "start_time": "2022-03-07T12:00:42.318847",
     "status": "completed"
    },
    "tags": []
   },
   "outputs": [
    {
     "data": {
      "text/plain": [
       "ID      4209\n",
       "y       2545\n",
       "X0        47\n",
       "X1        27\n",
       "X2        44\n",
       "        ... \n",
       "X380       2\n",
       "X382       2\n",
       "X383       2\n",
       "X384       2\n",
       "X385       2\n",
       "Length: 366, dtype: int64"
      ]
     },
     "execution_count": 29,
     "metadata": {},
     "output_type": "execute_result"
    }
   ],
   "source": [
    "# check unique values for train set\n",
    "train_clean_df.nunique()\n",
    "#train_clean_df.info()"
   ]
  },
  {
   "cell_type": "code",
   "execution_count": 30,
   "id": "be0cfe13",
   "metadata": {
    "execution": {
     "iopub.execute_input": "2022-03-07T12:00:42.594175Z",
     "iopub.status.busy": "2022-03-07T12:00:42.593644Z",
     "iopub.status.idle": "2022-03-07T12:00:42.638805Z",
     "shell.execute_reply": "2022-03-07T12:00:42.639359Z"
    },
    "papermill": {
     "duration": 0.122862,
     "end_time": "2022-03-07T12:00:42.639534",
     "exception": false,
     "start_time": "2022-03-07T12:00:42.516672",
     "status": "completed"
    },
    "tags": []
   },
   "outputs": [
    {
     "data": {
      "text/plain": [
       "ID      4209\n",
       "X0        49\n",
       "X1        27\n",
       "X2        45\n",
       "X3         7\n",
       "        ... \n",
       "X380       2\n",
       "X382       2\n",
       "X383       2\n",
       "X384       2\n",
       "X385       2\n",
       "Length: 365, dtype: int64"
      ]
     },
     "execution_count": 30,
     "metadata": {},
     "output_type": "execute_result"
    }
   ],
   "source": [
    "# check unique values for test set\n",
    "test_clean_df.nunique()"
   ]
  },
  {
   "cell_type": "markdown",
   "id": "656342d5",
   "metadata": {
    "papermill": {
     "duration": 0.073561,
     "end_time": "2022-03-07T12:00:42.788347",
     "exception": false,
     "start_time": "2022-03-07T12:00:42.714786",
     "status": "completed"
    },
    "tags": []
   },
   "source": [
    "<b>3. Apply label encoder</b>"
   ]
  },
  {
   "cell_type": "code",
   "execution_count": 31,
   "id": "5c3f1eae",
   "metadata": {
    "execution": {
     "iopub.execute_input": "2022-03-07T12:00:42.943648Z",
     "iopub.status.busy": "2022-03-07T12:00:42.942993Z",
     "iopub.status.idle": "2022-03-07T12:00:42.945853Z",
     "shell.execute_reply": "2022-03-07T12:00:42.946349Z"
    },
    "papermill": {
     "duration": 0.083393,
     "end_time": "2022-03-07T12:00:42.946519",
     "exception": false,
     "start_time": "2022-03-07T12:00:42.863126",
     "status": "completed"
    },
    "tags": []
   },
   "outputs": [],
   "source": [
    "# check categorical features\n"
   ]
  },
  {
   "cell_type": "code",
   "execution_count": 32,
   "id": "eeaf306f",
   "metadata": {
    "execution": {
     "iopub.execute_input": "2022-03-07T12:00:43.097142Z",
     "iopub.status.busy": "2022-03-07T12:00:43.096561Z",
     "iopub.status.idle": "2022-03-07T12:00:43.116310Z",
     "shell.execute_reply": "2022-03-07T12:00:43.116927Z"
    },
    "papermill": {
     "duration": 0.096147,
     "end_time": "2022-03-07T12:00:43.117077",
     "exception": false,
     "start_time": "2022-03-07T12:00:43.020930",
     "status": "completed"
    },
    "tags": []
   },
   "outputs": [
    {
     "data": {
      "text/plain": [
       "['X0', 'X1', 'X2', 'X3', 'X4', 'X5', 'X6', 'X8']"
      ]
     },
     "execution_count": 32,
     "metadata": {},
     "output_type": "execute_result"
    }
   ],
   "source": [
    "train_category=[]\n",
    "for i in train_clean_df:\n",
    "    #print(i)\n",
    "    datatype=train_clean_df[i].dtype\n",
    "    if datatype=='object':\n",
    "        train_category.append(i)\n",
    "        \n",
    "train_category"
   ]
  },
  {
   "cell_type": "code",
   "execution_count": 33,
   "id": "56c2ad95",
   "metadata": {
    "execution": {
     "iopub.execute_input": "2022-03-07T12:00:43.272756Z",
     "iopub.status.busy": "2022-03-07T12:00:43.272111Z",
     "iopub.status.idle": "2022-03-07T12:00:43.275603Z",
     "shell.execute_reply": "2022-03-07T12:00:43.276055Z"
    },
    "papermill": {
     "duration": 0.083944,
     "end_time": "2022-03-07T12:00:43.276223",
     "exception": false,
     "start_time": "2022-03-07T12:00:43.192279",
     "status": "completed"
    },
    "tags": []
   },
   "outputs": [],
   "source": [
    "#import sklearn for preprocessing\n",
    "from sklearn.preprocessing import LabelEncoder\n",
    "from sklearn.metrics import accuracy_score"
   ]
  },
  {
   "cell_type": "code",
   "execution_count": 34,
   "id": "847e8df9",
   "metadata": {
    "execution": {
     "iopub.execute_input": "2022-03-07T12:00:43.432426Z",
     "iopub.status.busy": "2022-03-07T12:00:43.431786Z",
     "iopub.status.idle": "2022-03-07T12:00:43.433257Z",
     "shell.execute_reply": "2022-03-07T12:00:43.433724Z"
    },
    "papermill": {
     "duration": 0.082228,
     "end_time": "2022-03-07T12:00:43.433894",
     "exception": false,
     "start_time": "2022-03-07T12:00:43.351666",
     "status": "completed"
    },
    "tags": []
   },
   "outputs": [],
   "source": [
    "le=LabelEncoder()"
   ]
  },
  {
   "cell_type": "code",
   "execution_count": 35,
   "id": "eda78edb",
   "metadata": {
    "execution": {
     "iopub.execute_input": "2022-03-07T12:00:43.586217Z",
     "iopub.status.busy": "2022-03-07T12:00:43.585638Z",
     "iopub.status.idle": "2022-03-07T12:00:43.616266Z",
     "shell.execute_reply": "2022-03-07T12:00:43.616722Z"
    },
    "papermill": {
     "duration": 0.107881,
     "end_time": "2022-03-07T12:00:43.616910",
     "exception": false,
     "start_time": "2022-03-07T12:00:43.509029",
     "status": "completed"
    },
    "tags": []
   },
   "outputs": [],
   "source": [
    "for i in train_clean_df:\n",
    "    datatype=train_clean_df[i].dtype\n",
    "    if datatype=='object':\n",
    "        train_clean_df[i]=le.fit_transform(train_clean_df[i])"
   ]
  },
  {
   "cell_type": "code",
   "execution_count": 36,
   "id": "6dd7d016",
   "metadata": {
    "execution": {
     "iopub.execute_input": "2022-03-07T12:00:43.769555Z",
     "iopub.status.busy": "2022-03-07T12:00:43.768963Z",
     "iopub.status.idle": "2022-03-07T12:00:43.773357Z",
     "shell.execute_reply": "2022-03-07T12:00:43.773833Z"
    },
    "papermill": {
     "duration": 0.082668,
     "end_time": "2022-03-07T12:00:43.773988",
     "exception": false,
     "start_time": "2022-03-07T12:00:43.691320",
     "status": "completed"
    },
    "tags": []
   },
   "outputs": [
    {
     "data": {
      "text/plain": [
       "(4209, 366)"
      ]
     },
     "execution_count": 36,
     "metadata": {},
     "output_type": "execute_result"
    }
   ],
   "source": [
    "train_clean_df.shape"
   ]
  },
  {
   "cell_type": "code",
   "execution_count": 37,
   "id": "158745b2",
   "metadata": {
    "execution": {
     "iopub.execute_input": "2022-03-07T12:00:43.931235Z",
     "iopub.status.busy": "2022-03-07T12:00:43.930641Z",
     "iopub.status.idle": "2022-03-07T12:00:43.948045Z",
     "shell.execute_reply": "2022-03-07T12:00:43.948498Z"
    },
    "papermill": {
     "duration": 0.098063,
     "end_time": "2022-03-07T12:00:43.948661",
     "exception": false,
     "start_time": "2022-03-07T12:00:43.850598",
     "status": "completed"
    },
    "tags": []
   },
   "outputs": [
    {
     "data": {
      "text/html": [
       "<div>\n",
       "<style scoped>\n",
       "    .dataframe tbody tr th:only-of-type {\n",
       "        vertical-align: middle;\n",
       "    }\n",
       "\n",
       "    .dataframe tbody tr th {\n",
       "        vertical-align: top;\n",
       "    }\n",
       "\n",
       "    .dataframe thead th {\n",
       "        text-align: right;\n",
       "    }\n",
       "</style>\n",
       "<table border=\"1\" class=\"dataframe\">\n",
       "  <thead>\n",
       "    <tr style=\"text-align: right;\">\n",
       "      <th></th>\n",
       "      <th>ID</th>\n",
       "      <th>y</th>\n",
       "      <th>X0</th>\n",
       "      <th>X1</th>\n",
       "      <th>X2</th>\n",
       "      <th>X3</th>\n",
       "      <th>X4</th>\n",
       "      <th>X5</th>\n",
       "      <th>X6</th>\n",
       "      <th>X8</th>\n",
       "      <th>...</th>\n",
       "      <th>X375</th>\n",
       "      <th>X376</th>\n",
       "      <th>X377</th>\n",
       "      <th>X378</th>\n",
       "      <th>X379</th>\n",
       "      <th>X380</th>\n",
       "      <th>X382</th>\n",
       "      <th>X383</th>\n",
       "      <th>X384</th>\n",
       "      <th>X385</th>\n",
       "    </tr>\n",
       "  </thead>\n",
       "  <tbody>\n",
       "    <tr>\n",
       "      <th>0</th>\n",
       "      <td>0</td>\n",
       "      <td>130.81</td>\n",
       "      <td>32</td>\n",
       "      <td>23</td>\n",
       "      <td>17</td>\n",
       "      <td>0</td>\n",
       "      <td>3</td>\n",
       "      <td>24</td>\n",
       "      <td>9</td>\n",
       "      <td>14</td>\n",
       "      <td>...</td>\n",
       "      <td>0</td>\n",
       "      <td>0</td>\n",
       "      <td>1</td>\n",
       "      <td>0</td>\n",
       "      <td>0</td>\n",
       "      <td>0</td>\n",
       "      <td>0</td>\n",
       "      <td>0</td>\n",
       "      <td>0</td>\n",
       "      <td>0</td>\n",
       "    </tr>\n",
       "    <tr>\n",
       "      <th>1</th>\n",
       "      <td>6</td>\n",
       "      <td>88.53</td>\n",
       "      <td>32</td>\n",
       "      <td>21</td>\n",
       "      <td>19</td>\n",
       "      <td>4</td>\n",
       "      <td>3</td>\n",
       "      <td>28</td>\n",
       "      <td>11</td>\n",
       "      <td>14</td>\n",
       "      <td>...</td>\n",
       "      <td>1</td>\n",
       "      <td>0</td>\n",
       "      <td>0</td>\n",
       "      <td>0</td>\n",
       "      <td>0</td>\n",
       "      <td>0</td>\n",
       "      <td>0</td>\n",
       "      <td>0</td>\n",
       "      <td>0</td>\n",
       "      <td>0</td>\n",
       "    </tr>\n",
       "    <tr>\n",
       "      <th>2</th>\n",
       "      <td>7</td>\n",
       "      <td>76.26</td>\n",
       "      <td>20</td>\n",
       "      <td>24</td>\n",
       "      <td>34</td>\n",
       "      <td>2</td>\n",
       "      <td>3</td>\n",
       "      <td>27</td>\n",
       "      <td>9</td>\n",
       "      <td>23</td>\n",
       "      <td>...</td>\n",
       "      <td>0</td>\n",
       "      <td>0</td>\n",
       "      <td>0</td>\n",
       "      <td>0</td>\n",
       "      <td>0</td>\n",
       "      <td>0</td>\n",
       "      <td>1</td>\n",
       "      <td>0</td>\n",
       "      <td>0</td>\n",
       "      <td>0</td>\n",
       "    </tr>\n",
       "    <tr>\n",
       "      <th>3</th>\n",
       "      <td>9</td>\n",
       "      <td>80.62</td>\n",
       "      <td>20</td>\n",
       "      <td>21</td>\n",
       "      <td>34</td>\n",
       "      <td>5</td>\n",
       "      <td>3</td>\n",
       "      <td>27</td>\n",
       "      <td>11</td>\n",
       "      <td>4</td>\n",
       "      <td>...</td>\n",
       "      <td>0</td>\n",
       "      <td>0</td>\n",
       "      <td>0</td>\n",
       "      <td>0</td>\n",
       "      <td>0</td>\n",
       "      <td>0</td>\n",
       "      <td>0</td>\n",
       "      <td>0</td>\n",
       "      <td>0</td>\n",
       "      <td>0</td>\n",
       "    </tr>\n",
       "    <tr>\n",
       "      <th>4</th>\n",
       "      <td>13</td>\n",
       "      <td>78.02</td>\n",
       "      <td>20</td>\n",
       "      <td>23</td>\n",
       "      <td>34</td>\n",
       "      <td>5</td>\n",
       "      <td>3</td>\n",
       "      <td>12</td>\n",
       "      <td>3</td>\n",
       "      <td>13</td>\n",
       "      <td>...</td>\n",
       "      <td>0</td>\n",
       "      <td>0</td>\n",
       "      <td>0</td>\n",
       "      <td>0</td>\n",
       "      <td>0</td>\n",
       "      <td>0</td>\n",
       "      <td>0</td>\n",
       "      <td>0</td>\n",
       "      <td>0</td>\n",
       "      <td>0</td>\n",
       "    </tr>\n",
       "  </tbody>\n",
       "</table>\n",
       "<p>5 rows × 366 columns</p>\n",
       "</div>"
      ],
      "text/plain": [
       "   ID       y  X0  X1  X2  X3  X4  X5  X6  X8  ...  X375  X376  X377  X378  \\\n",
       "0   0  130.81  32  23  17   0   3  24   9  14  ...     0     0     1     0   \n",
       "1   6   88.53  32  21  19   4   3  28  11  14  ...     1     0     0     0   \n",
       "2   7   76.26  20  24  34   2   3  27   9  23  ...     0     0     0     0   \n",
       "3   9   80.62  20  21  34   5   3  27  11   4  ...     0     0     0     0   \n",
       "4  13   78.02  20  23  34   5   3  12   3  13  ...     0     0     0     0   \n",
       "\n",
       "   X379  X380  X382  X383  X384  X385  \n",
       "0     0     0     0     0     0     0  \n",
       "1     0     0     0     0     0     0  \n",
       "2     0     0     1     0     0     0  \n",
       "3     0     0     0     0     0     0  \n",
       "4     0     0     0     0     0     0  \n",
       "\n",
       "[5 rows x 366 columns]"
      ]
     },
     "execution_count": 37,
     "metadata": {},
     "output_type": "execute_result"
    }
   ],
   "source": [
    "train_clean_df.head()"
   ]
  },
  {
   "cell_type": "code",
   "execution_count": 38,
   "id": "65bb97a4",
   "metadata": {
    "execution": {
     "iopub.execute_input": "2022-03-07T12:00:44.111798Z",
     "iopub.status.busy": "2022-03-07T12:00:44.111100Z",
     "iopub.status.idle": "2022-03-07T12:00:44.144163Z",
     "shell.execute_reply": "2022-03-07T12:00:44.143544Z"
    },
    "papermill": {
     "duration": 0.119783,
     "end_time": "2022-03-07T12:00:44.144306",
     "exception": false,
     "start_time": "2022-03-07T12:00:44.024523",
     "status": "completed"
    },
    "tags": []
   },
   "outputs": [
    {
     "name": "stdout",
     "output_type": "stream",
     "text": [
      "X0\n",
      "X1\n",
      "X2\n",
      "X3\n",
      "X4\n",
      "X5\n",
      "X6\n",
      "X8\n"
     ]
    }
   ],
   "source": [
    "# apply encoder on test data\n",
    "test_categoty=[]\n",
    "for i in test_clean_df:\n",
    "    datatype=test_clean_df[i].dtype\n",
    "    if datatype=='object':\n",
    "        print(i)\n",
    "        test_categoty.append(i)\n",
    "        test_clean_df[i]=le.fit_transform(test_clean_df[i])"
   ]
  },
  {
   "cell_type": "code",
   "execution_count": 39,
   "id": "c939cdff",
   "metadata": {
    "execution": {
     "iopub.execute_input": "2022-03-07T12:00:44.305087Z",
     "iopub.status.busy": "2022-03-07T12:00:44.304474Z",
     "iopub.status.idle": "2022-03-07T12:00:44.308890Z",
     "shell.execute_reply": "2022-03-07T12:00:44.309356Z"
    },
    "papermill": {
     "duration": 0.086517,
     "end_time": "2022-03-07T12:00:44.309533",
     "exception": false,
     "start_time": "2022-03-07T12:00:44.223016",
     "status": "completed"
    },
    "tags": []
   },
   "outputs": [
    {
     "data": {
      "text/plain": [
       "['X0', 'X1', 'X2', 'X3', 'X4', 'X5', 'X6', 'X8']"
      ]
     },
     "execution_count": 39,
     "metadata": {},
     "output_type": "execute_result"
    }
   ],
   "source": [
    "test_categoty\n"
   ]
  },
  {
   "cell_type": "code",
   "execution_count": 40,
   "id": "4ae6b190",
   "metadata": {
    "execution": {
     "iopub.execute_input": "2022-03-07T12:00:44.468931Z",
     "iopub.status.busy": "2022-03-07T12:00:44.468368Z",
     "iopub.status.idle": "2022-03-07T12:00:44.472453Z",
     "shell.execute_reply": "2022-03-07T12:00:44.472941Z"
    },
    "papermill": {
     "duration": 0.084605,
     "end_time": "2022-03-07T12:00:44.473099",
     "exception": false,
     "start_time": "2022-03-07T12:00:44.388494",
     "status": "completed"
    },
    "tags": []
   },
   "outputs": [
    {
     "data": {
      "text/plain": [
       "(4209, 365)"
      ]
     },
     "execution_count": 40,
     "metadata": {},
     "output_type": "execute_result"
    }
   ],
   "source": [
    "test_clean_df.shape"
   ]
  },
  {
   "cell_type": "code",
   "execution_count": 41,
   "id": "5f44f514",
   "metadata": {
    "execution": {
     "iopub.execute_input": "2022-03-07T12:00:44.632423Z",
     "iopub.status.busy": "2022-03-07T12:00:44.631792Z",
     "iopub.status.idle": "2022-03-07T12:00:44.648004Z",
     "shell.execute_reply": "2022-03-07T12:00:44.648567Z"
    },
    "papermill": {
     "duration": 0.098095,
     "end_time": "2022-03-07T12:00:44.648737",
     "exception": false,
     "start_time": "2022-03-07T12:00:44.550642",
     "status": "completed"
    },
    "tags": []
   },
   "outputs": [
    {
     "data": {
      "text/html": [
       "<div>\n",
       "<style scoped>\n",
       "    .dataframe tbody tr th:only-of-type {\n",
       "        vertical-align: middle;\n",
       "    }\n",
       "\n",
       "    .dataframe tbody tr th {\n",
       "        vertical-align: top;\n",
       "    }\n",
       "\n",
       "    .dataframe thead th {\n",
       "        text-align: right;\n",
       "    }\n",
       "</style>\n",
       "<table border=\"1\" class=\"dataframe\">\n",
       "  <thead>\n",
       "    <tr style=\"text-align: right;\">\n",
       "      <th></th>\n",
       "      <th>ID</th>\n",
       "      <th>X0</th>\n",
       "      <th>X1</th>\n",
       "      <th>X2</th>\n",
       "      <th>X3</th>\n",
       "      <th>X4</th>\n",
       "      <th>X5</th>\n",
       "      <th>X6</th>\n",
       "      <th>X8</th>\n",
       "      <th>X10</th>\n",
       "      <th>...</th>\n",
       "      <th>X375</th>\n",
       "      <th>X376</th>\n",
       "      <th>X377</th>\n",
       "      <th>X378</th>\n",
       "      <th>X379</th>\n",
       "      <th>X380</th>\n",
       "      <th>X382</th>\n",
       "      <th>X383</th>\n",
       "      <th>X384</th>\n",
       "      <th>X385</th>\n",
       "    </tr>\n",
       "  </thead>\n",
       "  <tbody>\n",
       "    <tr>\n",
       "      <th>0</th>\n",
       "      <td>1</td>\n",
       "      <td>21</td>\n",
       "      <td>23</td>\n",
       "      <td>34</td>\n",
       "      <td>5</td>\n",
       "      <td>3</td>\n",
       "      <td>26</td>\n",
       "      <td>0</td>\n",
       "      <td>22</td>\n",
       "      <td>0</td>\n",
       "      <td>...</td>\n",
       "      <td>0</td>\n",
       "      <td>0</td>\n",
       "      <td>0</td>\n",
       "      <td>1</td>\n",
       "      <td>0</td>\n",
       "      <td>0</td>\n",
       "      <td>0</td>\n",
       "      <td>0</td>\n",
       "      <td>0</td>\n",
       "      <td>0</td>\n",
       "    </tr>\n",
       "    <tr>\n",
       "      <th>1</th>\n",
       "      <td>2</td>\n",
       "      <td>42</td>\n",
       "      <td>3</td>\n",
       "      <td>8</td>\n",
       "      <td>0</td>\n",
       "      <td>3</td>\n",
       "      <td>9</td>\n",
       "      <td>6</td>\n",
       "      <td>24</td>\n",
       "      <td>0</td>\n",
       "      <td>...</td>\n",
       "      <td>0</td>\n",
       "      <td>0</td>\n",
       "      <td>1</td>\n",
       "      <td>0</td>\n",
       "      <td>0</td>\n",
       "      <td>0</td>\n",
       "      <td>0</td>\n",
       "      <td>0</td>\n",
       "      <td>0</td>\n",
       "      <td>0</td>\n",
       "    </tr>\n",
       "    <tr>\n",
       "      <th>2</th>\n",
       "      <td>3</td>\n",
       "      <td>21</td>\n",
       "      <td>23</td>\n",
       "      <td>17</td>\n",
       "      <td>5</td>\n",
       "      <td>3</td>\n",
       "      <td>0</td>\n",
       "      <td>9</td>\n",
       "      <td>9</td>\n",
       "      <td>0</td>\n",
       "      <td>...</td>\n",
       "      <td>0</td>\n",
       "      <td>0</td>\n",
       "      <td>0</td>\n",
       "      <td>1</td>\n",
       "      <td>0</td>\n",
       "      <td>0</td>\n",
       "      <td>0</td>\n",
       "      <td>0</td>\n",
       "      <td>0</td>\n",
       "      <td>0</td>\n",
       "    </tr>\n",
       "    <tr>\n",
       "      <th>3</th>\n",
       "      <td>4</td>\n",
       "      <td>21</td>\n",
       "      <td>13</td>\n",
       "      <td>34</td>\n",
       "      <td>5</td>\n",
       "      <td>3</td>\n",
       "      <td>31</td>\n",
       "      <td>11</td>\n",
       "      <td>13</td>\n",
       "      <td>0</td>\n",
       "      <td>...</td>\n",
       "      <td>0</td>\n",
       "      <td>0</td>\n",
       "      <td>0</td>\n",
       "      <td>1</td>\n",
       "      <td>0</td>\n",
       "      <td>0</td>\n",
       "      <td>0</td>\n",
       "      <td>0</td>\n",
       "      <td>0</td>\n",
       "      <td>0</td>\n",
       "    </tr>\n",
       "    <tr>\n",
       "      <th>4</th>\n",
       "      <td>5</td>\n",
       "      <td>45</td>\n",
       "      <td>20</td>\n",
       "      <td>17</td>\n",
       "      <td>2</td>\n",
       "      <td>3</td>\n",
       "      <td>30</td>\n",
       "      <td>8</td>\n",
       "      <td>12</td>\n",
       "      <td>0</td>\n",
       "      <td>...</td>\n",
       "      <td>1</td>\n",
       "      <td>0</td>\n",
       "      <td>0</td>\n",
       "      <td>0</td>\n",
       "      <td>0</td>\n",
       "      <td>0</td>\n",
       "      <td>0</td>\n",
       "      <td>0</td>\n",
       "      <td>0</td>\n",
       "      <td>0</td>\n",
       "    </tr>\n",
       "  </tbody>\n",
       "</table>\n",
       "<p>5 rows × 365 columns</p>\n",
       "</div>"
      ],
      "text/plain": [
       "   ID  X0  X1  X2  X3  X4  X5  X6  X8  X10  ...  X375  X376  X377  X378  X379  \\\n",
       "0   1  21  23  34   5   3  26   0  22    0  ...     0     0     0     1     0   \n",
       "1   2  42   3   8   0   3   9   6  24    0  ...     0     0     1     0     0   \n",
       "2   3  21  23  17   5   3   0   9   9    0  ...     0     0     0     1     0   \n",
       "3   4  21  13  34   5   3  31  11  13    0  ...     0     0     0     1     0   \n",
       "4   5  45  20  17   2   3  30   8  12    0  ...     1     0     0     0     0   \n",
       "\n",
       "   X380  X382  X383  X384  X385  \n",
       "0     0     0     0     0     0  \n",
       "1     0     0     0     0     0  \n",
       "2     0     0     0     0     0  \n",
       "3     0     0     0     0     0  \n",
       "4     0     0     0     0     0  \n",
       "\n",
       "[5 rows x 365 columns]"
      ]
     },
     "execution_count": 41,
     "metadata": {},
     "output_type": "execute_result"
    }
   ],
   "source": [
    "test_clean_df.head()"
   ]
  },
  {
   "cell_type": "markdown",
   "id": "2335d18d",
   "metadata": {
    "papermill": {
     "duration": 0.07987,
     "end_time": "2022-03-07T12:00:44.808388",
     "exception": false,
     "start_time": "2022-03-07T12:00:44.728518",
     "status": "completed"
    },
    "tags": []
   },
   "source": [
    "<b>4.Perform dimensionality reduction.</b>"
   ]
  },
  {
   "cell_type": "code",
   "execution_count": 42,
   "id": "bb27ebe6",
   "metadata": {
    "execution": {
     "iopub.execute_input": "2022-03-07T12:00:44.972872Z",
     "iopub.status.busy": "2022-03-07T12:00:44.972253Z",
     "iopub.status.idle": "2022-03-07T12:00:44.975006Z",
     "shell.execute_reply": "2022-03-07T12:00:44.975576Z"
    },
    "papermill": {
     "duration": 0.086036,
     "end_time": "2022-03-07T12:00:44.975741",
     "exception": false,
     "start_time": "2022-03-07T12:00:44.889705",
     "status": "completed"
    },
    "tags": []
   },
   "outputs": [],
   "source": [
    "#import sklearn for perform dimensionality reduction"
   ]
  },
  {
   "cell_type": "code",
   "execution_count": 43,
   "id": "e8b6582c",
   "metadata": {
    "execution": {
     "iopub.execute_input": "2022-03-07T12:00:45.140705Z",
     "iopub.status.busy": "2022-03-07T12:00:45.140065Z",
     "iopub.status.idle": "2022-03-07T12:00:45.231664Z",
     "shell.execute_reply": "2022-03-07T12:00:45.232199Z"
    },
    "papermill": {
     "duration": 0.175154,
     "end_time": "2022-03-07T12:00:45.232380",
     "exception": false,
     "start_time": "2022-03-07T12:00:45.057226",
     "status": "completed"
    },
    "tags": []
   },
   "outputs": [],
   "source": [
    "from sklearn.decomposition import PCA"
   ]
  },
  {
   "cell_type": "code",
   "execution_count": 44,
   "id": "47f8f1be",
   "metadata": {
    "execution": {
     "iopub.execute_input": "2022-03-07T12:00:45.394656Z",
     "iopub.status.busy": "2022-03-07T12:00:45.393993Z",
     "iopub.status.idle": "2022-03-07T12:00:45.430687Z",
     "shell.execute_reply": "2022-03-07T12:00:45.431138Z"
    },
    "papermill": {
     "duration": 0.120659,
     "end_time": "2022-03-07T12:00:45.431330",
     "exception": false,
     "start_time": "2022-03-07T12:00:45.310671",
     "status": "completed"
    },
    "tags": []
   },
   "outputs": [],
   "source": [
    "# train data\n",
    "X_features=train_clean_df.drop(['ID','y'],axis=1)\n",
    "y_output=train_clean_df['y']\n",
    "\n",
    "\n",
    "#test data\n",
    "test_clean_df=test_clean_df.drop([\"ID\"],axis=1)"
   ]
  },
  {
   "cell_type": "code",
   "execution_count": 45,
   "id": "a5205c32",
   "metadata": {
    "execution": {
     "iopub.execute_input": "2022-03-07T12:00:45.595178Z",
     "iopub.status.busy": "2022-03-07T12:00:45.594599Z",
     "iopub.status.idle": "2022-03-07T12:00:45.609249Z",
     "shell.execute_reply": "2022-03-07T12:00:45.609774Z"
    },
    "papermill": {
     "duration": 0.098039,
     "end_time": "2022-03-07T12:00:45.609938",
     "exception": false,
     "start_time": "2022-03-07T12:00:45.511899",
     "status": "completed"
    },
    "tags": []
   },
   "outputs": [
    {
     "data": {
      "text/html": [
       "<div>\n",
       "<style scoped>\n",
       "    .dataframe tbody tr th:only-of-type {\n",
       "        vertical-align: middle;\n",
       "    }\n",
       "\n",
       "    .dataframe tbody tr th {\n",
       "        vertical-align: top;\n",
       "    }\n",
       "\n",
       "    .dataframe thead th {\n",
       "        text-align: right;\n",
       "    }\n",
       "</style>\n",
       "<table border=\"1\" class=\"dataframe\">\n",
       "  <thead>\n",
       "    <tr style=\"text-align: right;\">\n",
       "      <th></th>\n",
       "      <th>X0</th>\n",
       "      <th>X1</th>\n",
       "      <th>X2</th>\n",
       "      <th>X3</th>\n",
       "      <th>X4</th>\n",
       "      <th>X5</th>\n",
       "      <th>X6</th>\n",
       "      <th>X8</th>\n",
       "      <th>X10</th>\n",
       "      <th>X12</th>\n",
       "      <th>...</th>\n",
       "      <th>X375</th>\n",
       "      <th>X376</th>\n",
       "      <th>X377</th>\n",
       "      <th>X378</th>\n",
       "      <th>X379</th>\n",
       "      <th>X380</th>\n",
       "      <th>X382</th>\n",
       "      <th>X383</th>\n",
       "      <th>X384</th>\n",
       "      <th>X385</th>\n",
       "    </tr>\n",
       "  </thead>\n",
       "  <tbody>\n",
       "    <tr>\n",
       "      <th>0</th>\n",
       "      <td>32</td>\n",
       "      <td>23</td>\n",
       "      <td>17</td>\n",
       "      <td>0</td>\n",
       "      <td>3</td>\n",
       "      <td>24</td>\n",
       "      <td>9</td>\n",
       "      <td>14</td>\n",
       "      <td>0</td>\n",
       "      <td>0</td>\n",
       "      <td>...</td>\n",
       "      <td>0</td>\n",
       "      <td>0</td>\n",
       "      <td>1</td>\n",
       "      <td>0</td>\n",
       "      <td>0</td>\n",
       "      <td>0</td>\n",
       "      <td>0</td>\n",
       "      <td>0</td>\n",
       "      <td>0</td>\n",
       "      <td>0</td>\n",
       "    </tr>\n",
       "    <tr>\n",
       "      <th>1</th>\n",
       "      <td>32</td>\n",
       "      <td>21</td>\n",
       "      <td>19</td>\n",
       "      <td>4</td>\n",
       "      <td>3</td>\n",
       "      <td>28</td>\n",
       "      <td>11</td>\n",
       "      <td>14</td>\n",
       "      <td>0</td>\n",
       "      <td>0</td>\n",
       "      <td>...</td>\n",
       "      <td>1</td>\n",
       "      <td>0</td>\n",
       "      <td>0</td>\n",
       "      <td>0</td>\n",
       "      <td>0</td>\n",
       "      <td>0</td>\n",
       "      <td>0</td>\n",
       "      <td>0</td>\n",
       "      <td>0</td>\n",
       "      <td>0</td>\n",
       "    </tr>\n",
       "    <tr>\n",
       "      <th>2</th>\n",
       "      <td>20</td>\n",
       "      <td>24</td>\n",
       "      <td>34</td>\n",
       "      <td>2</td>\n",
       "      <td>3</td>\n",
       "      <td>27</td>\n",
       "      <td>9</td>\n",
       "      <td>23</td>\n",
       "      <td>0</td>\n",
       "      <td>0</td>\n",
       "      <td>...</td>\n",
       "      <td>0</td>\n",
       "      <td>0</td>\n",
       "      <td>0</td>\n",
       "      <td>0</td>\n",
       "      <td>0</td>\n",
       "      <td>0</td>\n",
       "      <td>1</td>\n",
       "      <td>0</td>\n",
       "      <td>0</td>\n",
       "      <td>0</td>\n",
       "    </tr>\n",
       "    <tr>\n",
       "      <th>3</th>\n",
       "      <td>20</td>\n",
       "      <td>21</td>\n",
       "      <td>34</td>\n",
       "      <td>5</td>\n",
       "      <td>3</td>\n",
       "      <td>27</td>\n",
       "      <td>11</td>\n",
       "      <td>4</td>\n",
       "      <td>0</td>\n",
       "      <td>0</td>\n",
       "      <td>...</td>\n",
       "      <td>0</td>\n",
       "      <td>0</td>\n",
       "      <td>0</td>\n",
       "      <td>0</td>\n",
       "      <td>0</td>\n",
       "      <td>0</td>\n",
       "      <td>0</td>\n",
       "      <td>0</td>\n",
       "      <td>0</td>\n",
       "      <td>0</td>\n",
       "    </tr>\n",
       "    <tr>\n",
       "      <th>4</th>\n",
       "      <td>20</td>\n",
       "      <td>23</td>\n",
       "      <td>34</td>\n",
       "      <td>5</td>\n",
       "      <td>3</td>\n",
       "      <td>12</td>\n",
       "      <td>3</td>\n",
       "      <td>13</td>\n",
       "      <td>0</td>\n",
       "      <td>0</td>\n",
       "      <td>...</td>\n",
       "      <td>0</td>\n",
       "      <td>0</td>\n",
       "      <td>0</td>\n",
       "      <td>0</td>\n",
       "      <td>0</td>\n",
       "      <td>0</td>\n",
       "      <td>0</td>\n",
       "      <td>0</td>\n",
       "      <td>0</td>\n",
       "      <td>0</td>\n",
       "    </tr>\n",
       "  </tbody>\n",
       "</table>\n",
       "<p>5 rows × 364 columns</p>\n",
       "</div>"
      ],
      "text/plain": [
       "   X0  X1  X2  X3  X4  X5  X6  X8  X10  X12  ...  X375  X376  X377  X378  \\\n",
       "0  32  23  17   0   3  24   9  14    0    0  ...     0     0     1     0   \n",
       "1  32  21  19   4   3  28  11  14    0    0  ...     1     0     0     0   \n",
       "2  20  24  34   2   3  27   9  23    0    0  ...     0     0     0     0   \n",
       "3  20  21  34   5   3  27  11   4    0    0  ...     0     0     0     0   \n",
       "4  20  23  34   5   3  12   3  13    0    0  ...     0     0     0     0   \n",
       "\n",
       "   X379  X380  X382  X383  X384  X385  \n",
       "0     0     0     0     0     0     0  \n",
       "1     0     0     0     0     0     0  \n",
       "2     0     0     1     0     0     0  \n",
       "3     0     0     0     0     0     0  \n",
       "4     0     0     0     0     0     0  \n",
       "\n",
       "[5 rows x 364 columns]"
      ]
     },
     "execution_count": 45,
     "metadata": {},
     "output_type": "execute_result"
    }
   ],
   "source": [
    "X_features.head()"
   ]
  },
  {
   "cell_type": "code",
   "execution_count": 46,
   "id": "21f1eb60",
   "metadata": {
    "execution": {
     "iopub.execute_input": "2022-03-07T12:00:45.778534Z",
     "iopub.status.busy": "2022-03-07T12:00:45.777557Z",
     "iopub.status.idle": "2022-03-07T12:00:45.791036Z",
     "shell.execute_reply": "2022-03-07T12:00:45.791663Z"
    },
    "papermill": {
     "duration": 0.101667,
     "end_time": "2022-03-07T12:00:45.791862",
     "exception": false,
     "start_time": "2022-03-07T12:00:45.690195",
     "status": "completed"
    },
    "tags": []
   },
   "outputs": [
    {
     "data": {
      "text/html": [
       "<div>\n",
       "<style scoped>\n",
       "    .dataframe tbody tr th:only-of-type {\n",
       "        vertical-align: middle;\n",
       "    }\n",
       "\n",
       "    .dataframe tbody tr th {\n",
       "        vertical-align: top;\n",
       "    }\n",
       "\n",
       "    .dataframe thead th {\n",
       "        text-align: right;\n",
       "    }\n",
       "</style>\n",
       "<table border=\"1\" class=\"dataframe\">\n",
       "  <thead>\n",
       "    <tr style=\"text-align: right;\">\n",
       "      <th></th>\n",
       "      <th>X0</th>\n",
       "      <th>X1</th>\n",
       "      <th>X2</th>\n",
       "      <th>X3</th>\n",
       "      <th>X4</th>\n",
       "      <th>X5</th>\n",
       "      <th>X6</th>\n",
       "      <th>X8</th>\n",
       "      <th>X10</th>\n",
       "      <th>X12</th>\n",
       "      <th>...</th>\n",
       "      <th>X375</th>\n",
       "      <th>X376</th>\n",
       "      <th>X377</th>\n",
       "      <th>X378</th>\n",
       "      <th>X379</th>\n",
       "      <th>X380</th>\n",
       "      <th>X382</th>\n",
       "      <th>X383</th>\n",
       "      <th>X384</th>\n",
       "      <th>X385</th>\n",
       "    </tr>\n",
       "  </thead>\n",
       "  <tbody>\n",
       "    <tr>\n",
       "      <th>0</th>\n",
       "      <td>21</td>\n",
       "      <td>23</td>\n",
       "      <td>34</td>\n",
       "      <td>5</td>\n",
       "      <td>3</td>\n",
       "      <td>26</td>\n",
       "      <td>0</td>\n",
       "      <td>22</td>\n",
       "      <td>0</td>\n",
       "      <td>0</td>\n",
       "      <td>...</td>\n",
       "      <td>0</td>\n",
       "      <td>0</td>\n",
       "      <td>0</td>\n",
       "      <td>1</td>\n",
       "      <td>0</td>\n",
       "      <td>0</td>\n",
       "      <td>0</td>\n",
       "      <td>0</td>\n",
       "      <td>0</td>\n",
       "      <td>0</td>\n",
       "    </tr>\n",
       "    <tr>\n",
       "      <th>1</th>\n",
       "      <td>42</td>\n",
       "      <td>3</td>\n",
       "      <td>8</td>\n",
       "      <td>0</td>\n",
       "      <td>3</td>\n",
       "      <td>9</td>\n",
       "      <td>6</td>\n",
       "      <td>24</td>\n",
       "      <td>0</td>\n",
       "      <td>0</td>\n",
       "      <td>...</td>\n",
       "      <td>0</td>\n",
       "      <td>0</td>\n",
       "      <td>1</td>\n",
       "      <td>0</td>\n",
       "      <td>0</td>\n",
       "      <td>0</td>\n",
       "      <td>0</td>\n",
       "      <td>0</td>\n",
       "      <td>0</td>\n",
       "      <td>0</td>\n",
       "    </tr>\n",
       "    <tr>\n",
       "      <th>2</th>\n",
       "      <td>21</td>\n",
       "      <td>23</td>\n",
       "      <td>17</td>\n",
       "      <td>5</td>\n",
       "      <td>3</td>\n",
       "      <td>0</td>\n",
       "      <td>9</td>\n",
       "      <td>9</td>\n",
       "      <td>0</td>\n",
       "      <td>0</td>\n",
       "      <td>...</td>\n",
       "      <td>0</td>\n",
       "      <td>0</td>\n",
       "      <td>0</td>\n",
       "      <td>1</td>\n",
       "      <td>0</td>\n",
       "      <td>0</td>\n",
       "      <td>0</td>\n",
       "      <td>0</td>\n",
       "      <td>0</td>\n",
       "      <td>0</td>\n",
       "    </tr>\n",
       "    <tr>\n",
       "      <th>3</th>\n",
       "      <td>21</td>\n",
       "      <td>13</td>\n",
       "      <td>34</td>\n",
       "      <td>5</td>\n",
       "      <td>3</td>\n",
       "      <td>31</td>\n",
       "      <td>11</td>\n",
       "      <td>13</td>\n",
       "      <td>0</td>\n",
       "      <td>0</td>\n",
       "      <td>...</td>\n",
       "      <td>0</td>\n",
       "      <td>0</td>\n",
       "      <td>0</td>\n",
       "      <td>1</td>\n",
       "      <td>0</td>\n",
       "      <td>0</td>\n",
       "      <td>0</td>\n",
       "      <td>0</td>\n",
       "      <td>0</td>\n",
       "      <td>0</td>\n",
       "    </tr>\n",
       "    <tr>\n",
       "      <th>4</th>\n",
       "      <td>45</td>\n",
       "      <td>20</td>\n",
       "      <td>17</td>\n",
       "      <td>2</td>\n",
       "      <td>3</td>\n",
       "      <td>30</td>\n",
       "      <td>8</td>\n",
       "      <td>12</td>\n",
       "      <td>0</td>\n",
       "      <td>0</td>\n",
       "      <td>...</td>\n",
       "      <td>1</td>\n",
       "      <td>0</td>\n",
       "      <td>0</td>\n",
       "      <td>0</td>\n",
       "      <td>0</td>\n",
       "      <td>0</td>\n",
       "      <td>0</td>\n",
       "      <td>0</td>\n",
       "      <td>0</td>\n",
       "      <td>0</td>\n",
       "    </tr>\n",
       "  </tbody>\n",
       "</table>\n",
       "<p>5 rows × 364 columns</p>\n",
       "</div>"
      ],
      "text/plain": [
       "   X0  X1  X2  X3  X4  X5  X6  X8  X10  X12  ...  X375  X376  X377  X378  \\\n",
       "0  21  23  34   5   3  26   0  22    0    0  ...     0     0     0     1   \n",
       "1  42   3   8   0   3   9   6  24    0    0  ...     0     0     1     0   \n",
       "2  21  23  17   5   3   0   9   9    0    0  ...     0     0     0     1   \n",
       "3  21  13  34   5   3  31  11  13    0    0  ...     0     0     0     1   \n",
       "4  45  20  17   2   3  30   8  12    0    0  ...     1     0     0     0   \n",
       "\n",
       "   X379  X380  X382  X383  X384  X385  \n",
       "0     0     0     0     0     0     0  \n",
       "1     0     0     0     0     0     0  \n",
       "2     0     0     0     0     0     0  \n",
       "3     0     0     0     0     0     0  \n",
       "4     0     0     0     0     0     0  \n",
       "\n",
       "[5 rows x 364 columns]"
      ]
     },
     "execution_count": 46,
     "metadata": {},
     "output_type": "execute_result"
    }
   ],
   "source": [
    "test_clean_df.head()"
   ]
  },
  {
   "cell_type": "code",
   "execution_count": 47,
   "id": "3416bd04",
   "metadata": {
    "execution": {
     "iopub.execute_input": "2022-03-07T12:00:45.960130Z",
     "iopub.status.busy": "2022-03-07T12:00:45.959177Z",
     "iopub.status.idle": "2022-03-07T12:00:45.962965Z",
     "shell.execute_reply": "2022-03-07T12:00:45.963583Z"
    },
    "papermill": {
     "duration": 0.089921,
     "end_time": "2022-03-07T12:00:45.963751",
     "exception": false,
     "start_time": "2022-03-07T12:00:45.873830",
     "status": "completed"
    },
    "tags": []
   },
   "outputs": [],
   "source": [
    "pca=PCA(n_components=0.96) # trying to get 96% varience of features"
   ]
  },
  {
   "cell_type": "code",
   "execution_count": 48,
   "id": "9b9581f0",
   "metadata": {
    "execution": {
     "iopub.execute_input": "2022-03-07T12:00:46.136367Z",
     "iopub.status.busy": "2022-03-07T12:00:46.135744Z",
     "iopub.status.idle": "2022-03-07T12:00:46.343882Z",
     "shell.execute_reply": "2022-03-07T12:00:46.344965Z"
    },
    "papermill": {
     "duration": 0.30011,
     "end_time": "2022-03-07T12:00:46.345272",
     "exception": false,
     "start_time": "2022-03-07T12:00:46.045162",
     "status": "completed"
    },
    "tags": []
   },
   "outputs": [
    {
     "data": {
      "text/plain": [
       "PCA(n_components=0.96)"
      ]
     },
     "execution_count": 48,
     "metadata": {},
     "output_type": "execute_result"
    }
   ],
   "source": [
    "pca.fit(X_features)"
   ]
  },
  {
   "cell_type": "code",
   "execution_count": 49,
   "id": "09d4a5e3",
   "metadata": {
    "execution": {
     "iopub.execute_input": "2022-03-07T12:00:46.559935Z",
     "iopub.status.busy": "2022-03-07T12:00:46.557287Z",
     "iopub.status.idle": "2022-03-07T12:00:46.562860Z",
     "shell.execute_reply": "2022-03-07T12:00:46.563486Z"
    },
    "papermill": {
     "duration": 0.090369,
     "end_time": "2022-03-07T12:00:46.563645",
     "exception": false,
     "start_time": "2022-03-07T12:00:46.473276",
     "status": "completed"
    },
    "tags": []
   },
   "outputs": [
    {
     "data": {
      "text/plain": [
       "array([0.38334782, 0.21388033, 0.13261866, 0.11826642, 0.09206008,\n",
       "       0.01590604, 0.0074454 ])"
      ]
     },
     "execution_count": 49,
     "metadata": {},
     "output_type": "execute_result"
    }
   ],
   "source": [
    "pca.explained_variance_ratio_"
   ]
  },
  {
   "cell_type": "code",
   "execution_count": 50,
   "id": "0c0c299d",
   "metadata": {
    "execution": {
     "iopub.execute_input": "2022-03-07T12:00:46.731958Z",
     "iopub.status.busy": "2022-03-07T12:00:46.730956Z",
     "iopub.status.idle": "2022-03-07T12:00:46.736762Z",
     "shell.execute_reply": "2022-03-07T12:00:46.737358Z"
    },
    "papermill": {
     "duration": 0.092812,
     "end_time": "2022-03-07T12:00:46.737546",
     "exception": false,
     "start_time": "2022-03-07T12:00:46.644734",
     "status": "completed"
    },
    "tags": []
   },
   "outputs": [
    {
     "data": {
      "text/plain": [
       "array([204.02462081, 113.83096499,  70.58204097,  62.94352325,\n",
       "        48.99603633,   8.465483  ,   3.96257459])"
      ]
     },
     "execution_count": 50,
     "metadata": {},
     "output_type": "execute_result"
    }
   ],
   "source": [
    "pca.explained_variance_"
   ]
  },
  {
   "cell_type": "code",
   "execution_count": 51,
   "id": "2413e078",
   "metadata": {
    "execution": {
     "iopub.execute_input": "2022-03-07T12:00:46.907040Z",
     "iopub.status.busy": "2022-03-07T12:00:46.906116Z",
     "iopub.status.idle": "2022-03-07T12:00:46.912141Z",
     "shell.execute_reply": "2022-03-07T12:00:46.912733Z"
    },
    "papermill": {
     "duration": 0.091558,
     "end_time": "2022-03-07T12:00:46.912890",
     "exception": false,
     "start_time": "2022-03-07T12:00:46.821332",
     "status": "completed"
    },
    "tags": []
   },
   "outputs": [
    {
     "data": {
      "text/plain": [
       "array([[-9.31138471e-01,  2.45494127e-01,  2.57713643e-01, ...,\n",
       "         2.84628944e-06, -9.56497803e-06, -2.86842355e-05],\n",
       "       [ 2.63046285e-01, -1.92186472e-02,  9.59720661e-01, ...,\n",
       "        -9.23858305e-05, -5.16075133e-07, -1.32382564e-05],\n",
       "       [ 1.40346165e-01,  5.51248020e-01,  2.15461586e-03, ...,\n",
       "        -1.13659802e-04,  4.64816456e-05,  1.61546453e-04],\n",
       "       ...,\n",
       "       [-3.70534242e-02, -6.57283698e-02,  7.12166981e-02, ...,\n",
       "         2.31490768e-04,  2.05682622e-05,  2.26617308e-04],\n",
       "       [ 5.55695432e-03, -3.71634808e-02,  2.43741488e-02, ...,\n",
       "         3.28796669e-04, -1.92873257e-04,  3.00736096e-04],\n",
       "       [-6.14197949e-03,  6.50469794e-02, -2.62151267e-02, ...,\n",
       "         9.06017841e-04, -4.05319972e-05, -8.07777530e-04]])"
      ]
     },
     "execution_count": 51,
     "metadata": {},
     "output_type": "execute_result"
    }
   ],
   "source": [
    "pca.components_"
   ]
  },
  {
   "cell_type": "code",
   "execution_count": 52,
   "id": "1e28de32",
   "metadata": {
    "execution": {
     "iopub.execute_input": "2022-03-07T12:00:47.082141Z",
     "iopub.status.busy": "2022-03-07T12:00:47.081216Z",
     "iopub.status.idle": "2022-03-07T12:00:47.086248Z",
     "shell.execute_reply": "2022-03-07T12:00:47.086824Z"
    },
    "papermill": {
     "duration": 0.091664,
     "end_time": "2022-03-07T12:00:47.086975",
     "exception": false,
     "start_time": "2022-03-07T12:00:46.995311",
     "status": "completed"
    },
    "tags": []
   },
   "outputs": [
    {
     "data": {
      "text/plain": [
       "(4209, 364)"
      ]
     },
     "execution_count": 52,
     "metadata": {},
     "output_type": "execute_result"
    }
   ],
   "source": [
    "X_features.shape"
   ]
  },
  {
   "cell_type": "code",
   "execution_count": 53,
   "id": "e585247c",
   "metadata": {
    "execution": {
     "iopub.execute_input": "2022-03-07T12:00:47.262861Z",
     "iopub.status.busy": "2022-03-07T12:00:47.261871Z",
     "iopub.status.idle": "2022-03-07T12:00:47.652821Z",
     "shell.execute_reply": "2022-03-07T12:00:47.653797Z"
    },
    "papermill": {
     "duration": 0.48106,
     "end_time": "2022-03-07T12:00:47.654072",
     "exception": false,
     "start_time": "2022-03-07T12:00:47.173012",
     "status": "completed"
    },
    "tags": []
   },
   "outputs": [],
   "source": [
    "train_transform=pca.fit_transform(X_features)\n",
    "test_transform=pca.fit_transform(test_clean_df)"
   ]
  },
  {
   "cell_type": "code",
   "execution_count": 54,
   "id": "b566d9c9",
   "metadata": {
    "execution": {
     "iopub.execute_input": "2022-03-07T12:00:47.883522Z",
     "iopub.status.busy": "2022-03-07T12:00:47.882541Z",
     "iopub.status.idle": "2022-03-07T12:00:47.885995Z",
     "shell.execute_reply": "2022-03-07T12:00:47.885483Z"
    },
    "papermill": {
     "duration": 0.094962,
     "end_time": "2022-03-07T12:00:47.886137",
     "exception": false,
     "start_time": "2022-03-07T12:00:47.791175",
     "status": "completed"
    },
    "tags": []
   },
   "outputs": [
    {
     "name": "stdout",
     "output_type": "stream",
     "text": [
      "(4209, 7)\n",
      "(4209, 7)\n"
     ]
    }
   ],
   "source": [
    "print(train_transform.shape)\n",
    "print(test_transform.shape)"
   ]
  },
  {
   "cell_type": "code",
   "execution_count": 55,
   "id": "ca587e1d",
   "metadata": {
    "execution": {
     "iopub.execute_input": "2022-03-07T12:00:48.080320Z",
     "iopub.status.busy": "2022-03-07T12:00:48.079360Z",
     "iopub.status.idle": "2022-03-07T12:00:48.085386Z",
     "shell.execute_reply": "2022-03-07T12:00:48.086046Z"
    },
    "papermill": {
     "duration": 0.107186,
     "end_time": "2022-03-07T12:00:48.086225",
     "exception": false,
     "start_time": "2022-03-07T12:00:47.979039",
     "status": "completed"
    },
    "tags": []
   },
   "outputs": [
    {
     "data": {
      "text/plain": [
       "array([[  0.6147646 ,  -0.13300945,  15.62446002, ...,   1.35957377,\n",
       "         -2.69141743,   3.81674139],\n",
       "       [  0.56540665,   1.56033294,  17.9095812 , ...,   1.53664826,\n",
       "         -4.44287654,  -0.79654047],\n",
       "       [ 16.20171258,  12.29284626,  17.6335395 , ...,  11.85081968,\n",
       "         -2.155389  ,   0.82819037],\n",
       "       ...,\n",
       "       [ 29.00466039,  14.86090532,  -7.75333217, ...,  -5.84698483,\n",
       "          0.78930643,   3.39990873],\n",
       "       [ 22.97242171,   1.68482437,  -9.03124768, ...,   9.4495573 ,\n",
       "         -4.35522827,  -2.69952992],\n",
       "       [-17.28304831,  -9.95198181,  -3.71935977, ...,   8.40170568,\n",
       "          0.50947971,   1.253388  ]])"
      ]
     },
     "execution_count": 55,
     "metadata": {},
     "output_type": "execute_result"
    }
   ],
   "source": [
    "train_transform"
   ]
  },
  {
   "cell_type": "markdown",
   "id": "63fc402b",
   "metadata": {
    "papermill": {
     "duration": 0.086536,
     "end_time": "2022-03-07T12:00:48.279669",
     "exception": false,
     "start_time": "2022-03-07T12:00:48.193133",
     "status": "completed"
    },
    "tags": []
   },
   "source": [
    "<b>4.Predict your test_df values using XGBoost.</b>"
   ]
  },
  {
   "cell_type": "code",
   "execution_count": 56,
   "id": "b494be0d",
   "metadata": {
    "execution": {
     "iopub.execute_input": "2022-03-07T12:00:48.452585Z",
     "iopub.status.busy": "2022-03-07T12:00:48.451875Z",
     "iopub.status.idle": "2022-03-07T12:00:48.454759Z",
     "shell.execute_reply": "2022-03-07T12:00:48.455315Z"
    },
    "papermill": {
     "duration": 0.091325,
     "end_time": "2022-03-07T12:00:48.455485",
     "exception": false,
     "start_time": "2022-03-07T12:00:48.364160",
     "status": "completed"
    },
    "tags": []
   },
   "outputs": [],
   "source": [
    "from xgboost import XGBRFRegressor"
   ]
  },
  {
   "cell_type": "code",
   "execution_count": 57,
   "id": "7e3c328f",
   "metadata": {
    "execution": {
     "iopub.execute_input": "2022-03-07T12:00:48.630304Z",
     "iopub.status.busy": "2022-03-07T12:00:48.629724Z",
     "iopub.status.idle": "2022-03-07T12:00:48.632675Z",
     "shell.execute_reply": "2022-03-07T12:00:48.633230Z"
    },
    "papermill": {
     "duration": 0.091063,
     "end_time": "2022-03-07T12:00:48.633435",
     "exception": false,
     "start_time": "2022-03-07T12:00:48.542372",
     "status": "completed"
    },
    "tags": []
   },
   "outputs": [],
   "source": [
    "from sklearn.model_selection import train_test_split\n",
    "from sklearn.metrics import mean_squared_error, r2_score"
   ]
  },
  {
   "cell_type": "code",
   "execution_count": 58,
   "id": "a5c77ef1",
   "metadata": {
    "execution": {
     "iopub.execute_input": "2022-03-07T12:00:48.810659Z",
     "iopub.status.busy": "2022-03-07T12:00:48.810045Z",
     "iopub.status.idle": "2022-03-07T12:00:48.814875Z",
     "shell.execute_reply": "2022-03-07T12:00:48.815332Z"
    },
    "papermill": {
     "duration": 0.09488,
     "end_time": "2022-03-07T12:00:48.815500",
     "exception": false,
     "start_time": "2022-03-07T12:00:48.720620",
     "status": "completed"
    },
    "tags": []
   },
   "outputs": [],
   "source": [
    "#Spliting train data\n",
    "X_train,X_test,y_train,y_test= train_test_split(train_transform,y_output,test_size=0.3)"
   ]
  },
  {
   "cell_type": "code",
   "execution_count": 59,
   "id": "ad971677",
   "metadata": {
    "execution": {
     "iopub.execute_input": "2022-03-07T12:00:48.991162Z",
     "iopub.status.busy": "2022-03-07T12:00:48.990564Z",
     "iopub.status.idle": "2022-03-07T12:00:48.996804Z",
     "shell.execute_reply": "2022-03-07T12:00:48.997232Z"
    },
    "papermill": {
     "duration": 0.096123,
     "end_time": "2022-03-07T12:00:48.997391",
     "exception": false,
     "start_time": "2022-03-07T12:00:48.901268",
     "status": "completed"
    },
    "tags": []
   },
   "outputs": [
    {
     "name": "stdout",
     "output_type": "stream",
     "text": [
      "(2946, 7)\n",
      "(1263, 7)\n",
      "(2946,)\n",
      "(1263,)\n",
      "(4209, 7)\n"
     ]
    }
   ],
   "source": [
    "print(X_train.shape)\n",
    "print(X_test.shape)\n",
    "print(y_train.shape)\n",
    "print(y_test.shape)\n",
    "print(test_transform.shape)"
   ]
  },
  {
   "cell_type": "code",
   "execution_count": 60,
   "id": "cff74c24",
   "metadata": {
    "execution": {
     "iopub.execute_input": "2022-03-07T12:00:49.170372Z",
     "iopub.status.busy": "2022-03-07T12:00:49.168559Z",
     "iopub.status.idle": "2022-03-07T12:00:49.172265Z",
     "shell.execute_reply": "2022-03-07T12:00:49.172804Z"
    },
    "papermill": {
     "duration": 0.090456,
     "end_time": "2022-03-07T12:00:49.172976",
     "exception": false,
     "start_time": "2022-03-07T12:00:49.082520",
     "status": "completed"
    },
    "tags": []
   },
   "outputs": [],
   "source": [
    "#Instantiation\n",
    "xgb_reg=XGBRFRegressor(objective ='reg:linear',\n",
    "                  n_estimators = 20, seed = 123)\n",
    "\n",
    "# xgb_reg=XGBRFRegressor()"
   ]
  },
  {
   "cell_type": "code",
   "execution_count": 61,
   "id": "16f7146b",
   "metadata": {
    "execution": {
     "iopub.execute_input": "2022-03-07T12:00:49.348114Z",
     "iopub.status.busy": "2022-03-07T12:00:49.347481Z",
     "iopub.status.idle": "2022-03-07T12:00:49.435830Z",
     "shell.execute_reply": "2022-03-07T12:00:49.436257Z"
    },
    "papermill": {
     "duration": 0.17836,
     "end_time": "2022-03-07T12:00:49.436442",
     "exception": false,
     "start_time": "2022-03-07T12:00:49.258082",
     "status": "completed"
    },
    "tags": []
   },
   "outputs": [
    {
     "name": "stdout",
     "output_type": "stream",
     "text": [
      "[12:00:49] WARNING: ../src/objective/regression_obj.cu:188: reg:linear is now deprecated in favor of reg:squarederror.\n"
     ]
    }
   ],
   "source": [
    "# fitting the model\n",
    "model=xgb_reg.fit(X_train,y_train)\n"
   ]
  },
  {
   "cell_type": "code",
   "execution_count": 62,
   "id": "8f381030",
   "metadata": {
    "execution": {
     "iopub.execute_input": "2022-03-07T12:00:49.609287Z",
     "iopub.status.busy": "2022-03-07T12:00:49.608356Z",
     "iopub.status.idle": "2022-03-07T12:00:49.627992Z",
     "shell.execute_reply": "2022-03-07T12:00:49.629092Z"
    },
    "papermill": {
     "duration": 0.108839,
     "end_time": "2022-03-07T12:00:49.629283",
     "exception": false,
     "start_time": "2022-03-07T12:00:49.520444",
     "status": "completed"
    },
    "tags": []
   },
   "outputs": [],
   "source": [
    "# Predict the model\n",
    "pred=xgb_reg.predict(X_test)"
   ]
  },
  {
   "cell_type": "code",
   "execution_count": 63,
   "id": "afff3b80",
   "metadata": {
    "execution": {
     "iopub.execute_input": "2022-03-07T12:00:49.805478Z",
     "iopub.status.busy": "2022-03-07T12:00:49.804873Z",
     "iopub.status.idle": "2022-03-07T12:00:49.807252Z",
     "shell.execute_reply": "2022-03-07T12:00:49.807742Z"
    },
    "papermill": {
     "duration": 0.094532,
     "end_time": "2022-03-07T12:00:49.807904",
     "exception": false,
     "start_time": "2022-03-07T12:00:49.713372",
     "status": "completed"
    },
    "tags": []
   },
   "outputs": [
    {
     "name": "stdout",
     "output_type": "stream",
     "text": [
      "RSME:  11.030561\n"
     ]
    }
   ],
   "source": [
    "# RSME Computation\n",
    "rmse=np.sqrt(mean_squared_error(y_test,pred))\n",
    "print(\"RSME: % f\"%(rmse))"
   ]
  },
  {
   "cell_type": "code",
   "execution_count": 64,
   "id": "32033e0a",
   "metadata": {
    "execution": {
     "iopub.execute_input": "2022-03-07T12:00:50.066669Z",
     "iopub.status.busy": "2022-03-07T12:00:50.065780Z",
     "iopub.status.idle": "2022-03-07T12:00:50.655700Z",
     "shell.execute_reply": "2022-03-07T12:00:50.656475Z"
    },
    "papermill": {
     "duration": 0.729849,
     "end_time": "2022-03-07T12:00:50.656718",
     "exception": false,
     "start_time": "2022-03-07T12:00:49.926869",
     "status": "completed"
    },
    "tags": []
   },
   "outputs": [
    {
     "name": "stderr",
     "output_type": "stream",
     "text": [
      "/opt/conda/lib/python3.7/site-packages/seaborn/distributions.py:2619: FutureWarning: `distplot` is a deprecated function and will be removed in a future version. Please adapt your code to use either `displot` (a figure-level function with similar flexibility) or `histplot` (an axes-level function for histograms).\n",
      "  warnings.warn(msg, FutureWarning)\n",
      "/opt/conda/lib/python3.7/site-packages/seaborn/distributions.py:2619: FutureWarning: `distplot` is a deprecated function and will be removed in a future version. Please adapt your code to use either `displot` (a figure-level function with similar flexibility) or `histplot` (an axes-level function for histograms).\n",
      "  warnings.warn(msg, FutureWarning)\n"
     ]
    },
    {
     "data": {
      "image/png": "[encoded data removed]",
      "text/plain": [
       "<Figure size 720x360 with 1 Axes>"
      ]
     },
     "metadata": {
      "needs_background": "light"
     },
     "output_type": "display_data"
    }
   ],
   "source": [
    "# display plot for train and test data only model\n",
    "plt.figure(figsize=(10,5))\n",
    "\n",
    "sns.distplot(y_test[y_test<160], color=\"skyblue\", label=\"Actual value\")\n",
    "sns.distplot(pred[pred<160] , color=\"red\", label=\"Predicted value\")\n",
    "plt.legend()\n",
    "\n",
    "plt.tight_layout()"
   ]
  },
  {
   "cell_type": "markdown",
   "id": "fdb8654b",
   "metadata": {
    "papermill": {
     "duration": 0.100756,
     "end_time": "2022-03-07T12:00:50.862402",
     "exception": false,
     "start_time": "2022-03-07T12:00:50.761646",
     "status": "completed"
    },
    "tags": []
   },
   "source": [
    "<b>k-fold Cross Validation using XGBoost</b>"
   ]
  },
  {
   "cell_type": "code",
   "execution_count": 65,
   "id": "e40a1fd9",
   "metadata": {
    "execution": {
     "iopub.execute_input": "2022-03-07T12:00:51.055792Z",
     "iopub.status.busy": "2022-03-07T12:00:51.054788Z",
     "iopub.status.idle": "2022-03-07T12:00:51.057616Z",
     "shell.execute_reply": "2022-03-07T12:00:51.057101Z"
    },
    "papermill": {
     "duration": 0.10257,
     "end_time": "2022-03-07T12:00:51.057762",
     "exception": false,
     "start_time": "2022-03-07T12:00:50.955192",
     "status": "completed"
    },
    "tags": []
   },
   "outputs": [],
   "source": [
    "from xgboost import DMatrix"
   ]
  },
  {
   "cell_type": "code",
   "execution_count": 66,
   "id": "3d98b242",
   "metadata": {
    "execution": {
     "iopub.execute_input": "2022-03-07T12:00:51.253192Z",
     "iopub.status.busy": "2022-03-07T12:00:51.252207Z",
     "iopub.status.idle": "2022-03-07T12:00:52.521169Z",
     "shell.execute_reply": "2022-03-07T12:00:52.521723Z"
    },
    "papermill": {
     "duration": 1.366411,
     "end_time": "2022-03-07T12:00:52.521904",
     "exception": false,
     "start_time": "2022-03-07T12:00:51.155493",
     "status": "completed"
    },
    "tags": []
   },
   "outputs": [
    {
     "name": "stdout",
     "output_type": "stream",
     "text": [
      "[12:00:51] WARNING: ../src/objective/regression_obj.cu:188: reg:linear is now deprecated in favor of reg:squarederror.\n",
      "[12:00:51] WARNING: ../src/learner.cc:576: \n",
      "Parameters: { \"n_estimators\" } might not be used.\n",
      "\n",
      "  This could be a false alarm, with some parameters getting used by language bindings but\n",
      "  then being mistakenly passed down to XGBoost core, or some parameter actually being used\n",
      "  but getting flagged wrongly here. Please open an issue if you find any such cases.\n",
      "\n",
      "\n",
      "[12:00:51] WARNING: ../src/objective/regression_obj.cu:188: reg:linear is now deprecated in favor of reg:squarederror.\n",
      "[12:00:51] WARNING: ../src/learner.cc:576: \n",
      "Parameters: { \"n_estimators\" } might not be used.\n",
      "\n",
      "  This could be a false alarm, with some parameters getting used by language bindings but\n",
      "  then being mistakenly passed down to XGBoost core, or some parameter actually being used\n",
      "  but getting flagged wrongly here. Please open an issue if you find any such cases.\n",
      "\n",
      "\n",
      "[12:00:51] WARNING: ../src/objective/regression_obj.cu:188: reg:linear is now deprecated in favor of reg:squarederror.\n",
      "[12:00:51] WARNING: ../src/learner.cc:576: \n",
      "Parameters: { \"n_estimators\" } might not be used.\n",
      "\n",
      "  This could be a false alarm, with some parameters getting used by language bindings but\n",
      "  then being mistakenly passed down to XGBoost core, or some parameter actually being used\n",
      "  but getting flagged wrongly here. Please open an issue if you find any such cases.\n",
      "\n",
      "\n"
     ]
    },
    {
     "data": {
      "text/html": [
       "<div>\n",
       "<style scoped>\n",
       "    .dataframe tbody tr th:only-of-type {\n",
       "        vertical-align: middle;\n",
       "    }\n",
       "\n",
       "    .dataframe tbody tr th {\n",
       "        vertical-align: top;\n",
       "    }\n",
       "\n",
       "    .dataframe thead th {\n",
       "        text-align: right;\n",
       "    }\n",
       "</style>\n",
       "<table border=\"1\" class=\"dataframe\">\n",
       "  <thead>\n",
       "    <tr style=\"text-align: right;\">\n",
       "      <th></th>\n",
       "      <th>train-rmse-mean</th>\n",
       "      <th>train-rmse-std</th>\n",
       "      <th>test-rmse-mean</th>\n",
       "      <th>test-rmse-std</th>\n",
       "    </tr>\n",
       "  </thead>\n",
       "  <tbody>\n",
       "    <tr>\n",
       "      <th>20</th>\n",
       "      <td>7.479578</td>\n",
       "      <td>0.412304</td>\n",
       "      <td>10.266614</td>\n",
       "      <td>0.798864</td>\n",
       "    </tr>\n",
       "    <tr>\n",
       "      <th>21</th>\n",
       "      <td>7.317675</td>\n",
       "      <td>0.343411</td>\n",
       "      <td>10.265381</td>\n",
       "      <td>0.804930</td>\n",
       "    </tr>\n",
       "    <tr>\n",
       "      <th>22</th>\n",
       "      <td>7.214502</td>\n",
       "      <td>0.325461</td>\n",
       "      <td>10.264772</td>\n",
       "      <td>0.809082</td>\n",
       "    </tr>\n",
       "    <tr>\n",
       "      <th>23</th>\n",
       "      <td>7.127641</td>\n",
       "      <td>0.300763</td>\n",
       "      <td>10.256266</td>\n",
       "      <td>0.814583</td>\n",
       "    </tr>\n",
       "    <tr>\n",
       "      <th>24</th>\n",
       "      <td>7.071158</td>\n",
       "      <td>0.285445</td>\n",
       "      <td>10.254379</td>\n",
       "      <td>0.820186</td>\n",
       "    </tr>\n",
       "  </tbody>\n",
       "</table>\n",
       "</div>"
      ],
      "text/plain": [
       "    train-rmse-mean  train-rmse-std  test-rmse-mean  test-rmse-std\n",
       "20         7.479578        0.412304       10.266614       0.798864\n",
       "21         7.317675        0.343411       10.265381       0.804930\n",
       "22         7.214502        0.325461       10.264772       0.809082\n",
       "23         7.127641        0.300763       10.256266       0.814583\n",
       "24         7.071158        0.285445       10.254379       0.820186"
      ]
     },
     "execution_count": 66,
     "metadata": {},
     "output_type": "execute_result"
    }
   ],
   "source": [
    "dmatrix=xgb.DMatrix(data=train_transform, label= y_output)\n",
    "params={'objective':'reg:linear','n_estimators': 20, 'seed':123}\n",
    "model_cv=xgb.cv(dtrain=dmatrix, params=params,nfold=3,num_boost_round=50,early_stopping_rounds=10,metrics=\"rmse\", as_pandas=True, seed=7)\n",
    "model_cv.tail(5)"
   ]
  },
  {
   "cell_type": "code",
   "execution_count": 67,
   "id": "a6b62d8f",
   "metadata": {
    "execution": {
     "iopub.execute_input": "2022-03-07T12:00:52.712242Z",
     "iopub.status.busy": "2022-03-07T12:00:52.711630Z",
     "iopub.status.idle": "2022-03-07T12:00:52.725501Z",
     "shell.execute_reply": "2022-03-07T12:00:52.726014Z"
    },
    "papermill": {
     "duration": 0.110074,
     "end_time": "2022-03-07T12:00:52.726212",
     "exception": false,
     "start_time": "2022-03-07T12:00:52.616138",
     "status": "completed"
    },
    "tags": []
   },
   "outputs": [
    {
     "data": {
      "text/plain": [
       "array([ 77.62113,  96.81604,  97.11816, ...,  99.98515, 108.39718,\n",
       "        94.92343], dtype=float32)"
      ]
     },
     "execution_count": 67,
     "metadata": {},
     "output_type": "execute_result"
    }
   ],
   "source": [
    "test_pred = model.predict(test_transform)\n",
    "test_pred"
   ]
  },
  {
   "cell_type": "markdown",
   "id": "8a0c8fa2",
   "metadata": {
    "papermill": {
     "duration": 0.093664,
     "end_time": "2022-03-07T12:00:52.913261",
     "exception": false,
     "start_time": "2022-03-07T12:00:52.819597",
     "status": "completed"
    },
    "tags": []
   },
   "source": [
    "# Finished"
   ]
  },
  {
   "cell_type": "code",
   "execution_count": null,
   "id": "c2389b0e",
   "metadata": {
    "papermill": {
     "duration": 0.092045,
     "end_time": "2022-03-07T12:00:53.100545",
     "exception": false,
     "start_time": "2022-03-07T12:00:53.008500",
     "status": "completed"
    },
    "tags": []
   },
   "outputs": [],
   "source": []
  }
 ],
 "metadata": {
  "kernelspec": {
   "display_name": "Python 3",
   "language": "python",
   "name": "python3"
  },
  "language_info": {
   "codemirror_mode": {
    "name": "ipython",
    "version": 3
   },
   "file_extension": ".py",
   "mimetype": "text/x-python",
   "name": "python",
   "nbconvert_exporter": "python",
   "pygments_lexer": "ipython3",
   "version": "3.7.12"
  },
  "papermill": {
   "default_parameters": {},
   "duration": 37.729266,
   "end_time": "2022-03-07T12:00:54.006557",
   "environment_variables": {},
   "exception": null,
   "input_path": "__notebook__.ipynb",
   "output_path": "__notebook__.ipynb",
   "parameters": {},
   "start_time": "2022-03-07T12:00:16.277291",
   "version": "2.3.3"
  }
 },
 "nbformat": 4,
 "nbformat_minor": 5
}
