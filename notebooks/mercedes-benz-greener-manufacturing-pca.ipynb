{
 "cells": [
  {
   "cell_type": "code",
   "execution_count": 1,
   "id": "85503295",
   "metadata": {
    "execution": {
     "iopub.execute_input": "2022-07-02T21:30:22.602288Z",
     "iopub.status.busy": "2022-07-02T21:30:22.601818Z",
     "iopub.status.idle": "2022-07-02T21:30:23.813074Z",
     "shell.execute_reply": "2022-07-02T21:30:23.811991Z"
    },
    "papermill": {
     "duration": 1.224245,
     "end_time": "2022-07-02T21:30:23.815721",
     "exception": false,
     "start_time": "2022-07-02T21:30:22.591476",
     "status": "completed"
    },
    "tags": []
   },
   "outputs": [],
   "source": [
    "import pandas as pd\n",
    "import numpy as np\n",
    "import matplotlib.pyplot as plt\n",
    "import seaborn as sns\n",
    "%matplotlib inline"
   ]
  },
  {
   "cell_type": "code",
   "execution_count": 2,
   "id": "6ebf9291",
   "metadata": {
    "execution": {
     "iopub.execute_input": "2022-07-02T21:30:23.832040Z",
     "iopub.status.busy": "2022-07-02T21:30:23.831607Z",
     "iopub.status.idle": "2022-07-02T21:30:24.200413Z",
     "shell.execute_reply": "2022-07-02T21:30:24.198950Z"
    },
    "papermill": {
     "duration": 0.380156,
     "end_time": "2022-07-02T21:30:24.203307",
     "exception": false,
     "start_time": "2022-07-02T21:30:23.823151",
     "status": "completed"
    },
    "scrolled": true,
    "tags": []
   },
   "outputs": [
    {
     "name": "stdout",
     "output_type": "stream",
     "text": [
      "(4209, 377)\n",
      "(4209, 378)\n"
     ]
    }
   ],
   "source": [
    "df_train= pd.read_csv('../input/mercedesbenz-greener-manufacturing/train.csv')\n",
    "df_test= pd.read_csv('../input/mercedesbenz-greener-manufacturing/test.csv')\n",
    "print(df_test.shape)\n",
    "print(df_train.shape)"
   ]
  },
  {
   "cell_type": "code",
   "execution_count": 3,
   "id": "53a21037",
   "metadata": {
    "execution": {
     "iopub.execute_input": "2022-07-02T21:30:24.220470Z",
     "iopub.status.busy": "2022-07-02T21:30:24.220024Z",
     "iopub.status.idle": "2022-07-02T21:30:24.253037Z",
     "shell.execute_reply": "2022-07-02T21:30:24.252158Z"
    },
    "papermill": {
     "duration": 0.043906,
     "end_time": "2022-07-02T21:30:24.254909",
     "exception": false,
     "start_time": "2022-07-02T21:30:24.211003",
     "status": "completed"
    },
    "tags": []
   },
   "outputs": [
    {
     "data": {
      "text/html": [
       "<div>\n",
       "<style scoped>\n",
       "    .dataframe tbody tr th:only-of-type {\n",
       "        vertical-align: middle;\n",
       "    }\n",
       "\n",
       "    .dataframe tbody tr th {\n",
       "        vertical-align: top;\n",
       "    }\n",
       "\n",
       "    .dataframe thead th {\n",
       "        text-align: right;\n",
       "    }\n",
       "</style>\n",
       "<table border=\"1\" class=\"dataframe\">\n",
       "  <thead>\n",
       "    <tr style=\"text-align: right;\">\n",
       "      <th></th>\n",
       "      <th>ID</th>\n",
       "      <th>y</th>\n",
       "      <th>X0</th>\n",
       "      <th>X1</th>\n",
       "      <th>X2</th>\n",
       "      <th>X3</th>\n",
       "      <th>X4</th>\n",
       "      <th>X5</th>\n",
       "      <th>X6</th>\n",
       "      <th>X8</th>\n",
       "      <th>...</th>\n",
       "      <th>X375</th>\n",
       "      <th>X376</th>\n",
       "      <th>X377</th>\n",
       "      <th>X378</th>\n",
       "      <th>X379</th>\n",
       "      <th>X380</th>\n",
       "      <th>X382</th>\n",
       "      <th>X383</th>\n",
       "      <th>X384</th>\n",
       "      <th>X385</th>\n",
       "    </tr>\n",
       "  </thead>\n",
       "  <tbody>\n",
       "    <tr>\n",
       "      <th>0</th>\n",
       "      <td>0</td>\n",
       "      <td>130.81</td>\n",
       "      <td>k</td>\n",
       "      <td>v</td>\n",
       "      <td>at</td>\n",
       "      <td>a</td>\n",
       "      <td>d</td>\n",
       "      <td>u</td>\n",
       "      <td>j</td>\n",
       "      <td>o</td>\n",
       "      <td>...</td>\n",
       "      <td>0</td>\n",
       "      <td>0</td>\n",
       "      <td>1</td>\n",
       "      <td>0</td>\n",
       "      <td>0</td>\n",
       "      <td>0</td>\n",
       "      <td>0</td>\n",
       "      <td>0</td>\n",
       "      <td>0</td>\n",
       "      <td>0</td>\n",
       "    </tr>\n",
       "    <tr>\n",
       "      <th>1</th>\n",
       "      <td>6</td>\n",
       "      <td>88.53</td>\n",
       "      <td>k</td>\n",
       "      <td>t</td>\n",
       "      <td>av</td>\n",
       "      <td>e</td>\n",
       "      <td>d</td>\n",
       "      <td>y</td>\n",
       "      <td>l</td>\n",
       "      <td>o</td>\n",
       "      <td>...</td>\n",
       "      <td>1</td>\n",
       "      <td>0</td>\n",
       "      <td>0</td>\n",
       "      <td>0</td>\n",
       "      <td>0</td>\n",
       "      <td>0</td>\n",
       "      <td>0</td>\n",
       "      <td>0</td>\n",
       "      <td>0</td>\n",
       "      <td>0</td>\n",
       "    </tr>\n",
       "    <tr>\n",
       "      <th>2</th>\n",
       "      <td>7</td>\n",
       "      <td>76.26</td>\n",
       "      <td>az</td>\n",
       "      <td>w</td>\n",
       "      <td>n</td>\n",
       "      <td>c</td>\n",
       "      <td>d</td>\n",
       "      <td>x</td>\n",
       "      <td>j</td>\n",
       "      <td>x</td>\n",
       "      <td>...</td>\n",
       "      <td>0</td>\n",
       "      <td>0</td>\n",
       "      <td>0</td>\n",
       "      <td>0</td>\n",
       "      <td>0</td>\n",
       "      <td>0</td>\n",
       "      <td>1</td>\n",
       "      <td>0</td>\n",
       "      <td>0</td>\n",
       "      <td>0</td>\n",
       "    </tr>\n",
       "    <tr>\n",
       "      <th>3</th>\n",
       "      <td>9</td>\n",
       "      <td>80.62</td>\n",
       "      <td>az</td>\n",
       "      <td>t</td>\n",
       "      <td>n</td>\n",
       "      <td>f</td>\n",
       "      <td>d</td>\n",
       "      <td>x</td>\n",
       "      <td>l</td>\n",
       "      <td>e</td>\n",
       "      <td>...</td>\n",
       "      <td>0</td>\n",
       "      <td>0</td>\n",
       "      <td>0</td>\n",
       "      <td>0</td>\n",
       "      <td>0</td>\n",
       "      <td>0</td>\n",
       "      <td>0</td>\n",
       "      <td>0</td>\n",
       "      <td>0</td>\n",
       "      <td>0</td>\n",
       "    </tr>\n",
       "    <tr>\n",
       "      <th>4</th>\n",
       "      <td>13</td>\n",
       "      <td>78.02</td>\n",
       "      <td>az</td>\n",
       "      <td>v</td>\n",
       "      <td>n</td>\n",
       "      <td>f</td>\n",
       "      <td>d</td>\n",
       "      <td>h</td>\n",
       "      <td>d</td>\n",
       "      <td>n</td>\n",
       "      <td>...</td>\n",
       "      <td>0</td>\n",
       "      <td>0</td>\n",
       "      <td>0</td>\n",
       "      <td>0</td>\n",
       "      <td>0</td>\n",
       "      <td>0</td>\n",
       "      <td>0</td>\n",
       "      <td>0</td>\n",
       "      <td>0</td>\n",
       "      <td>0</td>\n",
       "    </tr>\n",
       "    <tr>\n",
       "      <th>5</th>\n",
       "      <td>18</td>\n",
       "      <td>92.93</td>\n",
       "      <td>t</td>\n",
       "      <td>b</td>\n",
       "      <td>e</td>\n",
       "      <td>c</td>\n",
       "      <td>d</td>\n",
       "      <td>g</td>\n",
       "      <td>h</td>\n",
       "      <td>s</td>\n",
       "      <td>...</td>\n",
       "      <td>0</td>\n",
       "      <td>0</td>\n",
       "      <td>1</td>\n",
       "      <td>0</td>\n",
       "      <td>0</td>\n",
       "      <td>0</td>\n",
       "      <td>0</td>\n",
       "      <td>0</td>\n",
       "      <td>0</td>\n",
       "      <td>0</td>\n",
       "    </tr>\n",
       "  </tbody>\n",
       "</table>\n",
       "<p>6 rows × 378 columns</p>\n",
       "</div>"
      ],
      "text/plain": [
       "   ID       y  X0 X1  X2 X3 X4 X5 X6 X8  ...  X375  X376  X377  X378  X379  \\\n",
       "0   0  130.81   k  v  at  a  d  u  j  o  ...     0     0     1     0     0   \n",
       "1   6   88.53   k  t  av  e  d  y  l  o  ...     1     0     0     0     0   \n",
       "2   7   76.26  az  w   n  c  d  x  j  x  ...     0     0     0     0     0   \n",
       "3   9   80.62  az  t   n  f  d  x  l  e  ...     0     0     0     0     0   \n",
       "4  13   78.02  az  v   n  f  d  h  d  n  ...     0     0     0     0     0   \n",
       "5  18   92.93   t  b   e  c  d  g  h  s  ...     0     0     1     0     0   \n",
       "\n",
       "   X380  X382  X383  X384  X385  \n",
       "0     0     0     0     0     0  \n",
       "1     0     0     0     0     0  \n",
       "2     0     1     0     0     0  \n",
       "3     0     0     0     0     0  \n",
       "4     0     0     0     0     0  \n",
       "5     0     0     0     0     0  \n",
       "\n",
       "[6 rows x 378 columns]"
      ]
     },
     "execution_count": 3,
     "metadata": {},
     "output_type": "execute_result"
    }
   ],
   "source": [
    "df_train.head(6)"
   ]
  },
  {
   "cell_type": "markdown",
   "id": "5bbde6a5",
   "metadata": {
    "papermill": {
     "duration": 0.007427,
     "end_time": "2022-07-02T21:30:24.270055",
     "exception": false,
     "start_time": "2022-07-02T21:30:24.262628",
     "status": "completed"
    },
    "tags": []
   },
   "source": [
    "### If for any column(s), the variance is equal to zero, then you need to remove those variable(s) "
   ]
  },
  {
   "cell_type": "code",
   "execution_count": 4,
   "id": "4e185918",
   "metadata": {
    "execution": {
     "iopub.execute_input": "2022-07-02T21:30:24.287611Z",
     "iopub.status.busy": "2022-07-02T21:30:24.287161Z",
     "iopub.status.idle": "2022-07-02T21:30:24.295953Z",
     "shell.execute_reply": "2022-07-02T21:30:24.294710Z"
    },
    "papermill": {
     "duration": 0.020021,
     "end_time": "2022-07-02T21:30:24.297932",
     "exception": false,
     "start_time": "2022-07-02T21:30:24.277911",
     "status": "completed"
    },
    "tags": []
   },
   "outputs": [
    {
     "data": {
      "text/plain": [
       "ID        int64\n",
       "y       float64\n",
       "X0       object\n",
       "X1       object\n",
       "X2       object\n",
       "         ...   \n",
       "X380      int64\n",
       "X382      int64\n",
       "X383      int64\n",
       "X384      int64\n",
       "X385      int64\n",
       "Length: 378, dtype: object"
      ]
     },
     "execution_count": 4,
     "metadata": {},
     "output_type": "execute_result"
    }
   ],
   "source": [
    "df_train.dtypes"
   ]
  },
  {
   "cell_type": "code",
   "execution_count": 5,
   "id": "56b770a4",
   "metadata": {
    "execution": {
     "iopub.execute_input": "2022-07-02T21:30:24.316115Z",
     "iopub.status.busy": "2022-07-02T21:30:24.315363Z",
     "iopub.status.idle": "2022-07-02T21:30:25.017885Z",
     "shell.execute_reply": "2022-07-02T21:30:25.016634Z"
    },
    "papermill": {
     "duration": 0.716797,
     "end_time": "2022-07-02T21:30:25.022593",
     "exception": false,
     "start_time": "2022-07-02T21:30:24.305796",
     "status": "completed"
    },
    "tags": []
   },
   "outputs": [
    {
     "data": {
      "text/html": [
       "<div>\n",
       "<style scoped>\n",
       "    .dataframe tbody tr th:only-of-type {\n",
       "        vertical-align: middle;\n",
       "    }\n",
       "\n",
       "    .dataframe tbody tr th {\n",
       "        vertical-align: top;\n",
       "    }\n",
       "\n",
       "    .dataframe thead th {\n",
       "        text-align: right;\n",
       "    }\n",
       "</style>\n",
       "<table border=\"1\" class=\"dataframe\">\n",
       "  <thead>\n",
       "    <tr style=\"text-align: right;\">\n",
       "      <th></th>\n",
       "      <th>ID</th>\n",
       "      <th>y</th>\n",
       "      <th>X10</th>\n",
       "      <th>X11</th>\n",
       "      <th>X12</th>\n",
       "      <th>X13</th>\n",
       "      <th>X14</th>\n",
       "      <th>X15</th>\n",
       "      <th>X16</th>\n",
       "      <th>X17</th>\n",
       "      <th>...</th>\n",
       "      <th>X375</th>\n",
       "      <th>X376</th>\n",
       "      <th>X377</th>\n",
       "      <th>X378</th>\n",
       "      <th>X379</th>\n",
       "      <th>X380</th>\n",
       "      <th>X382</th>\n",
       "      <th>X383</th>\n",
       "      <th>X384</th>\n",
       "      <th>X385</th>\n",
       "    </tr>\n",
       "  </thead>\n",
       "  <tbody>\n",
       "    <tr>\n",
       "      <th>count</th>\n",
       "      <td>4209.000000</td>\n",
       "      <td>4209.000000</td>\n",
       "      <td>4209.000000</td>\n",
       "      <td>4209.0</td>\n",
       "      <td>4209.000000</td>\n",
       "      <td>4209.000000</td>\n",
       "      <td>4209.000000</td>\n",
       "      <td>4209.000000</td>\n",
       "      <td>4209.000000</td>\n",
       "      <td>4209.000000</td>\n",
       "      <td>...</td>\n",
       "      <td>4209.000000</td>\n",
       "      <td>4209.000000</td>\n",
       "      <td>4209.000000</td>\n",
       "      <td>4209.000000</td>\n",
       "      <td>4209.000000</td>\n",
       "      <td>4209.000000</td>\n",
       "      <td>4209.000000</td>\n",
       "      <td>4209.000000</td>\n",
       "      <td>4209.000000</td>\n",
       "      <td>4209.000000</td>\n",
       "    </tr>\n",
       "    <tr>\n",
       "      <th>mean</th>\n",
       "      <td>4205.960798</td>\n",
       "      <td>100.669318</td>\n",
       "      <td>0.013305</td>\n",
       "      <td>0.0</td>\n",
       "      <td>0.075077</td>\n",
       "      <td>0.057971</td>\n",
       "      <td>0.428130</td>\n",
       "      <td>0.000475</td>\n",
       "      <td>0.002613</td>\n",
       "      <td>0.007603</td>\n",
       "      <td>...</td>\n",
       "      <td>0.318841</td>\n",
       "      <td>0.057258</td>\n",
       "      <td>0.314802</td>\n",
       "      <td>0.020670</td>\n",
       "      <td>0.009503</td>\n",
       "      <td>0.008078</td>\n",
       "      <td>0.007603</td>\n",
       "      <td>0.001663</td>\n",
       "      <td>0.000475</td>\n",
       "      <td>0.001426</td>\n",
       "    </tr>\n",
       "    <tr>\n",
       "      <th>std</th>\n",
       "      <td>2437.608688</td>\n",
       "      <td>12.679381</td>\n",
       "      <td>0.114590</td>\n",
       "      <td>0.0</td>\n",
       "      <td>0.263547</td>\n",
       "      <td>0.233716</td>\n",
       "      <td>0.494867</td>\n",
       "      <td>0.021796</td>\n",
       "      <td>0.051061</td>\n",
       "      <td>0.086872</td>\n",
       "      <td>...</td>\n",
       "      <td>0.466082</td>\n",
       "      <td>0.232363</td>\n",
       "      <td>0.464492</td>\n",
       "      <td>0.142294</td>\n",
       "      <td>0.097033</td>\n",
       "      <td>0.089524</td>\n",
       "      <td>0.086872</td>\n",
       "      <td>0.040752</td>\n",
       "      <td>0.021796</td>\n",
       "      <td>0.037734</td>\n",
       "    </tr>\n",
       "    <tr>\n",
       "      <th>min</th>\n",
       "      <td>0.000000</td>\n",
       "      <td>72.110000</td>\n",
       "      <td>0.000000</td>\n",
       "      <td>0.0</td>\n",
       "      <td>0.000000</td>\n",
       "      <td>0.000000</td>\n",
       "      <td>0.000000</td>\n",
       "      <td>0.000000</td>\n",
       "      <td>0.000000</td>\n",
       "      <td>0.000000</td>\n",
       "      <td>...</td>\n",
       "      <td>0.000000</td>\n",
       "      <td>0.000000</td>\n",
       "      <td>0.000000</td>\n",
       "      <td>0.000000</td>\n",
       "      <td>0.000000</td>\n",
       "      <td>0.000000</td>\n",
       "      <td>0.000000</td>\n",
       "      <td>0.000000</td>\n",
       "      <td>0.000000</td>\n",
       "      <td>0.000000</td>\n",
       "    </tr>\n",
       "    <tr>\n",
       "      <th>25%</th>\n",
       "      <td>2095.000000</td>\n",
       "      <td>90.820000</td>\n",
       "      <td>0.000000</td>\n",
       "      <td>0.0</td>\n",
       "      <td>0.000000</td>\n",
       "      <td>0.000000</td>\n",
       "      <td>0.000000</td>\n",
       "      <td>0.000000</td>\n",
       "      <td>0.000000</td>\n",
       "      <td>0.000000</td>\n",
       "      <td>...</td>\n",
       "      <td>0.000000</td>\n",
       "      <td>0.000000</td>\n",
       "      <td>0.000000</td>\n",
       "      <td>0.000000</td>\n",
       "      <td>0.000000</td>\n",
       "      <td>0.000000</td>\n",
       "      <td>0.000000</td>\n",
       "      <td>0.000000</td>\n",
       "      <td>0.000000</td>\n",
       "      <td>0.000000</td>\n",
       "    </tr>\n",
       "    <tr>\n",
       "      <th>50%</th>\n",
       "      <td>4220.000000</td>\n",
       "      <td>99.150000</td>\n",
       "      <td>0.000000</td>\n",
       "      <td>0.0</td>\n",
       "      <td>0.000000</td>\n",
       "      <td>0.000000</td>\n",
       "      <td>0.000000</td>\n",
       "      <td>0.000000</td>\n",
       "      <td>0.000000</td>\n",
       "      <td>0.000000</td>\n",
       "      <td>...</td>\n",
       "      <td>0.000000</td>\n",
       "      <td>0.000000</td>\n",
       "      <td>0.000000</td>\n",
       "      <td>0.000000</td>\n",
       "      <td>0.000000</td>\n",
       "      <td>0.000000</td>\n",
       "      <td>0.000000</td>\n",
       "      <td>0.000000</td>\n",
       "      <td>0.000000</td>\n",
       "      <td>0.000000</td>\n",
       "    </tr>\n",
       "    <tr>\n",
       "      <th>75%</th>\n",
       "      <td>6314.000000</td>\n",
       "      <td>109.010000</td>\n",
       "      <td>0.000000</td>\n",
       "      <td>0.0</td>\n",
       "      <td>0.000000</td>\n",
       "      <td>0.000000</td>\n",
       "      <td>1.000000</td>\n",
       "      <td>0.000000</td>\n",
       "      <td>0.000000</td>\n",
       "      <td>0.000000</td>\n",
       "      <td>...</td>\n",
       "      <td>1.000000</td>\n",
       "      <td>0.000000</td>\n",
       "      <td>1.000000</td>\n",
       "      <td>0.000000</td>\n",
       "      <td>0.000000</td>\n",
       "      <td>0.000000</td>\n",
       "      <td>0.000000</td>\n",
       "      <td>0.000000</td>\n",
       "      <td>0.000000</td>\n",
       "      <td>0.000000</td>\n",
       "    </tr>\n",
       "    <tr>\n",
       "      <th>max</th>\n",
       "      <td>8417.000000</td>\n",
       "      <td>265.320000</td>\n",
       "      <td>1.000000</td>\n",
       "      <td>0.0</td>\n",
       "      <td>1.000000</td>\n",
       "      <td>1.000000</td>\n",
       "      <td>1.000000</td>\n",
       "      <td>1.000000</td>\n",
       "      <td>1.000000</td>\n",
       "      <td>1.000000</td>\n",
       "      <td>...</td>\n",
       "      <td>1.000000</td>\n",
       "      <td>1.000000</td>\n",
       "      <td>1.000000</td>\n",
       "      <td>1.000000</td>\n",
       "      <td>1.000000</td>\n",
       "      <td>1.000000</td>\n",
       "      <td>1.000000</td>\n",
       "      <td>1.000000</td>\n",
       "      <td>1.000000</td>\n",
       "      <td>1.000000</td>\n",
       "    </tr>\n",
       "  </tbody>\n",
       "</table>\n",
       "<p>8 rows × 370 columns</p>\n",
       "</div>"
      ],
      "text/plain": [
       "                ID            y          X10     X11          X12  \\\n",
       "count  4209.000000  4209.000000  4209.000000  4209.0  4209.000000   \n",
       "mean   4205.960798   100.669318     0.013305     0.0     0.075077   \n",
       "std    2437.608688    12.679381     0.114590     0.0     0.263547   \n",
       "min       0.000000    72.110000     0.000000     0.0     0.000000   \n",
       "25%    2095.000000    90.820000     0.000000     0.0     0.000000   \n",
       "50%    4220.000000    99.150000     0.000000     0.0     0.000000   \n",
       "75%    6314.000000   109.010000     0.000000     0.0     0.000000   \n",
       "max    8417.000000   265.320000     1.000000     0.0     1.000000   \n",
       "\n",
       "               X13          X14          X15          X16          X17  ...  \\\n",
       "count  4209.000000  4209.000000  4209.000000  4209.000000  4209.000000  ...   \n",
       "mean      0.057971     0.428130     0.000475     0.002613     0.007603  ...   \n",
       "std       0.233716     0.494867     0.021796     0.051061     0.086872  ...   \n",
       "min       0.000000     0.000000     0.000000     0.000000     0.000000  ...   \n",
       "25%       0.000000     0.000000     0.000000     0.000000     0.000000  ...   \n",
       "50%       0.000000     0.000000     0.000000     0.000000     0.000000  ...   \n",
       "75%       0.000000     1.000000     0.000000     0.000000     0.000000  ...   \n",
       "max       1.000000     1.000000     1.000000     1.000000     1.000000  ...   \n",
       "\n",
       "              X375         X376         X377         X378         X379  \\\n",
       "count  4209.000000  4209.000000  4209.000000  4209.000000  4209.000000   \n",
       "mean      0.318841     0.057258     0.314802     0.020670     0.009503   \n",
       "std       0.466082     0.232363     0.464492     0.142294     0.097033   \n",
       "min       0.000000     0.000000     0.000000     0.000000     0.000000   \n",
       "25%       0.000000     0.000000     0.000000     0.000000     0.000000   \n",
       "50%       0.000000     0.000000     0.000000     0.000000     0.000000   \n",
       "75%       1.000000     0.000000     1.000000     0.000000     0.000000   \n",
       "max       1.000000     1.000000     1.000000     1.000000     1.000000   \n",
       "\n",
       "              X380         X382         X383         X384         X385  \n",
       "count  4209.000000  4209.000000  4209.000000  4209.000000  4209.000000  \n",
       "mean      0.008078     0.007603     0.001663     0.000475     0.001426  \n",
       "std       0.089524     0.086872     0.040752     0.021796     0.037734  \n",
       "min       0.000000     0.000000     0.000000     0.000000     0.000000  \n",
       "25%       0.000000     0.000000     0.000000     0.000000     0.000000  \n",
       "50%       0.000000     0.000000     0.000000     0.000000     0.000000  \n",
       "75%       0.000000     0.000000     0.000000     0.000000     0.000000  \n",
       "max       1.000000     1.000000     1.000000     1.000000     1.000000  \n",
       "\n",
       "[8 rows x 370 columns]"
      ]
     },
     "execution_count": 5,
     "metadata": {},
     "output_type": "execute_result"
    }
   ],
   "source": [
    "df_train.describe()"
   ]
  },
  {
   "cell_type": "code",
   "execution_count": 6,
   "id": "8e1dc94b",
   "metadata": {
    "execution": {
     "iopub.execute_input": "2022-07-02T21:30:25.041806Z",
     "iopub.status.busy": "2022-07-02T21:30:25.041146Z",
     "iopub.status.idle": "2022-07-02T21:30:25.074345Z",
     "shell.execute_reply": "2022-07-02T21:30:25.072683Z"
    },
    "papermill": {
     "duration": 0.046245,
     "end_time": "2022-07-02T21:30:25.077204",
     "exception": false,
     "start_time": "2022-07-02T21:30:25.030959",
     "status": "completed"
    },
    "tags": []
   },
   "outputs": [
    {
     "name": "stderr",
     "output_type": "stream",
     "text": [
      "/opt/conda/lib/python3.7/site-packages/numpy/core/fromnumeric.py:3721: FutureWarning: Dropping of nuisance columns in DataFrame reductions (with 'numeric_only=None') is deprecated; in a future version this will raise TypeError.  Select only valid columns before calling the reduction.\n",
      "  return var(axis=axis, dtype=dtype, out=out, ddof=ddof, **kwargs)\n"
     ]
    },
    {
     "data": {
      "text/plain": [
       "ID      5.940524e+06\n",
       "y       1.607285e+02\n",
       "X10     1.312780e-02\n",
       "X11     0.000000e+00\n",
       "X12     6.944063e-02\n",
       "            ...     \n",
       "X380    8.012675e-03\n",
       "X382    7.544954e-03\n",
       "X383    1.660337e-03\n",
       "X384    4.749465e-04\n",
       "X385    1.423485e-03\n",
       "Length: 370, dtype: float64"
      ]
     },
     "execution_count": 6,
     "metadata": {},
     "output_type": "execute_result"
    }
   ],
   "source": [
    "train_data=np.var(df_train, axis=0)\n",
    "train_data"
   ]
  },
  {
   "cell_type": "code",
   "execution_count": 7,
   "id": "0a8c3a16",
   "metadata": {
    "execution": {
     "iopub.execute_input": "2022-07-02T21:30:25.096491Z",
     "iopub.status.busy": "2022-07-02T21:30:25.096078Z",
     "iopub.status.idle": "2022-07-02T21:30:25.125417Z",
     "shell.execute_reply": "2022-07-02T21:30:25.124347Z"
    },
    "papermill": {
     "duration": 0.041647,
     "end_time": "2022-07-02T21:30:25.127610",
     "exception": false,
     "start_time": "2022-07-02T21:30:25.085963",
     "status": "completed"
    },
    "tags": []
   },
   "outputs": [
    {
     "data": {
      "text/plain": [
       "ID      5.869917e+06\n",
       "X10     1.864563e-02\n",
       "X11     2.375297e-04\n",
       "X12     6.883438e-02\n",
       "X13     5.733136e-02\n",
       "            ...     \n",
       "X380    8.012675e-03\n",
       "X382    8.713410e-03\n",
       "X383    4.749465e-04\n",
       "X384    7.122504e-04\n",
       "X385    1.660337e-03\n",
       "Length: 369, dtype: float64"
      ]
     },
     "execution_count": 7,
     "metadata": {},
     "output_type": "execute_result"
    }
   ],
   "source": [
    "test_data=np.var(df_test, axis=0)\n",
    "test_data"
   ]
  },
  {
   "cell_type": "code",
   "execution_count": 8,
   "id": "0a989f9c",
   "metadata": {
    "execution": {
     "iopub.execute_input": "2022-07-02T21:30:25.147442Z",
     "iopub.status.busy": "2022-07-02T21:30:25.146228Z",
     "iopub.status.idle": "2022-07-02T21:30:25.153868Z",
     "shell.execute_reply": "2022-07-02T21:30:25.152704Z"
    },
    "papermill": {
     "duration": 0.019234,
     "end_time": "2022-07-02T21:30:25.155953",
     "exception": false,
     "start_time": "2022-07-02T21:30:25.136719",
     "status": "completed"
    },
    "tags": []
   },
   "outputs": [
    {
     "name": "stdout",
     "output_type": "stream",
     "text": [
      "['X11', 'X93', 'X107', 'X233', 'X235', 'X268', 'X289', 'X290', 'X293', 'X297', 'X330', 'X347']\n",
      "['X257', 'X258', 'X295', 'X296', 'X369']\n"
     ]
    }
   ],
   "source": [
    "train_name=[]\n",
    "for i in train_data.iteritems():\n",
    "    if(i[1]==0):\n",
    "        train_name.append(i[0])\n",
    "        #print(i)\n",
    "print(train_name)\n",
    "\n",
    "test_name=[]\n",
    "for i in test_data.iteritems():\n",
    "    if(i[1]==0):\n",
    "        test_name.append(i[0])\n",
    "        #print(i)\n",
    "print(test_name)"
   ]
  },
  {
   "cell_type": "code",
   "execution_count": 9,
   "id": "030ac3d1",
   "metadata": {
    "execution": {
     "iopub.execute_input": "2022-07-02T21:30:25.175320Z",
     "iopub.status.busy": "2022-07-02T21:30:25.174577Z",
     "iopub.status.idle": "2022-07-02T21:30:25.194617Z",
     "shell.execute_reply": "2022-07-02T21:30:25.193100Z"
    },
    "papermill": {
     "duration": 0.032747,
     "end_time": "2022-07-02T21:30:25.197354",
     "exception": false,
     "start_time": "2022-07-02T21:30:25.164607",
     "status": "completed"
    },
    "tags": []
   },
   "outputs": [],
   "source": [
    "df_train.drop(train_name,axis=1, inplace=True)\n",
    "df_train.drop(test_name,axis=1, inplace=True)"
   ]
  },
  {
   "cell_type": "code",
   "execution_count": 10,
   "id": "bf873269",
   "metadata": {
    "execution": {
     "iopub.execute_input": "2022-07-02T21:30:25.216357Z",
     "iopub.status.busy": "2022-07-02T21:30:25.215925Z",
     "iopub.status.idle": "2022-07-02T21:30:25.233293Z",
     "shell.execute_reply": "2022-07-02T21:30:25.232028Z"
    },
    "papermill": {
     "duration": 0.02973,
     "end_time": "2022-07-02T21:30:25.236017",
     "exception": false,
     "start_time": "2022-07-02T21:30:25.206287",
     "status": "completed"
    },
    "tags": []
   },
   "outputs": [],
   "source": [
    "df_test.drop(train_name,axis=1, inplace=True)\n",
    "df_test.drop(test_name,axis=1, inplace=True)"
   ]
  },
  {
   "cell_type": "code",
   "execution_count": 11,
   "id": "8d7feb93",
   "metadata": {
    "execution": {
     "iopub.execute_input": "2022-07-02T21:30:25.254719Z",
     "iopub.status.busy": "2022-07-02T21:30:25.254287Z",
     "iopub.status.idle": "2022-07-02T21:30:25.259815Z",
     "shell.execute_reply": "2022-07-02T21:30:25.258944Z"
    },
    "papermill": {
     "duration": 0.018643,
     "end_time": "2022-07-02T21:30:25.263124",
     "exception": false,
     "start_time": "2022-07-02T21:30:25.244481",
     "status": "completed"
    },
    "tags": []
   },
   "outputs": [
    {
     "name": "stdout",
     "output_type": "stream",
     "text": [
      "(4209, 361)\n",
      "(4209, 360)\n"
     ]
    }
   ],
   "source": [
    "print(df_train.shape)\n",
    "print(df_test.shape)"
   ]
  },
  {
   "cell_type": "markdown",
   "id": "67f63141",
   "metadata": {
    "papermill": {
     "duration": 0.008345,
     "end_time": "2022-07-02T21:30:25.281420",
     "exception": false,
     "start_time": "2022-07-02T21:30:25.273075",
     "status": "completed"
    },
    "tags": []
   },
   "source": [
    "### Check for null and unique values for dataset. "
   ]
  },
  {
   "cell_type": "code",
   "execution_count": 12,
   "id": "68bec021",
   "metadata": {
    "execution": {
     "iopub.execute_input": "2022-07-02T21:30:25.300186Z",
     "iopub.status.busy": "2022-07-02T21:30:25.299778Z",
     "iopub.status.idle": "2022-07-02T21:30:25.312345Z",
     "shell.execute_reply": "2022-07-02T21:30:25.310920Z"
    },
    "papermill": {
     "duration": 0.024994,
     "end_time": "2022-07-02T21:30:25.315020",
     "exception": false,
     "start_time": "2022-07-02T21:30:25.290026",
     "status": "completed"
    },
    "tags": []
   },
   "outputs": [],
   "source": [
    "for i,j in zip(df_train.columns,df_train.isnull().sum()):\n",
    "    if(j!=0):\n",
    "        print(i)"
   ]
  },
  {
   "cell_type": "code",
   "execution_count": 13,
   "id": "6f4c2649",
   "metadata": {
    "execution": {
     "iopub.execute_input": "2022-07-02T21:30:25.333871Z",
     "iopub.status.busy": "2022-07-02T21:30:25.333467Z",
     "iopub.status.idle": "2022-07-02T21:30:25.344933Z",
     "shell.execute_reply": "2022-07-02T21:30:25.343678Z"
    },
    "papermill": {
     "duration": 0.023746,
     "end_time": "2022-07-02T21:30:25.347333",
     "exception": false,
     "start_time": "2022-07-02T21:30:25.323587",
     "status": "completed"
    },
    "tags": []
   },
   "outputs": [],
   "source": [
    "for i,j in zip(df_test.columns,df_test.isnull().sum()):\n",
    "    if(j!=0):\n",
    "        print(i)"
   ]
  },
  {
   "cell_type": "code",
   "execution_count": 14,
   "id": "5bda2c24",
   "metadata": {
    "execution": {
     "iopub.execute_input": "2022-07-02T21:30:25.365941Z",
     "iopub.status.busy": "2022-07-02T21:30:25.365502Z",
     "iopub.status.idle": "2022-07-02T21:30:25.410738Z",
     "shell.execute_reply": "2022-07-02T21:30:25.409438Z"
    },
    "papermill": {
     "duration": 0.057932,
     "end_time": "2022-07-02T21:30:25.413715",
     "exception": false,
     "start_time": "2022-07-02T21:30:25.355783",
     "status": "completed"
    },
    "tags": []
   },
   "outputs": [
    {
     "data": {
      "text/html": [
       "<div>\n",
       "<style scoped>\n",
       "    .dataframe tbody tr th:only-of-type {\n",
       "        vertical-align: middle;\n",
       "    }\n",
       "\n",
       "    .dataframe tbody tr th {\n",
       "        vertical-align: top;\n",
       "    }\n",
       "\n",
       "    .dataframe thead th {\n",
       "        text-align: right;\n",
       "    }\n",
       "</style>\n",
       "<table border=\"1\" class=\"dataframe\">\n",
       "  <thead>\n",
       "    <tr style=\"text-align: right;\">\n",
       "      <th></th>\n",
       "      <th>X0</th>\n",
       "      <th>X1</th>\n",
       "      <th>X2</th>\n",
       "      <th>X3</th>\n",
       "      <th>X4</th>\n",
       "      <th>X5</th>\n",
       "      <th>X6</th>\n",
       "      <th>X8</th>\n",
       "    </tr>\n",
       "  </thead>\n",
       "  <tbody>\n",
       "    <tr>\n",
       "      <th>count</th>\n",
       "      <td>4209</td>\n",
       "      <td>4209</td>\n",
       "      <td>4209</td>\n",
       "      <td>4209</td>\n",
       "      <td>4209</td>\n",
       "      <td>4209</td>\n",
       "      <td>4209</td>\n",
       "      <td>4209</td>\n",
       "    </tr>\n",
       "    <tr>\n",
       "      <th>unique</th>\n",
       "      <td>47</td>\n",
       "      <td>27</td>\n",
       "      <td>44</td>\n",
       "      <td>7</td>\n",
       "      <td>4</td>\n",
       "      <td>29</td>\n",
       "      <td>12</td>\n",
       "      <td>25</td>\n",
       "    </tr>\n",
       "    <tr>\n",
       "      <th>top</th>\n",
       "      <td>z</td>\n",
       "      <td>aa</td>\n",
       "      <td>as</td>\n",
       "      <td>c</td>\n",
       "      <td>d</td>\n",
       "      <td>w</td>\n",
       "      <td>g</td>\n",
       "      <td>j</td>\n",
       "    </tr>\n",
       "    <tr>\n",
       "      <th>freq</th>\n",
       "      <td>360</td>\n",
       "      <td>833</td>\n",
       "      <td>1659</td>\n",
       "      <td>1942</td>\n",
       "      <td>4205</td>\n",
       "      <td>231</td>\n",
       "      <td>1042</td>\n",
       "      <td>277</td>\n",
       "    </tr>\n",
       "  </tbody>\n",
       "</table>\n",
       "</div>"
      ],
      "text/plain": [
       "          X0    X1    X2    X3    X4    X5    X6    X8\n",
       "count   4209  4209  4209  4209  4209  4209  4209  4209\n",
       "unique    47    27    44     7     4    29    12    25\n",
       "top        z    aa    as     c     d     w     g     j\n",
       "freq     360   833  1659  1942  4205   231  1042   277"
      ]
     },
     "execution_count": 14,
     "metadata": {},
     "output_type": "execute_result"
    }
   ],
   "source": [
    "train_desc=df_train.describe(include='O')\n",
    "df_train.describe(include='O')"
   ]
  },
  {
   "cell_type": "code",
   "execution_count": 15,
   "id": "9e11fda2",
   "metadata": {
    "execution": {
     "iopub.execute_input": "2022-07-02T21:30:25.433178Z",
     "iopub.status.busy": "2022-07-02T21:30:25.432370Z",
     "iopub.status.idle": "2022-07-02T21:30:25.438774Z",
     "shell.execute_reply": "2022-07-02T21:30:25.437893Z"
    },
    "papermill": {
     "duration": 0.018296,
     "end_time": "2022-07-02T21:30:25.440808",
     "exception": false,
     "start_time": "2022-07-02T21:30:25.422512",
     "status": "completed"
    },
    "tags": []
   },
   "outputs": [
    {
     "data": {
      "text/plain": [
       "Index(['X0', 'X1', 'X2', 'X3', 'X4', 'X5', 'X6', 'X8'], dtype='object')"
      ]
     },
     "execution_count": 15,
     "metadata": {},
     "output_type": "execute_result"
    }
   ],
   "source": [
    "train_desc.columns"
   ]
  },
  {
   "cell_type": "code",
   "execution_count": 16,
   "id": "972018d4",
   "metadata": {
    "execution": {
     "iopub.execute_input": "2022-07-02T21:30:25.460185Z",
     "iopub.status.busy": "2022-07-02T21:30:25.459228Z",
     "iopub.status.idle": "2022-07-02T21:30:25.500005Z",
     "shell.execute_reply": "2022-07-02T21:30:25.498830Z"
    },
    "papermill": {
     "duration": 0.053085,
     "end_time": "2022-07-02T21:30:25.502574",
     "exception": false,
     "start_time": "2022-07-02T21:30:25.449489",
     "status": "completed"
    },
    "tags": []
   },
   "outputs": [
    {
     "data": {
      "text/html": [
       "<div>\n",
       "<style scoped>\n",
       "    .dataframe tbody tr th:only-of-type {\n",
       "        vertical-align: middle;\n",
       "    }\n",
       "\n",
       "    .dataframe tbody tr th {\n",
       "        vertical-align: top;\n",
       "    }\n",
       "\n",
       "    .dataframe thead th {\n",
       "        text-align: right;\n",
       "    }\n",
       "</style>\n",
       "<table border=\"1\" class=\"dataframe\">\n",
       "  <thead>\n",
       "    <tr style=\"text-align: right;\">\n",
       "      <th></th>\n",
       "      <th>X0</th>\n",
       "      <th>X1</th>\n",
       "      <th>X2</th>\n",
       "      <th>X3</th>\n",
       "      <th>X4</th>\n",
       "      <th>X5</th>\n",
       "      <th>X6</th>\n",
       "      <th>X8</th>\n",
       "    </tr>\n",
       "  </thead>\n",
       "  <tbody>\n",
       "    <tr>\n",
       "      <th>count</th>\n",
       "      <td>4209</td>\n",
       "      <td>4209</td>\n",
       "      <td>4209</td>\n",
       "      <td>4209</td>\n",
       "      <td>4209</td>\n",
       "      <td>4209</td>\n",
       "      <td>4209</td>\n",
       "      <td>4209</td>\n",
       "    </tr>\n",
       "    <tr>\n",
       "      <th>unique</th>\n",
       "      <td>47</td>\n",
       "      <td>27</td>\n",
       "      <td>44</td>\n",
       "      <td>7</td>\n",
       "      <td>4</td>\n",
       "      <td>29</td>\n",
       "      <td>12</td>\n",
       "      <td>25</td>\n",
       "    </tr>\n",
       "    <tr>\n",
       "      <th>top</th>\n",
       "      <td>z</td>\n",
       "      <td>aa</td>\n",
       "      <td>as</td>\n",
       "      <td>c</td>\n",
       "      <td>d</td>\n",
       "      <td>w</td>\n",
       "      <td>g</td>\n",
       "      <td>j</td>\n",
       "    </tr>\n",
       "    <tr>\n",
       "      <th>freq</th>\n",
       "      <td>360</td>\n",
       "      <td>833</td>\n",
       "      <td>1659</td>\n",
       "      <td>1942</td>\n",
       "      <td>4205</td>\n",
       "      <td>231</td>\n",
       "      <td>1042</td>\n",
       "      <td>277</td>\n",
       "    </tr>\n",
       "  </tbody>\n",
       "</table>\n",
       "</div>"
      ],
      "text/plain": [
       "          X0    X1    X2    X3    X4    X5    X6    X8\n",
       "count   4209  4209  4209  4209  4209  4209  4209  4209\n",
       "unique    47    27    44     7     4    29    12    25\n",
       "top        z    aa    as     c     d     w     g     j\n",
       "freq     360   833  1659  1942  4205   231  1042   277"
      ]
     },
     "execution_count": 16,
     "metadata": {},
     "output_type": "execute_result"
    }
   ],
   "source": [
    "test_desc=df_test.describe(include='O')\n",
    "df_train.describe(include='O')"
   ]
  },
  {
   "cell_type": "code",
   "execution_count": 17,
   "id": "b9b28b81",
   "metadata": {
    "execution": {
     "iopub.execute_input": "2022-07-02T21:30:25.522302Z",
     "iopub.status.busy": "2022-07-02T21:30:25.521884Z",
     "iopub.status.idle": "2022-07-02T21:30:25.529204Z",
     "shell.execute_reply": "2022-07-02T21:30:25.528018Z"
    },
    "papermill": {
     "duration": 0.019883,
     "end_time": "2022-07-02T21:30:25.531483",
     "exception": false,
     "start_time": "2022-07-02T21:30:25.511600",
     "status": "completed"
    },
    "tags": []
   },
   "outputs": [
    {
     "data": {
      "text/plain": [
       "Index(['X0', 'X1', 'X2', 'X3', 'X4', 'X5', 'X6', 'X8'], dtype='object')"
      ]
     },
     "execution_count": 17,
     "metadata": {},
     "output_type": "execute_result"
    }
   ],
   "source": [
    "test_desc.columns"
   ]
  },
  {
   "cell_type": "code",
   "execution_count": 18,
   "id": "4845f108",
   "metadata": {
    "execution": {
     "iopub.execute_input": "2022-07-02T21:30:25.551389Z",
     "iopub.status.busy": "2022-07-02T21:30:25.550622Z",
     "iopub.status.idle": "2022-07-02T21:30:25.565465Z",
     "shell.execute_reply": "2022-07-02T21:30:25.564275Z"
    },
    "papermill": {
     "duration": 0.02804,
     "end_time": "2022-07-02T21:30:25.568262",
     "exception": false,
     "start_time": "2022-07-02T21:30:25.540222",
     "status": "completed"
    },
    "scrolled": true,
    "tags": []
   },
   "outputs": [
    {
     "name": "stdout",
     "output_type": "stream",
     "text": [
      "df_train\n",
      "X0 ['k' 'az' 't' 'al' 'o' 'w' 'j' 'h' 's' 'n' 'ay' 'f' 'x' 'y' 'aj' 'ak' 'am'\n",
      " 'z' 'q' 'at' 'ap' 'v' 'af' 'a' 'e' 'ai' 'd' 'aq' 'c' 'aa' 'ba' 'as' 'i'\n",
      " 'r' 'b' 'ax' 'bc' 'u' 'ad' 'au' 'm' 'l' 'aw' 'ao' 'ac' 'g' 'ab']\n",
      "df_test\n",
      "X0 ['az' 't' 'w' 'y' 'x' 'f' 'ap' 'o' 'ay' 'al' 'h' 'z' 'aj' 'd' 'v' 'ak'\n",
      " 'ba' 'n' 'j' 's' 'af' 'ax' 'at' 'aq' 'av' 'm' 'k' 'a' 'e' 'ai' 'i' 'ag'\n",
      " 'b' 'am' 'aw' 'as' 'r' 'ao' 'u' 'l' 'c' 'ad' 'au' 'bc' 'g' 'an' 'ae' 'p'\n",
      " 'bb']\n",
      "df_train\n",
      "X1 ['v' 't' 'w' 'b' 'r' 'l' 's' 'aa' 'c' 'a' 'e' 'h' 'z' 'j' 'o' 'u' 'p' 'n'\n",
      " 'i' 'y' 'd' 'f' 'm' 'k' 'g' 'q' 'ab']\n",
      "df_test\n",
      "X1 ['v' 'b' 'l' 's' 'aa' 'r' 'a' 'i' 'p' 'c' 'o' 'm' 'z' 'e' 'h' 'w' 'g' 'k'\n",
      " 'y' 't' 'u' 'd' 'j' 'q' 'n' 'f' 'ab']\n",
      "df_train\n",
      "X2 ['at' 'av' 'n' 'e' 'as' 'aq' 'r' 'ai' 'ak' 'm' 'a' 'k' 'ae' 's' 'f' 'd'\n",
      " 'ag' 'ay' 'ac' 'ap' 'g' 'i' 'aw' 'y' 'b' 'ao' 'al' 'h' 'x' 'au' 't' 'an'\n",
      " 'z' 'ah' 'p' 'am' 'j' 'q' 'af' 'l' 'aa' 'c' 'o' 'ar']\n",
      "df_test\n",
      "X2 ['n' 'ai' 'as' 'ae' 's' 'b' 'e' 'ak' 'm' 'a' 'aq' 'ag' 'r' 'k' 'aj' 'ay'\n",
      " 'ao' 'an' 'ac' 'af' 'ax' 'h' 'i' 'f' 'ap' 'p' 'au' 't' 'z' 'y' 'aw' 'd'\n",
      " 'at' 'g' 'am' 'j' 'x' 'ab' 'w' 'q' 'ah' 'ad' 'al' 'av' 'u']\n",
      "df_train\n",
      "X3 ['a' 'e' 'c' 'f' 'd' 'b' 'g']\n",
      "df_test\n",
      "X3 ['f' 'a' 'c' 'e' 'd' 'g' 'b']\n",
      "df_train\n",
      "X4 ['d' 'b' 'c' 'a']\n",
      "df_test\n",
      "X4 ['d' 'b' 'a' 'c']\n",
      "df_train\n",
      "X5 ['u' 'y' 'x' 'h' 'g' 'f' 'j' 'i' 'd' 'c' 'af' 'ag' 'ab' 'ac' 'ad' 'ae'\n",
      " 'ah' 'l' 'k' 'n' 'm' 'p' 'q' 's' 'r' 'v' 'w' 'o' 'aa']\n",
      "df_test\n",
      "X5 ['t' 'b' 'a' 'z' 'y' 'x' 'h' 'g' 'f' 'j' 'i' 'd' 'c' 'af' 'ag' 'ab' 'ac'\n",
      " 'ad' 'ae' 'ah' 'l' 'k' 'n' 'm' 'p' 'q' 's' 'r' 'v' 'w' 'o' 'aa']\n",
      "df_train\n",
      "X6 ['j' 'l' 'd' 'h' 'i' 'a' 'g' 'c' 'k' 'e' 'f' 'b']\n",
      "df_test\n",
      "X6 ['a' 'g' 'j' 'l' 'i' 'd' 'f' 'h' 'c' 'k' 'e' 'b']\n",
      "df_train\n",
      "X8 ['o' 'x' 'e' 'n' 's' 'a' 'h' 'p' 'm' 'k' 'd' 'i' 'v' 'j' 'b' 'q' 'w' 'g'\n",
      " 'y' 'l' 'f' 'u' 'r' 't' 'c']\n",
      "df_test\n",
      "X8 ['w' 'y' 'j' 'n' 'm' 's' 'a' 'v' 'r' 'o' 't' 'h' 'c' 'k' 'p' 'u' 'd' 'g'\n",
      " 'b' 'q' 'e' 'l' 'f' 'i' 'x']\n"
     ]
    }
   ],
   "source": [
    "for i in ['X0', 'X1', 'X2', 'X3', 'X4', 'X5', 'X6', 'X8']:\n",
    "    print('df_train')\n",
    "    print(i, df_train[i].unique())\n",
    "    print('df_test')\n",
    "    print(i, df_test[i].unique())    "
   ]
  },
  {
   "cell_type": "markdown",
   "id": "b9e5a7d2",
   "metadata": {
    "papermill": {
     "duration": 0.008689,
     "end_time": "2022-07-02T21:30:25.586236",
     "exception": false,
     "start_time": "2022-07-02T21:30:25.577547",
     "status": "completed"
    },
    "tags": []
   },
   "source": [
    "### Apply label encoder."
   ]
  },
  {
   "cell_type": "code",
   "execution_count": 19,
   "id": "1d1d75f5",
   "metadata": {
    "execution": {
     "iopub.execute_input": "2022-07-02T21:30:25.606491Z",
     "iopub.status.busy": "2022-07-02T21:30:25.605709Z",
     "iopub.status.idle": "2022-07-02T21:30:25.616211Z",
     "shell.execute_reply": "2022-07-02T21:30:25.614793Z"
    },
    "papermill": {
     "duration": 0.023717,
     "end_time": "2022-07-02T21:30:25.618964",
     "exception": false,
     "start_time": "2022-07-02T21:30:25.595247",
     "status": "completed"
    },
    "tags": []
   },
   "outputs": [],
   "source": [
    "df_train_x= df_train.drop(['ID','y'], axis=1)\n",
    "df_train_y=df_train['y']"
   ]
  },
  {
   "cell_type": "code",
   "execution_count": 20,
   "id": "621a70a7",
   "metadata": {
    "execution": {
     "iopub.execute_input": "2022-07-02T21:30:25.638632Z",
     "iopub.status.busy": "2022-07-02T21:30:25.638188Z",
     "iopub.status.idle": "2022-07-02T21:30:25.644240Z",
     "shell.execute_reply": "2022-07-02T21:30:25.643117Z"
    },
    "papermill": {
     "duration": 0.018374,
     "end_time": "2022-07-02T21:30:25.646295",
     "exception": false,
     "start_time": "2022-07-02T21:30:25.627921",
     "status": "completed"
    },
    "tags": []
   },
   "outputs": [
    {
     "name": "stdout",
     "output_type": "stream",
     "text": [
      "(4209, 359)\n",
      "(4209,)\n"
     ]
    }
   ],
   "source": [
    "print(df_train_x.shape)\n",
    "print(df_train_y.shape)"
   ]
  },
  {
   "cell_type": "code",
   "execution_count": 21,
   "id": "1a37b551",
   "metadata": {
    "execution": {
     "iopub.execute_input": "2022-07-02T21:30:25.667402Z",
     "iopub.status.busy": "2022-07-02T21:30:25.666699Z",
     "iopub.status.idle": "2022-07-02T21:30:25.677368Z",
     "shell.execute_reply": "2022-07-02T21:30:25.676074Z"
    },
    "papermill": {
     "duration": 0.024454,
     "end_time": "2022-07-02T21:30:25.680007",
     "exception": false,
     "start_time": "2022-07-02T21:30:25.655553",
     "status": "completed"
    },
    "tags": []
   },
   "outputs": [],
   "source": [
    "df_test_x= df_test.drop(['ID'], axis=1)"
   ]
  },
  {
   "cell_type": "code",
   "execution_count": 22,
   "id": "8bcd7d1d",
   "metadata": {
    "execution": {
     "iopub.execute_input": "2022-07-02T21:30:25.700091Z",
     "iopub.status.busy": "2022-07-02T21:30:25.699696Z",
     "iopub.status.idle": "2022-07-02T21:30:25.705254Z",
     "shell.execute_reply": "2022-07-02T21:30:25.704189Z"
    },
    "papermill": {
     "duration": 0.018542,
     "end_time": "2022-07-02T21:30:25.707863",
     "exception": false,
     "start_time": "2022-07-02T21:30:25.689321",
     "status": "completed"
    },
    "tags": []
   },
   "outputs": [
    {
     "name": "stdout",
     "output_type": "stream",
     "text": [
      "(4209, 359)\n",
      "(4209, 359)\n"
     ]
    }
   ],
   "source": [
    "print(df_test_x.shape)\n",
    "print(df_test_x.shape)"
   ]
  },
  {
   "cell_type": "code",
   "execution_count": 23,
   "id": "d47e9d90",
   "metadata": {
    "execution": {
     "iopub.execute_input": "2022-07-02T21:30:25.728158Z",
     "iopub.status.busy": "2022-07-02T21:30:25.727744Z",
     "iopub.status.idle": "2022-07-02T21:30:25.908264Z",
     "shell.execute_reply": "2022-07-02T21:30:25.907271Z"
    },
    "papermill": {
     "duration": 0.193701,
     "end_time": "2022-07-02T21:30:25.910842",
     "exception": false,
     "start_time": "2022-07-02T21:30:25.717141",
     "status": "completed"
    },
    "tags": []
   },
   "outputs": [],
   "source": [
    "from sklearn.preprocessing import LabelEncoder\n",
    "le= LabelEncoder()\n",
    "for i in train_desc.columns:\n",
    "    df_train_x[i]=le.fit_transform(df_train_x[i])\n",
    "for i in test_desc.columns:\n",
    "    df_test_x[i]=le.fit_transform(df_test_x[i])"
   ]
  },
  {
   "cell_type": "code",
   "execution_count": 24,
   "id": "1d20be8e",
   "metadata": {
    "execution": {
     "iopub.execute_input": "2022-07-02T21:30:25.932013Z",
     "iopub.status.busy": "2022-07-02T21:30:25.931279Z",
     "iopub.status.idle": "2022-07-02T21:30:26.025753Z",
     "shell.execute_reply": "2022-07-02T21:30:26.024287Z"
    },
    "papermill": {
     "duration": 0.107706,
     "end_time": "2022-07-02T21:30:26.028194",
     "exception": false,
     "start_time": "2022-07-02T21:30:25.920488",
     "status": "completed"
    },
    "tags": []
   },
   "outputs": [
    {
     "name": "stdout",
     "output_type": "stream",
     "text": [
      "(3156, 359) (3156,)\n",
      "(1053, 359) (1053,)\n"
     ]
    }
   ],
   "source": [
    "from sklearn.model_selection import train_test_split\n",
    "xtrain,xtest,ytrain,ytest=train_test_split(df_train_x,df_train_y, test_size=0.25, random_state=10)\n",
    "print(xtrain.shape,ytrain.shape)\n",
    "print(xtest.shape,ytest.shape)"
   ]
  },
  {
   "cell_type": "markdown",
   "id": "70bab524",
   "metadata": {
    "papermill": {
     "duration": 0.008806,
     "end_time": "2022-07-02T21:30:26.046204",
     "exception": false,
     "start_time": "2022-07-02T21:30:26.037398",
     "status": "completed"
    },
    "tags": []
   },
   "source": [
    "### Perform dimensionality reduction."
   ]
  },
  {
   "cell_type": "code",
   "execution_count": 25,
   "id": "2783d676",
   "metadata": {
    "execution": {
     "iopub.execute_input": "2022-07-02T21:30:26.066629Z",
     "iopub.status.busy": "2022-07-02T21:30:26.066215Z",
     "iopub.status.idle": "2022-07-02T21:30:26.309351Z",
     "shell.execute_reply": "2022-07-02T21:30:26.308177Z"
    },
    "papermill": {
     "duration": 0.2567,
     "end_time": "2022-07-02T21:30:26.312061",
     "exception": false,
     "start_time": "2022-07-02T21:30:26.055361",
     "status": "completed"
    },
    "tags": []
   },
   "outputs": [],
   "source": [
    "from sklearn.decomposition import PCA\n",
    "from xgboost import XGBRegressor\n",
    "from sklearn.metrics import accuracy_score"
   ]
  },
  {
   "cell_type": "code",
   "execution_count": 26,
   "id": "c2bcb469",
   "metadata": {
    "execution": {
     "iopub.execute_input": "2022-07-02T21:30:26.332589Z",
     "iopub.status.busy": "2022-07-02T21:30:26.332181Z",
     "iopub.status.idle": "2022-07-02T21:30:26.536411Z",
     "shell.execute_reply": "2022-07-02T21:30:26.534464Z"
    },
    "papermill": {
     "duration": 0.219156,
     "end_time": "2022-07-02T21:30:26.540320",
     "exception": false,
     "start_time": "2022-07-02T21:30:26.321164",
     "status": "completed"
    },
    "tags": []
   },
   "outputs": [
    {
     "name": "stdout",
     "output_type": "stream",
     "text": [
      "(3156, 359)\n",
      "(3156, 27)\n",
      "(1053, 359)\n",
      "(1053, 27)\n"
     ]
    }
   ],
   "source": [
    "pca =PCA(n_components=0.99, random_state=102)\n",
    "xtrain_trans=pca.fit_transform(xtrain)\n",
    "xtest_trans=pca.transform(xtest)\n",
    "print(xtrain.shape)\n",
    "print(xtrain_trans.shape)\n",
    "print(xtest.shape)\n",
    "print(xtest_trans.shape)"
   ]
  },
  {
   "cell_type": "markdown",
   "id": "afbbaa78",
   "metadata": {
    "papermill": {
     "duration": 0.031268,
     "end_time": "2022-07-02T21:30:26.602103",
     "exception": false,
     "start_time": "2022-07-02T21:30:26.570835",
     "status": "completed"
    },
    "tags": []
   },
   "source": [
    "### PCA on test file"
   ]
  },
  {
   "cell_type": "code",
   "execution_count": 27,
   "id": "2befb807",
   "metadata": {
    "execution": {
     "iopub.execute_input": "2022-07-02T21:30:26.649731Z",
     "iopub.status.busy": "2022-07-02T21:30:26.649288Z",
     "iopub.status.idle": "2022-07-02T21:30:26.831918Z",
     "shell.execute_reply": "2022-07-02T21:30:26.830156Z"
    },
    "papermill": {
     "duration": 0.206203,
     "end_time": "2022-07-02T21:30:26.835620",
     "exception": false,
     "start_time": "2022-07-02T21:30:26.629417",
     "status": "completed"
    },
    "tags": []
   },
   "outputs": [
    {
     "name": "stdout",
     "output_type": "stream",
     "text": [
      "(4209, 359)\n",
      "(4209, 27)\n"
     ]
    }
   ],
   "source": [
    "pca =PCA(n_components=0.99, random_state=102)\n",
    "df_train_trans=pca.fit_transform(df_train_x)\n",
    "print(df_train_x.shape)\n",
    "print(df_train_trans.shape)"
   ]
  },
  {
   "cell_type": "markdown",
   "id": "b2718567",
   "metadata": {
    "papermill": {
     "duration": 0.018187,
     "end_time": "2022-07-02T21:30:26.873391",
     "exception": false,
     "start_time": "2022-07-02T21:30:26.855204",
     "status": "completed"
    },
    "tags": []
   },
   "source": [
    "### Predict your test_df values using XGBoost."
   ]
  },
  {
   "cell_type": "code",
   "execution_count": 28,
   "id": "b50d7494",
   "metadata": {
    "execution": {
     "iopub.execute_input": "2022-07-02T21:30:26.913937Z",
     "iopub.status.busy": "2022-07-02T21:30:26.913256Z",
     "iopub.status.idle": "2022-07-02T21:30:26.923833Z",
     "shell.execute_reply": "2022-07-02T21:30:26.922487Z"
    },
    "papermill": {
     "duration": 0.034504,
     "end_time": "2022-07-02T21:30:26.926877",
     "exception": false,
     "start_time": "2022-07-02T21:30:26.892373",
     "status": "completed"
    },
    "tags": []
   },
   "outputs": [],
   "source": [
    "xgb=XGBRegressor(base_score=0.5, booster='gbtree', colsample_bylevel=1,colsample_bynode=1, colsample_bytree=0.5,\n",
    "                 enable_categorical=False, gamma=0, gpu_id=-1, importance_type=None, interaction_constraints='',\n",
    "                 learning_rate=0.05, max_delta_step=0, max_depth=8, min_child_weight=2, monotone_constraints='()',\n",
    "                 n_estimators=90, n_jobs=-1,num_parallel_tree=1, objective='reg:squarederror',predictor='auto', \n",
    "                 random_state=2341, reg_alpha=1e-06, reg_lambda=2,scale_pos_weight=19.3, subsample=1, tree_method='auto',\n",
    "                 validate_parameters=1, verbosity=0, eta=0.003)"
   ]
  },
  {
   "cell_type": "code",
   "execution_count": 29,
   "id": "62a1e14e",
   "metadata": {
    "execution": {
     "iopub.execute_input": "2022-07-02T21:30:26.953675Z",
     "iopub.status.busy": "2022-07-02T21:30:26.953268Z",
     "iopub.status.idle": "2022-07-02T21:30:27.956562Z",
     "shell.execute_reply": "2022-07-02T21:30:27.955356Z"
    },
    "papermill": {
     "duration": 1.016586,
     "end_time": "2022-07-02T21:30:27.958754",
     "exception": false,
     "start_time": "2022-07-02T21:30:26.942168",
     "status": "completed"
    },
    "tags": []
   },
   "outputs": [
    {
     "data": {
      "text/plain": [
       "XGBRegressor(base_score=0.5, booster='gbtree', callbacks=None,\n",
       "             colsample_bylevel=1, colsample_bynode=1, colsample_bytree=0.5,\n",
       "             early_stopping_rounds=None, enable_categorical=False, eta=0.003,\n",
       "             eval_metric=None, gamma=0, gpu_id=-1, grow_policy='depthwise',\n",
       "             importance_type=None, interaction_constraints='',\n",
       "             learning_rate=0.05, max_bin=256, max_cat_to_onehot=4,\n",
       "             max_delta_step=0, max_depth=8, max_leaves=0, min_child_weight=2,\n",
       "             missing=nan, monotone_constraints='()', n_estimators=90, n_jobs=-1,\n",
       "             num_parallel_tree=1, predictor='auto', random_state=2341,\n",
       "             reg_alpha=1e-06, ...)"
      ]
     },
     "execution_count": 29,
     "metadata": {},
     "output_type": "execute_result"
    }
   ],
   "source": [
    "xgb.fit(xtrain_trans,ytrain)"
   ]
  },
  {
   "cell_type": "code",
   "execution_count": 30,
   "id": "9a881fbe",
   "metadata": {
    "execution": {
     "iopub.execute_input": "2022-07-02T21:30:27.981507Z",
     "iopub.status.busy": "2022-07-02T21:30:27.980372Z",
     "iopub.status.idle": "2022-07-02T21:30:27.998355Z",
     "shell.execute_reply": "2022-07-02T21:30:27.997153Z"
    },
    "papermill": {
     "duration": 0.032374,
     "end_time": "2022-07-02T21:30:28.001181",
     "exception": false,
     "start_time": "2022-07-02T21:30:27.968807",
     "status": "completed"
    },
    "tags": []
   },
   "outputs": [
    {
     "data": {
      "text/plain": [
       "array([ 94.135284,  91.976555,  77.45166 , ..., 108.75849 ,  93.806   ,\n",
       "       107.99734 ], dtype=float32)"
      ]
     },
     "execution_count": 30,
     "metadata": {},
     "output_type": "execute_result"
    }
   ],
   "source": [
    "ypred=xgb.predict(xtest_trans)\n",
    "xgb.predict(xtest_trans)"
   ]
  },
  {
   "cell_type": "code",
   "execution_count": 31,
   "id": "24272cd7",
   "metadata": {
    "execution": {
     "iopub.execute_input": "2022-07-02T21:30:28.022418Z",
     "iopub.status.busy": "2022-07-02T21:30:28.021727Z",
     "iopub.status.idle": "2022-07-02T21:30:28.043796Z",
     "shell.execute_reply": "2022-07-02T21:30:28.042155Z"
    },
    "papermill": {
     "duration": 0.035462,
     "end_time": "2022-07-02T21:30:28.046279",
     "exception": false,
     "start_time": "2022-07-02T21:30:28.010817",
     "status": "completed"
    },
    "tags": []
   },
   "outputs": [
    {
     "name": "stdout",
     "output_type": "stream",
     "text": [
      "0.7937493626813619\n",
      "0.5220889925262919\n"
     ]
    }
   ],
   "source": [
    "print(xgb.score(xtrain_trans,ytrain))\n",
    "print(xgb.score(xtest_trans,ytest))"
   ]
  },
  {
   "cell_type": "markdown",
   "id": "f5faa03b",
   "metadata": {
    "papermill": {
     "duration": 0.009397,
     "end_time": "2022-07-02T21:30:28.065993",
     "exception": false,
     "start_time": "2022-07-02T21:30:28.056596",
     "status": "completed"
    },
    "tags": []
   },
   "source": [
    "### Prediction on Testing File"
   ]
  },
  {
   "cell_type": "code",
   "execution_count": 32,
   "id": "cf877ce8",
   "metadata": {
    "execution": {
     "iopub.execute_input": "2022-07-02T21:30:28.086478Z",
     "iopub.status.busy": "2022-07-02T21:30:28.086013Z",
     "iopub.status.idle": "2022-07-02T21:30:28.105969Z",
     "shell.execute_reply": "2022-07-02T21:30:28.104605Z"
    },
    "papermill": {
     "duration": 0.032981,
     "end_time": "2022-07-02T21:30:28.108494",
     "exception": false,
     "start_time": "2022-07-02T21:30:28.075513",
     "status": "completed"
    },
    "tags": []
   },
   "outputs": [
    {
     "data": {
      "text/plain": [
       "array([106.07155 ,  94.38018 ,  79.21786 , ...,  99.16892 ,  92.819405,\n",
       "        96.46678 ], dtype=float32)"
      ]
     },
     "execution_count": 32,
     "metadata": {},
     "output_type": "execute_result"
    }
   ],
   "source": [
    "xgb.predict(df_train_trans)"
   ]
  },
  {
   "cell_type": "code",
   "execution_count": null,
   "id": "a10cb94e",
   "metadata": {
    "papermill": {
     "duration": 0.009198,
     "end_time": "2022-07-02T21:30:28.127318",
     "exception": false,
     "start_time": "2022-07-02T21:30:28.118120",
     "status": "completed"
    },
    "tags": []
   },
   "outputs": [],
   "source": []
  }
 ],
 "metadata": {
  "kernelspec": {
   "display_name": "Python 3",
   "language": "python",
   "name": "python3"
  },
  "language_info": {
   "codemirror_mode": {
    "name": "ipython",
    "version": 3
   },
   "file_extension": ".py",
   "mimetype": "text/x-python",
   "name": "python",
   "nbconvert_exporter": "python",
   "pygments_lexer": "ipython3",
   "version": "3.7.12"
  },
  "papermill": {
   "default_parameters": {},
   "duration": 16.369953,
   "end_time": "2022-07-02T21:30:28.960025",
   "environment_variables": {},
   "exception": null,
   "input_path": "__notebook__.ipynb",
   "output_path": "__notebook__.ipynb",
   "parameters": {},
   "start_time": "2022-07-02T21:30:12.590072",
   "version": "2.3.4"
  }
 },
 "nbformat": 4,
 "nbformat_minor": 5
}
